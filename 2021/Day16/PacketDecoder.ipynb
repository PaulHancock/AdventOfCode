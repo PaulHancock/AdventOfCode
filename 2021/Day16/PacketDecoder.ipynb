{
 "cells": [
  {
   "cell_type": "markdown",
   "metadata": {},
   "source": [
    "```\n",
    "--- Day 16: Packet Decoder ---\n",
    "As you leave the cave and reach open waters, you receive a transmission from the Elves back on the ship.\n",
    "\n",
    "The transmission was sent using the Buoyancy Interchange Transmission System (BITS), a method of packing numeric expressions into a binary sequence. Your submarine's computer has saved the transmission in hexadecimal (your puzzle input).\n",
    "\n",
    "The first step of decoding the message is to convert the hexadecimal representation into binary. Each character of hexadecimal corresponds to four bits of binary data:\n",
    "\n",
    "0 = 0000\n",
    "1 = 0001\n",
    "2 = 0010\n",
    "3 = 0011\n",
    "4 = 0100\n",
    "5 = 0101\n",
    "6 = 0110\n",
    "7 = 0111\n",
    "8 = 1000\n",
    "9 = 1001\n",
    "A = 1010\n",
    "B = 1011\n",
    "C = 1100\n",
    "D = 1101\n",
    "E = 1110\n",
    "F = 1111\n",
    "The BITS transmission contains a single packet at its outermost layer which itself contains many other packets. The hexadecimal representation of this packet might encode a few extra 0 bits at the end; these are not part of the transmission and should be ignored.\n",
    "\n",
    "Every packet begins with a standard header: the first three bits encode the packet version, and the next three bits encode the packet type ID. These two values are numbers; all numbers encoded in any packet are represented as binary with the most significant bit first. For example, a version encoded as the binary sequence 100 represents the number 4.\n",
    "\n",
    "Packets with type ID 4 represent a literal value. Literal value packets encode a single binary number. To do this, the binary number is padded with leading zeroes until its length is a multiple of four bits, and then it is broken into groups of four bits. Each group is prefixed by a 1 bit except the last group, which is prefixed by a 0 bit. These groups of five bits immediately follow the packet header. For example, the hexadecimal string D2FE28 becomes:\n",
    "\n",
    "110100101111111000101000\n",
    "VVVTTTAAAAABBBBBCCCCC\n",
    "Below each bit is a label indicating its purpose:\n",
    "\n",
    "The three bits labeled V (110) are the packet version, 6.\n",
    "The three bits labeled T (100) are the packet type ID, 4, which means the packet is a literal value.\n",
    "The five bits labeled A (10111) start with a 1 (not the last group, keep reading) and contain the first four bits of the number, 0111.\n",
    "The five bits labeled B (11110) start with a 1 (not the last group, keep reading) and contain four more bits of the number, 1110.\n",
    "The five bits labeled C (00101) start with a 0 (last group, end of packet) and contain the last four bits of the number, 0101.\n",
    "The three unlabeled 0 bits at the end are extra due to the hexadecimal representation and should be ignored.\n",
    "So, this packet represents a literal value with binary representation 011111100101, which is 2021 in decimal.\n",
    "\n",
    "Every other type of packet (any packet with a type ID other than 4) represent an operator that performs some calculation on one or more sub-packets contained within. Right now, the specific operations aren't important; focus on parsing the hierarchy of sub-packets.\n",
    "\n",
    "An operator packet contains one or more packets. To indicate which subsequent binary data represents its sub-packets, an operator packet can use one of two modes indicated by the bit immediately after the packet header; this is called the length type ID:\n",
    "\n",
    "If the length type ID is 0, then the next 15 bits are a number that represents the total length in bits of the sub-packets contained by this packet.\n",
    "If the length type ID is 1, then the next 11 bits are a number that represents the number of sub-packets immediately contained by this packet.\n",
    "Finally, after the length type ID bit and the 15-bit or 11-bit field, the sub-packets appear.\n",
    "\n",
    "For example, here is an operator packet (hexadecimal string 38006F45291200) with length type ID 0 that contains two sub-packets:\n",
    "\n",
    "00111000000000000110111101000101001010010001001000000000\n",
    "VVVTTTILLLLLLLLLLLLLLLAAAAAAAAAAABBBBBBBBBBBBBBBB\n",
    "The three bits labeled V (001) are the packet version, 1.\n",
    "The three bits labeled T (110) are the packet type ID, 6, which means the packet is an operator.\n",
    "The bit labeled I (0) is the length type ID, which indicates that the length is a 15-bit number representing the number of bits in the sub-packets.\n",
    "The 15 bits labeled L (000000000011011) contain the length of the sub-packets in bits, 27.\n",
    "The 11 bits labeled A contain the first sub-packet, a literal value representing the number 10.\n",
    "The 16 bits labeled B contain the second sub-packet, a literal value representing the number 20.\n",
    "After reading 11 and 16 bits of sub-packet data, the total length indicated in L (27) is reached, and so parsing of this packet stops.\n",
    "\n",
    "As another example, here is an operator packet (hexadecimal string EE00D40C823060) with length type ID 1 that contains three sub-packets:\n",
    "\n",
    "11101110000000001101010000001100100000100011000001100000\n",
    "VVVTTTILLLLLLLLLLLAAAAAAAAAAABBBBBBBBBBBCCCCCCCCCCC\n",
    "The three bits labeled V (111) are the packet version, 7.\n",
    "The three bits labeled T (011) are the packet type ID, 3, which means the packet is an operator.\n",
    "The bit labeled I (1) is the length type ID, which indicates that the length is a 11-bit number representing the number of sub-packets.\n",
    "The 11 bits labeled L (00000000011) contain the number of sub-packets, 3.\n",
    "The 11 bits labeled A contain the first sub-packet, a literal value representing the number 1.\n",
    "The 11 bits labeled B contain the second sub-packet, a literal value representing the number 2.\n",
    "The 11 bits labeled C contain the third sub-packet, a literal value representing the number 3.\n",
    "After reading 3 complete sub-packets, the number of sub-packets indicated in L (3) is reached, and so parsing of this packet stops.\n",
    "\n",
    "For now, parse the hierarchy of the packets throughout the transmission and add up all of the version numbers.\n",
    "\n",
    "Here are a few more examples of hexadecimal-encoded transmissions:\n",
    "\n",
    "8A004A801A8002F478 represents an operator packet (version 4) which contains an operator packet (version 1) which contains an operator packet (version 5) which contains a literal value (version 6); this packet has a version sum of 16.\n",
    "620080001611562C8802118E34 represents an operator packet (version 3) which contains two sub-packets; each sub-packet is an operator packet that contains two literal values. This packet has a version sum of 12.\n",
    "C0015000016115A2E0802F182340 has the same structure as the previous example, but the outermost packet uses a different length type ID. This packet has a version sum of 23.\n",
    "A0016C880162017C3686B18A3D4780 is an operator packet that contains an operator packet that contains an operator packet that contains five literal values; it has a version sum of 31.\n",
    "Decode the structure of your hexadecimal-encoded BITS transmission; what do you get if you add up the version numbers in all packets?\n",
    "```"
   ]
  },
  {
   "cell_type": "code",
   "execution_count": 1,
   "metadata": {},
   "outputs": [],
   "source": [
    "from anytree import Node, RenderTree, NodeMixin\n",
    "import numpy as np"
   ]
  },
  {
   "cell_type": "code",
   "execution_count": 2,
   "metadata": {},
   "outputs": [],
   "source": [
    "def hex2bin(h):\n",
    "    return f\"{int(h,16):04b}\""
   ]
  },
  {
   "cell_type": "code",
   "execution_count": 3,
   "metadata": {},
   "outputs": [],
   "source": [
    "def read_file(infile):\n",
    "    data = open(infile).read()[:-1]\n",
    "    bits = ''.join(map(hex2bin, data))\n",
    "    return bits"
   ]
  },
  {
   "cell_type": "code",
   "execution_count": 4,
   "metadata": {},
   "outputs": [],
   "source": [
    "def pop_left(string, n):\n",
    "    return string[:n], string[n:]"
   ]
  },
  {
   "cell_type": "code",
   "execution_count": 5,
   "metadata": {},
   "outputs": [],
   "source": [
    "class MyBaseNode(object):\n",
    "    value = None\n",
    "    version = None\n",
    "    ptype = None\n",
    "\n",
    "class MyNode(MyBaseNode, NodeMixin):  # Add Node feature\n",
    "    def __init__(self, version, value=None, parent=None, children=None):\n",
    "        super(MyBaseNode, self).__init__()\n",
    "        self.version = version\n",
    "        self.value = value\n",
    "        self.parent = parent\n",
    "        self.children = []\n",
    "        if children:  # set children only if given\n",
    "            self.children = children"
   ]
  },
  {
   "cell_type": "code",
   "execution_count": 6,
   "metadata": {},
   "outputs": [],
   "source": [
    "operator = {0:np.sum, \n",
    "            1:np.prod, \n",
    "            2:np.min, \n",
    "            3:np.max, \n",
    "            5:lambda x: x[0]>x[1], \n",
    "            6:lambda x: x[0]<x[1], \n",
    "            7:lambda x: x[0]==x[1]}"
   ]
  },
  {
   "cell_type": "code",
   "execution_count": 7,
   "metadata": {},
   "outputs": [],
   "source": [
    "def make_nodes(bits, parent=None):\n",
    "        version, bits = pop_left(bits,3)\n",
    "        version = int(version,2)\n",
    "        ptype, bits = pop_left(bits, 3)\n",
    "        ptype = int(ptype,2)\n",
    "\n",
    "        this_node = MyNode(version, parent=parent)\n",
    "        \n",
    "        if ptype == 4:\n",
    "            # literal value\n",
    "            num = ''\n",
    "            for i in range(len(bits)//5):\n",
    "                chunk, bits = pop_left(bits, 5)\n",
    "                num += chunk[1:]\n",
    "                if chunk[0] == '0':\n",
    "                    break\n",
    "            value = int(num,2)\n",
    "            this_node.value = value\n",
    "            return this_node, bits\n",
    "        else:\n",
    "            # operator\n",
    "            i, bits = pop_left(bits,1)\n",
    "            i = int(i)\n",
    "            # find all the child nodes for this operator\n",
    "            children = []\n",
    "            if i == 0:\n",
    "                # multi bit\n",
    "                bit_length, bits = pop_left(bits, 15)\n",
    "                bit_length = int(bit_length,2)\n",
    "                n_packets = 1\n",
    "                packet, bits = pop_left(bits, bit_length)\n",
    "                while '1' in packet:\n",
    "                    node, packet = make_nodes(packet, parent=this_node)\n",
    "                    children.append(node)\n",
    "            elif i == 1:\n",
    "                # multi packet\n",
    "                n_packets, bits = pop_left(bits, 11)\n",
    "                n_packets = int(n_packets,2)\n",
    "                for i in range(n_packets):\n",
    "                    node, bits = make_nodes(bits, parent=this_node)\n",
    "                    children.append(node)\n",
    "            else:\n",
    "                print(f\"Error with i={i}\")\n",
    "            #print(f\"op is {operator[ptype]}\")\n",
    "            this_node.value = operator[ptype]([c.value for c in children])*1\n",
    "        return this_node, bits"
   ]
  },
  {
   "cell_type": "code",
   "execution_count": 8,
   "metadata": {},
   "outputs": [],
   "source": [
    "def solve1(infile):\n",
    "    mn, spare  = make_nodes(read_file(infile))\n",
    "    version = 0\n",
    "    for pre, fill, node in RenderTree(mn):\n",
    "        version += node.version\n",
    "    print(f\"Sum of versions: {version}\")\n",
    "    return mn, spare"
   ]
  },
  {
   "cell_type": "code",
   "execution_count": 9,
   "metadata": {},
   "outputs": [
    {
     "name": "stdout",
     "output_type": "stream",
     "text": [
      "Sum of versions: 996\n"
     ]
    }
   ],
   "source": [
    "mn, spare = solve1('input.txt')"
   ]
  },
  {
   "cell_type": "markdown",
   "metadata": {},
   "source": [
    "```\n",
    "--- Part Two ---\n",
    "Now that you have the structure of your transmission decoded, you can calculate the value of the expression it represents.\n",
    "\n",
    "Literal values (type ID 4) represent a single number as described above. The remaining type IDs are more interesting:\n",
    "\n",
    "Packets with type ID 0 are sum packets - their value is the sum of the values of their sub-packets. If they only have a single sub-packet, their value is the value of the sub-packet.\n",
    "Packets with type ID 1 are product packets - their value is the result of multiplying together the values of their sub-packets. If they only have a single sub-packet, their value is the value of the sub-packet.\n",
    "Packets with type ID 2 are minimum packets - their value is the minimum of the values of their sub-packets.\n",
    "Packets with type ID 3 are maximum packets - their value is the maximum of the values of their sub-packets.\n",
    "Packets with type ID 5 are greater than packets - their value is 1 if the value of the first sub-packet is greater than the value of the second sub-packet; otherwise, their value is 0. These packets always have exactly two sub-packets.\n",
    "Packets with type ID 6 are less than packets - their value is 1 if the value of the first sub-packet is less than the value of the second sub-packet; otherwise, their value is 0. These packets always have exactly two sub-packets.\n",
    "Packets with type ID 7 are equal to packets - their value is 1 if the value of the first sub-packet is equal to the value of the second sub-packet; otherwise, their value is 0. These packets always have exactly two sub-packets.\n",
    "Using these rules, you can now work out the value of the outermost packet in your BITS transmission.\n",
    "\n",
    "For example:\n",
    "\n",
    "C200B40A82 finds the sum of 1 and 2, resulting in the value 3.\n",
    "04005AC33890 finds the product of 6 and 9, resulting in the value 54.\n",
    "880086C3E88112 finds the minimum of 7, 8, and 9, resulting in the value 7.\n",
    "CE00C43D881120 finds the maximum of 7, 8, and 9, resulting in the value 9.\n",
    "D8005AC2A8F0 produces 1, because 5 is less than 15.\n",
    "F600BC2D8F produces 0, because 5 is not greater than 15.\n",
    "9C005AC2F8F0 produces 0, because 5 is not equal to 15.\n",
    "9C0141080250320F1802104A08 produces 1, because 1 + 3 = 2 * 2.\n",
    "```"
   ]
  },
  {
   "cell_type": "code",
   "execution_count": 10,
   "metadata": {},
   "outputs": [],
   "source": [
    "def solve2(infile):\n",
    "    mn, spare  = make_nodes(read_file(infile))\n",
    "    return mn.value"
   ]
  },
  {
   "cell_type": "code",
   "execution_count": 11,
   "metadata": {},
   "outputs": [
    {
     "data": {
      "text/plain": [
       "96257984154"
      ]
     },
     "execution_count": 11,
     "metadata": {},
     "output_type": "execute_result"
    }
   ],
   "source": [
    "solve2('input.txt')"
   ]
  },
  {
   "cell_type": "code",
   "execution_count": null,
   "metadata": {},
   "outputs": [],
   "source": []
  }
 ],
 "metadata": {
  "kernelspec": {
   "display_name": "Python 3",
   "language": "python",
   "name": "python3"
  },
  "language_info": {
   "codemirror_mode": {
    "name": "ipython",
    "version": 3
   },
   "file_extension": ".py",
   "mimetype": "text/x-python",
   "name": "python",
   "nbconvert_exporter": "python",
   "pygments_lexer": "ipython3",
   "version": "3.7.10"
  }
 },
 "nbformat": 4,
 "nbformat_minor": 4
}
