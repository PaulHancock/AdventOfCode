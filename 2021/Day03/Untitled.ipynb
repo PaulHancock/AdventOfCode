{
 "cells": [
  {
   "cell_type": "raw",
   "id": "14d3e337-91ff-43bf-ab8e-d83d8e33444d",
   "metadata": {},
   "source": [
    "The submarine has been making some odd creaking noises, so you ask it to produce a diagnostic report just in case.\n",
    "\n",
    "The diagnostic report (your puzzle input) consists of a list of binary numbers which, when decoded properly, can tell you many useful things about the conditions of the submarine. The first parameter to check is the power consumption.\n",
    "\n",
    "You need to use the binary numbers in the diagnostic report to generate two new binary numbers (called the gamma rate and the epsilon rate). The power consumption can then be found by multiplying the gamma rate by the epsilon rate.\n",
    "\n",
    "Each bit in the gamma rate can be determined by finding the most common bit in the corresponding position of all numbers in the diagnostic report. For example, given the following diagnostic report:\n",
    "\n",
    "00100\n",
    "11110\n",
    "10110\n",
    "10111\n",
    "10101\n",
    "01111\n",
    "00111\n",
    "11100\n",
    "10000\n",
    "11001\n",
    "00010\n",
    "01010\n",
    "Considering only the first bit of each number, there are five 0 bits and seven 1 bits. Since the most common bit is 1, the first bit of the gamma rate is 1.\n",
    "\n",
    "The most common second bit of the numbers in the diagnostic report is 0, so the second bit of the gamma rate is 0.\n",
    "\n",
    "The most common value of the third, fourth, and fifth bits are 1, 1, and 0, respectively, and so the final three bits of the gamma rate are 110.\n",
    "\n",
    "So, the gamma rate is the binary number 10110, or 22 in decimal.\n",
    "\n",
    "The epsilon rate is calculated in a similar way; rather than use the most common bit, the least common bit from each position is used. So, the epsilon rate is 01001, or 9 in decimal. Multiplying the gamma rate (22) by the epsilon rate (9) produces the power consumption, 198.\n",
    "\n",
    "Use the binary numbers in your diagnostic report to calculate the gamma rate and epsilon rate, then multiply them together. What is the power consumption of the submarine? (Be sure to represent your answer in decimal, not binary.)\n"
   ]
  },
  {
   "cell_type": "code",
   "execution_count": 1,
   "id": "f969cbc5-bed8-4be0-9154-77776da3712c",
   "metadata": {},
   "outputs": [],
   "source": [
    "import numpy as np"
   ]
  },
  {
   "cell_type": "code",
   "execution_count": 6,
   "id": "255d6bd1-c841-4d80-aa3d-f0662e50fd97",
   "metadata": {},
   "outputs": [],
   "source": [
    "data = [d.strip() for d in open('input.txt').readlines()]"
   ]
  },
  {
   "cell_type": "code",
   "execution_count": 13,
   "id": "fd7c4af2-c087-4827-9933-d621384478e8",
   "metadata": {},
   "outputs": [],
   "source": [
    "chars = [ [int(c) for c in d] for d in data]"
   ]
  },
  {
   "cell_type": "code",
   "execution_count": 14,
   "id": "863922fe-56cf-4729-9d9f-d7952be4c4b2",
   "metadata": {},
   "outputs": [],
   "source": [
    "nums = np.array(chars)"
   ]
  },
  {
   "cell_type": "code",
   "execution_count": 15,
   "id": "d85604d2-fccd-4ac3-963e-91cb23597ae9",
   "metadata": {},
   "outputs": [
    {
     "data": {
      "text/plain": [
       "array([[0, 0, 1, ..., 0, 1, 1],\n",
       "       [0, 0, 0, ..., 0, 1, 0],\n",
       "       [0, 1, 1, ..., 1, 1, 1],\n",
       "       ...,\n",
       "       [1, 1, 0, ..., 0, 0, 0],\n",
       "       [1, 0, 0, ..., 1, 1, 0],\n",
       "       [1, 1, 0, ..., 1, 1, 0]])"
      ]
     },
     "execution_count": 15,
     "metadata": {},
     "output_type": "execute_result"
    }
   ],
   "source": [
    "nums"
   ]
  },
  {
   "cell_type": "code",
   "execution_count": 21,
   "id": "4d8a4eab-504f-4101-b028-f98e7fa24f8c",
   "metadata": {},
   "outputs": [],
   "source": [
    "gamma = (nums.mean(axis=0)>0.5).astype(np.int32)\n",
    "eps = (nums.mean(axis=0)<0.5).astype(np.int32)"
   ]
  },
  {
   "cell_type": "code",
   "execution_count": 22,
   "id": "0a1040f9-f071-46d9-94b2-29a7e33dda7f",
   "metadata": {},
   "outputs": [
    {
     "data": {
      "text/plain": [
       "(array([0, 0, 0, 1, 1, 0, 1, 0, 0, 0, 1, 1], dtype=int32),\n",
       " array([1, 1, 1, 0, 0, 1, 0, 1, 1, 1, 0, 0], dtype=int32))"
      ]
     },
     "execution_count": 22,
     "metadata": {},
     "output_type": "execute_result"
    }
   ],
   "source": [
    "gamma,eps"
   ]
  },
  {
   "cell_type": "code",
   "execution_count": 38,
   "id": "6e33f331-a74b-4628-a7dc-1d3f07d6dcb4",
   "metadata": {},
   "outputs": [],
   "source": [
    "g = int(''.join(map(str,gamma)),2)\n",
    "e = int(''.join(map(str,eps)),2)"
   ]
  },
  {
   "cell_type": "code",
   "execution_count": 39,
   "id": "cf182d83-3107-4a5c-9762-c9b76bd52e43",
   "metadata": {},
   "outputs": [
    {
     "name": "stdout",
     "output_type": "stream",
     "text": [
      "1540244\n"
     ]
    }
   ],
   "source": [
    "print(g*e)"
   ]
  },
  {
   "cell_type": "raw",
   "id": "354018ea-2f5b-4ecf-8cf6-9c85d3ab0eb0",
   "metadata": {},
   "source": [
    "--- Part Two ---\n",
    "Next, you should verify the life support rating, which can be determined by multiplying the oxygen generator rating by the CO2 scrubber rating.\n",
    "\n",
    "Both the oxygen generator rating and the CO2 scrubber rating are values that can be found in your diagnostic report - finding them is the tricky part. Both values are located using a similar process that involves filtering out values until only one remains. Before searching for either rating value, start with the full list of binary numbers from your diagnostic report and consider just the first bit of those numbers. Then:\n",
    "\n",
    "Keep only numbers selected by the bit criteria for the type of rating value for which you are searching. Discard numbers which do not match the bit criteria.\n",
    "If you only have one number left, stop; this is the rating value for which you are searching.\n",
    "Otherwise, repeat the process, considering the next bit to the right.\n",
    "The bit criteria depends on which type of rating value you want to find:\n",
    "\n",
    "To find oxygen generator rating, determine the most common value (0 or 1) in the current bit position, and keep only numbers with that bit in that position. If 0 and 1 are equally common, keep values with a 1 in the position being considered.\n",
    "To find CO2 scrubber rating, determine the least common value (0 or 1) in the current bit position, and keep only numbers with that bit in that position. If 0 and 1 are equally common, keep values with a 0 in the position being considered.\n",
    "For example, to determine the oxygen generator rating value using the same example diagnostic report from above:\n",
    "\n",
    "Start with all 12 numbers and consider only the first bit of each number. There are more 1 bits (7) than 0 bits (5), so keep only the 7 numbers with a 1 in the first position: 11110, 10110, 10111, 10101, 11100, 10000, and 11001.\n",
    "Then, consider the second bit of the 7 remaining numbers: there are more 0 bits (4) than 1 bits (3), so keep only the 4 numbers with a 0 in the second position: 10110, 10111, 10101, and 10000.\n",
    "In the third position, three of the four numbers have a 1, so keep those three: 10110, 10111, and 10101.\n",
    "In the fourth position, two of the three numbers have a 1, so keep those two: 10110 and 10111.\n",
    "In the fifth position, there are an equal number of 0 bits and 1 bits (one each). So, to find the oxygen generator rating, keep the number with a 1 in that position: 10111.\n",
    "As there is only one number left, stop; the oxygen generator rating is 10111, or 23 in decimal.\n",
    "Then, to determine the CO2 scrubber rating value from the same example above:\n",
    "\n",
    "Start again with all 12 numbers and consider only the first bit of each number. There are fewer 0 bits (5) than 1 bits (7), so keep only the 5 numbers with a 0 in the first position: 00100, 01111, 00111, 00010, and 01010.\n",
    "Then, consider the second bit of the 5 remaining numbers: there are fewer 1 bits (2) than 0 bits (3), so keep only the 2 numbers with a 1 in the second position: 01111 and 01010.\n",
    "In the third position, there are an equal number of 0 bits and 1 bits (one each). So, to find the CO2 scrubber rating, keep the number with a 0 in that position: 01010.\n",
    "As there is only one number left, stop; the CO2 scrubber rating is 01010, or 10 in decimal.\n",
    "Finally, to find the life support rating, multiply the oxygen generator rating (23) by the CO2 scrubber rating (10) to get 230.\n",
    "\n",
    "Use the binary numbers in your diagnostic report to calculate the oxygen generator rating and CO2 scrubber rating, then multiply them together. What is the life support rating of the submarine? (Be sure to represent your answer in decimal, not binary.)"
   ]
  },
  {
   "cell_type": "code",
   "execution_count": 44,
   "id": "8dc3e1d2-dc08-4475-b3cb-1fb84ce6641e",
   "metadata": {},
   "outputs": [],
   "source": [
    "def most_common_bit(arr, idx):\n",
    "    s = 0\n",
    "    for a in arr:\n",
    "        s+=a[idx]\n",
    "    s /= arr.shape[0]\n",
    "    return (s>=0.5)*1"
   ]
  },
  {
   "cell_type": "code",
   "execution_count": 68,
   "id": "d4bbfd17-fd2c-440d-ad98-19137cf19555",
   "metadata": {},
   "outputs": [
    {
     "data": {
      "text/plain": [
       "[0, 0, 0, 1, 1, 0, 1, 0, 0, 0, 1, 1]"
      ]
     },
     "execution_count": 68,
     "metadata": {},
     "output_type": "execute_result"
    }
   ],
   "source": [
    "[most_common_bit(nums,i) for i in range(nums.shape[1])]"
   ]
  },
  {
   "cell_type": "code",
   "execution_count": 75,
   "id": "d7a00033-8eb1-470d-adcf-4183efb2f868",
   "metadata": {},
   "outputs": [
    {
     "name": "stdout",
     "output_type": "stream",
     "text": [
      "0 521\n",
      "1 261\n",
      "0 139\n",
      "0 70\n",
      "1 36\n",
      "0 21\n",
      "0 11\n",
      "0 6\n",
      "1 4\n",
      "0 3\n",
      "0 2\n",
      "1 1\n",
      "[[0 1 0 0 1 0 0 0 1 0 0 1]]\n"
     ]
    }
   ],
   "source": [
    "oxygen = None\n",
    "short_list = nums\n",
    "for i in range(nums.shape[1]):\n",
    "    common_bit = most_common_bit(short_list,i)\n",
    "    mask = short_list[:,i] == common_bit\n",
    "    short_list = short_list[mask]\n",
    "    print(common_bit, len(short_list))\n",
    "    if len(short_list) == 1:\n",
    "        print(short_list)\n",
    "        oxygen = short_list[0]\n",
    "        break"
   ]
  },
  {
   "cell_type": "code",
   "execution_count": 76,
   "id": "b079612d-e293-4283-8406-028acffd0173",
   "metadata": {},
   "outputs": [
    {
     "name": "stdout",
     "output_type": "stream",
     "text": [
      "1 479\n",
      "1 231\n",
      "1 115\n",
      "0 55\n",
      "0 27\n",
      "0 13\n",
      "1 6\n",
      "0 2\n",
      "0 1\n",
      "[[1 1 1 0 0 0 1 0 0 1 0 1]]\n"
     ]
    }
   ],
   "source": [
    "CO2 =None\n",
    "short_list = nums\n",
    "for i in range(nums.shape[1]):\n",
    "    common_bit = 1-most_common_bit(short_list,i)\n",
    "    mask = short_list[:,i] == common_bit\n",
    "    short_list = short_list[mask]\n",
    "    print(common_bit, len(short_list))\n",
    "    if len(short_list) == 1:\n",
    "        print(short_list)\n",
    "        CO2 = short_list[0]\n",
    "        break"
   ]
  },
  {
   "cell_type": "code",
   "execution_count": 77,
   "id": "e2a8f9ff-9d74-4ef3-beeb-a03c8538f6d7",
   "metadata": {},
   "outputs": [
    {
     "name": "stdout",
     "output_type": "stream",
     "text": [
      "4203981\n"
     ]
    }
   ],
   "source": [
    "o = int(''.join(map(str,oxygen)),2)\n",
    "c = int(''.join(map(str,CO2)),2)\n",
    "print(o*c)"
   ]
  },
  {
   "cell_type": "code",
   "execution_count": 82,
   "id": "bc446033-508c-495f-b1a7-f97ff097d749",
   "metadata": {},
   "outputs": [
    {
     "data": {
      "text/plain": [
       "3"
      ]
     },
     "execution_count": 82,
     "metadata": {},
     "output_type": "execute_result"
    }
   ],
   "source": [
    "int('0b11',0)"
   ]
  },
  {
   "cell_type": "code",
   "execution_count": 84,
   "id": "ff33159b-4345-4972-a40d-c14d61b8214d",
   "metadata": {},
   "outputs": [
    {
     "name": "stdout",
     "output_type": "stream",
     "text": [
      "Collecting seaborn\n",
      "  Downloading seaborn-0.11.2-py3-none-any.whl (292 kB)\n",
      "     |████████████████████████████████| 292 kB 10.8 MB/s            \n",
      "\u001b[?25hRequirement already satisfied: scipy>=1.0 in /home/paulhancock/.py3/lib/python3.8/site-packages (from seaborn) (1.7.1)\n",
      "Requirement already satisfied: pandas>=0.23 in /home/paulhancock/.py3/lib/python3.8/site-packages (from seaborn) (1.3.4)\n",
      "Requirement already satisfied: matplotlib>=2.2 in /home/paulhancock/.py3/lib/python3.8/site-packages (from seaborn) (3.4.2)\n",
      "Requirement already satisfied: numpy>=1.15 in /home/paulhancock/.py3/lib/python3.8/site-packages (from seaborn) (1.21.1)\n",
      "Requirement already satisfied: pyparsing>=2.2.1 in /home/paulhancock/.py3/lib/python3.8/site-packages (from matplotlib>=2.2->seaborn) (2.4.7)\n",
      "Requirement already satisfied: kiwisolver>=1.0.1 in /home/paulhancock/.py3/lib/python3.8/site-packages (from matplotlib>=2.2->seaborn) (1.3.1)\n",
      "Requirement already satisfied: pillow>=6.2.0 in /home/paulhancock/.py3/lib/python3.8/site-packages (from matplotlib>=2.2->seaborn) (8.3.1)\n",
      "Requirement already satisfied: python-dateutil>=2.7 in /home/paulhancock/.py3/lib/python3.8/site-packages (from matplotlib>=2.2->seaborn) (2.8.2)\n",
      "Requirement already satisfied: cycler>=0.10 in /home/paulhancock/.py3/lib/python3.8/site-packages (from matplotlib>=2.2->seaborn) (0.10.0)\n",
      "Requirement already satisfied: pytz>=2017.3 in /home/paulhancock/.py3/lib/python3.8/site-packages (from pandas>=0.23->seaborn) (2021.1)\n",
      "Requirement already satisfied: six in /home/paulhancock/.py3/lib/python3.8/site-packages (from cycler>=0.10->matplotlib>=2.2->seaborn) (1.16.0)\n",
      "Installing collected packages: seaborn\n",
      "Successfully installed seaborn-0.11.2\n"
     ]
    }
   ],
   "source": [
    "! pip install seaborn"
   ]
  },
  {
   "cell_type": "code",
   "execution_count": null,
   "id": "a72ed61d-5ef2-49ee-883d-537c3de52900",
   "metadata": {},
   "outputs": [],
   "source": []
  }
 ],
 "metadata": {
  "kernelspec": {
   "display_name": "Python 3.8.10 64-bit ('.py3': venv)",
   "language": "python",
   "name": "python3810jvsc74a57bd0b9a9f3261a017ac525a6d60225a1f15fb5f3be607379cc02a1f0701285d71002"
  },
  "language_info": {
   "codemirror_mode": {
    "name": "ipython",
    "version": 3
   },
   "file_extension": ".py",
   "mimetype": "text/x-python",
   "name": "python",
   "nbconvert_exporter": "python",
   "pygments_lexer": "ipython3",
   "version": "3.8.10"
  }
 },
 "nbformat": 4,
 "nbformat_minor": 5
}
