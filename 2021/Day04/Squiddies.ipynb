{
 "cells": [
  {
   "cell_type": "raw",
   "metadata": {},
   "source": [
    "--- Day 4: Giant Squid ---\n",
    "You're already almost 1.5km (almost a mile) below the surface of the ocean, already so deep that you can't see any sunlight. What you can see, however, is a giant squid that has attached itself to the outside of your submarine.\n",
    "\n",
    "Maybe it wants to play bingo?\n",
    "\n",
    "Bingo is played on a set of boards each consisting of a 5x5 grid of numbers. Numbers are chosen at random, and the chosen number is marked on all boards on which it appears. (Numbers may not appear on all boards.) If all numbers in any row or any column of a board are marked, that board wins. (Diagonals don't count.)\n",
    "\n",
    "The submarine has a bingo subsystem to help passengers (currently, you and the giant squid) pass the time. It automatically generates a random order in which to draw numbers and a random set of boards (your puzzle input). For example:\n",
    "7,4,9,5,11,17,23,2,0,14,21,24,10,16,13,6,15,25,12,22,18,20,8,19,3,26,1\n",
    "\n",
    "\n",
    "22 13 17 11  0\n",
    " 8  2 23  4 24\n",
    "21  9 14 16  7\n",
    " 6 10  3 18  5\n",
    " 1 12 20 15 19\n",
    "\n",
    " 3 15  0  2 22\n",
    " 9 18 13 17  5\n",
    "19  8  7 25 23\n",
    "20 11 10 24  4\n",
    "14 21 16 12  6\n",
    "\n",
    "14 21 17 24  4\n",
    "10 16 15  9 19\n",
    "18  8 23 26 20\n",
    "22 11 13  6  5\n",
    " 2  0 12  3  7\n",
    "After the first five numbers are drawn (7, 4, 9, 5, and 11), there are no winners, but the boards are marked as follows (shown here adjacent to each other to save space):\n",
    "\n",
    "22 13 17 11  0         3 15  0  2 22        14 21 17 24  4\n",
    " 8  2 23  4 24         9 18 13 17  5        10 16 15  9 19\n",
    "21  9 14 16  7        19  8  7 25 23        18  8 23 26 20\n",
    " 6 10  3 18  5        20 11 10 24  4        22 11 13  6  5\n",
    " 1 12 20 15 19        14 21 16 12  6         2  0 12  3  7\n",
    "After the next six numbers are drawn (17, 23, 2, 0, 14, and 21), there are still no winners:\n",
    "\n",
    "22 13 17 11  0         3 15  0  2 22        14 21 17 24  4\n",
    " 8  2 23  4 24         9 18 13 17  5        10 16 15  9 19\n",
    "21  9 14 16  7        19  8  7 25 23        18  8 23 26 20\n",
    " 6 10  3 18  5        20 11 10 24  4        22 11 13  6  5\n",
    " 1 12 20 15 19        14 21 16 12  6         2  0 12  3  7\n",
    "Finally, 24 is drawn:\n",
    "\n",
    "22 13 17 11  0         3 15  0  2 22        14 21 17 24  4\n",
    " 8  2 23  4 24         9 18 13 17  5        10 16 15  9 19\n",
    "21  9 14 16  7        19  8  7 25 23        18  8 23 26 20\n",
    " 6 10  3 18  5        20 11 10 24  4        22 11 13  6  5\n",
    " 1 12 20 15 19        14 21 16 12  6         2  0 12  3  7\n",
    "At this point, the third board wins because it has at least one complete row or column of marked numbers (in this case, the entire top row is marked: 14 21 17 24 4).\n",
    "\n",
    "The score of the winning board can now be calculated. Start by finding the sum of all unmarked numbers on that board; in this case, the sum is 188. Then, multiply that sum by the number that was just called when the board won, 24, to get the final score, 188 * 24 = 4512.\n",
    "\n",
    "To guarantee victory against the giant squid, figure out which board will win first. What will your final score be if you choose that board?"
   ]
  },
  {
   "cell_type": "code",
   "execution_count": 1,
   "metadata": {},
   "outputs": [],
   "source": [
    "import numpy as np"
   ]
  },
  {
   "cell_type": "code",
   "execution_count": 2,
   "metadata": {},
   "outputs": [],
   "source": [
    "sample_data = \"\"\"7,4,9,5,11,17,23,2,0,14,21,24,10,16,13,6,15,25,12,22,18,20,8,19,3,26,1\n",
    "\n",
    "22 13 17 11  0\n",
    " 8  2 23  4 24\n",
    "21  9 14 16  7\n",
    " 6 10  3 18  5\n",
    " 1 12 20 15 19\n",
    "\n",
    " 3 15  0  2 22\n",
    " 9 18 13 17  5\n",
    "19  8  7 25 23\n",
    "20 11 10 24  4\n",
    "14 21 16 12  6\n",
    "\n",
    "14 21 17 24  4\n",
    "10 16 15  9 19\n",
    "18  8 23 26 20\n",
    "22 11 13  6  5\n",
    " 2  0 12  3  7\"\"\""
   ]
  },
  {
   "cell_type": "code",
   "execution_count": 98,
   "metadata": {},
   "outputs": [],
   "source": [
    "sample_data = open('input.txt').read()"
   ]
  },
  {
   "cell_type": "code",
   "execution_count": 99,
   "metadata": {},
   "outputs": [],
   "source": [
    "first_line = sample_data.split('\\n')[0]\n",
    "called_numbers = first_line.split(',')\n",
    "called_numbers = list(map(int, called_numbers))\n",
    "called_numbers = np.array(called_numbers)"
   ]
  },
  {
   "cell_type": "code",
   "execution_count": 100,
   "metadata": {},
   "outputs": [
    {
     "data": {
      "text/plain": [
       "array([17, 11, 37,  7, 89, 48, 99, 28, 56, 55, 57, 27, 83, 59, 53, 72,  6,\n",
       "       87, 33, 82, 13, 23, 35, 40, 71, 47, 78,  2, 39,  4, 51,  1, 67, 31,\n",
       "       79, 69, 15, 73, 80, 22, 92, 95, 91, 43, 26, 97, 36, 34, 12, 96, 86,\n",
       "       52, 66, 94, 61, 76, 64, 77, 85, 98, 42, 68, 84, 63, 60, 30, 65, 19,\n",
       "       54, 58, 24, 20, 25, 75, 93, 16, 18, 44, 14, 88, 45, 10,  9,  3, 70,\n",
       "       74, 81, 90, 46, 38, 21, 49, 29, 50,  0,  5,  8, 32, 62, 41])"
      ]
     },
     "execution_count": 100,
     "metadata": {},
     "output_type": "execute_result"
    }
   ],
   "source": [
    "called_numbers"
   ]
  },
  {
   "cell_type": "code",
   "execution_count": 101,
   "metadata": {},
   "outputs": [],
   "source": [
    "boards = sample_data.split('\\n\\n')[1:]\n",
    "boards = [ b.split() for b in boards ]\n",
    "boards = [ list(map(int,b)) for b in boards ]\n",
    "boards = [ np.reshape(b, (5,5)) for b in boards]"
   ]
  },
  {
   "cell_type": "code",
   "execution_count": 102,
   "metadata": {},
   "outputs": [
    {
     "data": {
      "text/plain": [
       "[array([[57, 80, 91, 40, 12],\n",
       "        [62, 36, 72,  0, 20],\n",
       "        [55, 60, 25, 92, 96],\n",
       "        [14,  2, 17, 18, 86],\n",
       "        [ 1,  4, 90, 66, 38]]),\n",
       " array([[ 1, 25, 81, 16, 24],\n",
       "        [33, 40, 86, 28, 96],\n",
       "        [ 4, 97, 90, 32, 13],\n",
       "        [50, 38, 35, 14, 56],\n",
       "        [73, 42,  9, 36, 67]]),\n",
       " array([[46, 25, 28, 59, 88],\n",
       "        [33, 48, 15,  0, 95],\n",
       "        [16, 30, 24,  2, 71],\n",
       "        [11, 81, 58, 70, 65],\n",
       "        [37,  1, 26, 94, 75]]),\n",
       " array([[53, 56,  5, 72, 99],\n",
       "        [46, 27, 23, 49,  4],\n",
       "        [ 3, 93, 21, 65, 37],\n",
       "        [35,  7, 50, 32, 24],\n",
       "        [81, 78, 52, 54, 88]]),\n",
       " array([[76, 14, 58, 84, 17],\n",
       "        [ 5, 89, 97, 57, 15],\n",
       "        [19, 77, 35, 56, 93],\n",
       "        [31, 71, 92,  2, 39],\n",
       "        [10, 27, 91, 67, 47]])]"
      ]
     },
     "execution_count": 102,
     "metadata": {},
     "output_type": "execute_result"
    }
   ],
   "source": [
    "boards[:5]"
   ]
  },
  {
   "cell_type": "code",
   "execution_count": 103,
   "metadata": {},
   "outputs": [
    {
     "data": {
      "text/plain": [
       "100"
      ]
     },
     "execution_count": 103,
     "metadata": {},
     "output_type": "execute_result"
    }
   ],
   "source": [
    "len(boards)"
   ]
  },
  {
   "cell_type": "code",
   "execution_count": 68,
   "metadata": {},
   "outputs": [
    {
     "name": "stdout",
     "output_type": "stream",
     "text": [
      "[[ True  True  True  True  True]\n",
      " [False False False  True False]\n",
      " [False False  True False False]\n",
      " [False  True False False  True]\n",
      " [ True  True False False  True]]\n",
      "rows [ True False False False False]\n",
      "cols [False False False False False]\n",
      "Winner ?  True\n"
     ]
    }
   ],
   "source": [
    "scorecard = np.isin(boards[2], called_numbers[:12])\n",
    "rows = np.all(scorecard, axis=1)\n",
    "cols = np.all(scorecard, axis=0)\n",
    "print(scorecard)\n",
    "print(\"rows\", rows)\n",
    "print(\"cols\", cols)\n",
    "is_a_winner = np.any(rows) or np.any(cols)\n",
    "print(\"Winner ? \", is_a_winner)"
   ]
  },
  {
   "cell_type": "code",
   "execution_count": 71,
   "metadata": {},
   "outputs": [
    {
     "name": "stdout",
     "output_type": "stream",
     "text": [
      "score 4512\n"
     ]
    }
   ],
   "source": [
    "score = np.sum(boards[2][~scorecard]) * called_numbers[11]\n",
    "print(\"score\", score)"
   ]
  },
  {
   "cell_type": "code",
   "execution_count": 104,
   "metadata": {},
   "outputs": [],
   "source": [
    "def winning_score(board, called_numbers):\n",
    "    \"\"\"\n",
    "    Returns\n",
    "    i, score : int, int\n",
    "        The amount of numbers required to win and the winning score\n",
    "    \"\"\"\n",
    "    for i, num in enumerate(called_numbers):\n",
    "        scorecard = np.isin(board, called_numbers[:i+1])\n",
    "        rows = np.all(scorecard, axis=1)\n",
    "        cols = np.all(scorecard, axis=0)\n",
    "        is_a_winner = np.any(rows) or np.any(cols)\n",
    "        if is_a_winner:\n",
    "            score =  np.sum(board[~scorecard]) * num\n",
    "            return (i, score)"
   ]
  },
  {
   "cell_type": "code",
   "execution_count": 105,
   "metadata": {},
   "outputs": [
    {
     "data": {
      "text/plain": [
       "(70, 9624)"
      ]
     },
     "execution_count": 105,
     "metadata": {},
     "output_type": "execute_result"
    }
   ],
   "source": [
    "winning_score(boards[2], called_numbers)"
   ]
  },
  {
   "cell_type": "code",
   "execution_count": 113,
   "metadata": {},
   "outputs": [
    {
     "name": "stdout",
     "output_type": "stream",
     "text": [
      "best score is 55770\n",
      "fastest win: 26\n",
      "on board: [[16 62  3 75 84]\n",
      " [54 10  1  2 44]\n",
      " [21 42  0 99 64]\n",
      " [91 45 67 34 82]\n",
      " [83 78 17 53  6]]\n",
      "index is 75\n"
     ]
    }
   ],
   "source": [
    "fastest_win = np.inf\n",
    "fastest_score = None\n",
    "fastest_board = None\n",
    "fastest_index = None\n",
    "for i, b in enumerate(boards):\n",
    "    speed, score = winning_score(b, called_numbers)\n",
    "    if speed < fastest_win:\n",
    "        fastest_win = speed\n",
    "        fastest_score = score\n",
    "        fastest_board = b\n",
    "        fastest_index = i\n",
    "print(\"best score is\", fastest_score)\n",
    "print(\"fastest win:\", fastest_win)\n",
    "print(\"on board:\", fastest_board)\n",
    "print('index is', fastest_index)"
   ]
  },
  {
   "cell_type": "raw",
   "metadata": {},
   "source": [
    "--- Part Two ---\n",
    "On the other hand, it might be wise to try a different strategy: let the giant squid win.\n",
    "\n",
    "You aren't sure how many bingo boards a giant squid could play at once, so rather than waste time counting its arms, the safe thing to do is to figure out which board will win last and choose that one. That way, no matter which boards it picks, it will win for sure.\n",
    "\n",
    "In the above example, the second board is the last to win, which happens after 13 is eventually called and its middle column is completely marked. If you were to keep playing until this point, the second board would have a sum of unmarked numbers equal to 148 for a final score of 148 * 13 = 1924.\n",
    "\n",
    "Figure out which board will win last. Once it wins, what would its final score be?"
   ]
  },
  {
   "cell_type": "code",
   "execution_count": 114,
   "metadata": {},
   "outputs": [
    {
     "name": "stdout",
     "output_type": "stream",
     "text": [
      "best score is 2980\n",
      "slowest win: 81\n",
      "on board: [[61 52  9 18 70]\n",
      " [41 53 90 94 87]\n",
      " [80 20  0 11 42]\n",
      " [ 8 46 63 29  5]\n",
      " [34 15  7 91 10]]\n",
      "index is 44\n"
     ]
    }
   ],
   "source": [
    "slowest_win = 0\n",
    "slowest_score = None\n",
    "slowest_board = None\n",
    "slowest_index = None\n",
    "for i, b in enumerate(boards):\n",
    "    speed, score = winning_score(b, called_numbers)\n",
    "    if speed > slowest_win:\n",
    "        slowest_win = speed\n",
    "        slowest_score = score\n",
    "        slowest_board = b\n",
    "        slowest_index = i\n",
    "print(\"best score is\", slowest_score)\n",
    "print(\"slowest win:\", slowest_win)\n",
    "print(\"on board:\", slowest_board)\n",
    "print('index is', slowest_index)"
   ]
  },
  {
   "cell_type": "code",
   "execution_count": null,
   "metadata": {},
   "outputs": [],
   "source": []
  }
 ],
 "metadata": {
  "kernelspec": {
   "display_name": "Python 3",
   "language": "python",
   "name": "python3"
  },
  "language_info": {
   "codemirror_mode": {
    "name": "ipython",
    "version": 3
   },
   "file_extension": ".py",
   "mimetype": "text/x-python",
   "name": "python",
   "nbconvert_exporter": "python",
   "pygments_lexer": "ipython3",
   "version": "3.8.5"
  }
 },
 "nbformat": 4,
 "nbformat_minor": 4
}
