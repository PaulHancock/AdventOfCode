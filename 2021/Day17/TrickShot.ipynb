{
 "cells": [
  {
   "cell_type": "markdown",
   "id": "fcc913bc-50d8-4cbe-a1ff-f501538eb7a1",
   "metadata": {},
   "source": [
    "```\n",
    "--- Day 17: Trick Shot ---\n",
    "You finally decode the Elves' message. HI, the message says. You continue searching for the sleigh keys.\n",
    "\n",
    "Ahead of you is what appears to be a large ocean trench. Could the keys have fallen into it? You'd better send a probe to investigate.\n",
    "\n",
    "The probe launcher on your submarine can fire the probe with any integer velocity in the x (forward) and y (upward, or downward if negative) directions. For example, an initial x,y velocity like 0,10 would fire the probe straight up, while an initial velocity like 10,-1 would fire the probe forward at a slight downward angle.\n",
    "\n",
    "The probe's x,y position starts at 0,0. Then, it will follow some trajectory by moving in steps. On each step, these changes occur in the following order:\n",
    "\n",
    "The probe's x position increases by its x velocity.\n",
    "The probe's y position increases by its y velocity.\n",
    "Due to drag, the probe's x velocity changes by 1 toward the value 0; that is, it decreases by 1 if it is greater than 0, increases by 1 if it is less than 0, or does not change if it is already 0.\n",
    "Due to gravity, the probe's y velocity decreases by 1.\n",
    "For the probe to successfully make it into the trench, the probe must be on some trajectory that causes it to be within a target area after any step. The submarine computer has already calculated this target area (your puzzle input). For example:\n",
    "\n",
    "target area: x=20..30, y=-10..-5\n",
    "This target area means that you need to find initial x,y velocity values such that after any step, the probe's x position is at least 20 and at most 30, and the probe's y position is at least -10 and at most -5.\n",
    "\n",
    "Given this target area, one initial velocity that causes the probe to be within the target area after any step is 7,2:\n",
    "\n",
    ".............#....#............\n",
    ".......#..............#........\n",
    "...............................\n",
    "S........................#.....\n",
    "...............................\n",
    "...............................\n",
    "...........................#...\n",
    "...............................\n",
    "....................TTTTTTTTTTT\n",
    "....................TTTTTTTTTTT\n",
    "....................TTTTTTTT#TT\n",
    "....................TTTTTTTTTTT\n",
    "....................TTTTTTTTTTT\n",
    "....................TTTTTTTTTTT\n",
    "In this diagram, S is the probe's initial position, 0,0. The x coordinate increases to the right, and the y coordinate increases upward. In the bottom right, positions that are within the target area are shown as T. After each step (until the target area is reached), the position of the probe is marked with #. (The bottom-right # is both a position the probe reaches and a position in the target area.)\n",
    "\n",
    "Another initial velocity that causes the probe to be within the target area after any step is 6,3:\n",
    "\n",
    "...............#..#............\n",
    "...........#........#..........\n",
    "...............................\n",
    "......#..............#.........\n",
    "...............................\n",
    "...............................\n",
    "S....................#.........\n",
    "...............................\n",
    "...............................\n",
    "...............................\n",
    ".....................#.........\n",
    "....................TTTTTTTTTTT\n",
    "....................TTTTTTTTTTT\n",
    "....................TTTTTTTTTTT\n",
    "....................TTTTTTTTTTT\n",
    "....................T#TTTTTTTTT\n",
    "....................TTTTTTTTTTT\n",
    "Another one is 9,0:\n",
    "\n",
    "S........#.....................\n",
    ".................#.............\n",
    "...............................\n",
    "........................#......\n",
    "...............................\n",
    "....................TTTTTTTTTTT\n",
    "....................TTTTTTTTTT#\n",
    "....................TTTTTTTTTTT\n",
    "....................TTTTTTTTTTT\n",
    "....................TTTTTTTTTTT\n",
    "....................TTTTTTTTTTT\n",
    "One initial velocity that doesn't cause the probe to be within the target area after any step is 17,-4:\n",
    "\n",
    "S..............................................................\n",
    "...............................................................\n",
    "...............................................................\n",
    "...............................................................\n",
    ".................#.............................................\n",
    "....................TTTTTTTTTTT................................\n",
    "....................TTTTTTTTTTT................................\n",
    "....................TTTTTTTTTTT................................\n",
    "....................TTTTTTTTTTT................................\n",
    "....................TTTTTTTTTTT..#.............................\n",
    "....................TTTTTTTTTTT................................\n",
    "...............................................................\n",
    "...............................................................\n",
    "...............................................................\n",
    "...............................................................\n",
    "................................................#..............\n",
    "...............................................................\n",
    "...............................................................\n",
    "...............................................................\n",
    "...............................................................\n",
    "...............................................................\n",
    "...............................................................\n",
    "..............................................................#\n",
    "The probe appears to pass through the target area, but is never within it after any step. Instead, it continues down and to the right - only the first few steps are shown.\n",
    "\n",
    "If you're going to fire a highly scientific probe out of a super cool probe launcher, you might as well do it with style. How high can you make the probe go while still reaching the target area?\n",
    "\n",
    "In the above example, using an initial velocity of 6,9 is the best you can do, causing the probe to reach a maximum y position of 45. (Any higher initial y velocity causes the probe to overshoot the target area entirely.)\n",
    "\n",
    "Find the initial velocity that causes the probe to reach the highest y position and still eventually be within the target area after any step. What is the highest y position it reaches on this trajectory?\n",
    "\n",
    "```"
   ]
  },
  {
   "cell_type": "code",
   "execution_count": 1,
   "id": "91fb5ea5-ad16-44f2-bdcf-d2207d57d8cd",
   "metadata": {},
   "outputs": [],
   "source": [
    "import numpy as np"
   ]
  },
  {
   "cell_type": "code",
   "execution_count": 2,
   "id": "da3fd28d-3613-4737-9033-c075f73da92d",
   "metadata": {},
   "outputs": [],
   "source": [
    "def step(loc, vel):\n",
    "    loc[0] += vel[0]\n",
    "    loc[1] += vel[1]\n",
    "    if vel[0]>0:\n",
    "        vel[0] -=1\n",
    "    elif vel[0]<0:\n",
    "        vel[0] +=1\n",
    "    vel[1] -=1\n",
    "    return loc, vel"
   ]
  },
  {
   "cell_type": "code",
   "execution_count": 3,
   "id": "d49c9f01-4110-42cc-aa04-6bc2d8bad875",
   "metadata": {},
   "outputs": [],
   "source": [
    "def check_within(loc, xr,yr):\n",
    "    if (xr[0]<=loc[0]<=xr[1]) and (yr[0]<=loc[1]<=yr[1]):\n",
    "        return True\n",
    "    else:\n",
    "        return False"
   ]
  },
  {
   "cell_type": "code",
   "execution_count": 4,
   "id": "1163c6ea-0d3d-46de-970f-a8606e06f674",
   "metadata": {},
   "outputs": [],
   "source": [
    "def load_target(infile):\n",
    "    data = open(infile).read()[:-1]\n",
    "    area = data.split(':')[-1]\n",
    "    x,y = area.split(',')\n",
    "    x_range = x.split('=')[-1].strip()\n",
    "    x_range = [int(x) for x in x_range.split('..')]\n",
    "    #x_range = slice(x_range[0], x_range[1]+2)\n",
    "    \n",
    "    y_range = y.split('=')[-1].strip()\n",
    "    y_range = [int(y) for y in y_range.split('..')]\n",
    "    #y_range = slice(y_range[0], y_range[1]+2)\n",
    "    return x_range, y_range"
   ]
  },
  {
   "cell_type": "code",
   "execution_count": 5,
   "id": "a7dd7145-0a7a-4c13-8578-3ce6645c6efb",
   "metadata": {},
   "outputs": [],
   "source": [
    "def hits_target(loc, vel, xr, yr):\n",
    "    highest = 0\n",
    "    while (loc[1] > yr[0]) and (loc[0] < xr[1]):\n",
    "        loc, vel = step(loc, vel)\n",
    "        highest = max(loc[1],highest)\n",
    "        #print(loc, vel)\n",
    "        if check_within(loc, xr, yr):\n",
    "            #print(\"bingo\")\n",
    "            return True, highest\n",
    "    return False, highest"
   ]
  },
  {
   "cell_type": "code",
   "execution_count": 6,
   "id": "f585cb1b-41fc-4849-bb06-444fc233be65",
   "metadata": {},
   "outputs": [],
   "source": [
    "def solution1(infile):\n",
    "    xr, yr =load_target(infile)\n",
    "    best_vel = None\n",
    "    highest = 0\n",
    "    xmx = max(xr)+1\n",
    "    ymx = max(np.abs(yr))+1\n",
    "    for x in range(-xmx,xmx ):\n",
    "        for y in range(0-ymx, ymx ):\n",
    "            hit, height = hits_target([0,0], [x,y], xr, yr)\n",
    "            #print(x,y, hit, height)\n",
    "            if hit and (height>highest):\n",
    "                highest=height\n",
    "                best_vel = [x,y]\n",
    "    print(f\"Greatest height {highest} reached for v={best_vel}\")"
   ]
  },
  {
   "cell_type": "code",
   "execution_count": 7,
   "id": "f319a5e5-6fff-4d33-ad7c-7ffdef3ffab4",
   "metadata": {},
   "outputs": [
    {
     "name": "stdout",
     "output_type": "stream",
     "text": [
      "Greatest height 7750 reached for v=[17, 124]\n"
     ]
    }
   ],
   "source": [
    "solution1('input.txt')"
   ]
  },
  {
   "cell_type": "markdown",
   "id": "722318cb-3d1e-4539-aa16-964ab241dbfb",
   "metadata": {},
   "source": [
    "```\n",
    "--- Part Two ---\n",
    "Maybe a fancy trick shot isn't the best idea; after all, you only have one probe, so you had better not miss.\n",
    "\n",
    "To get the best idea of what your options are for launching the probe, you need to find every initial velocity that causes the probe to eventually be within the target area after any step.\n",
    "\n",
    "In the above example, there are 112 different initial velocity values that meet these criteria:\n",
    "\n",
    "23,-10  25,-9   27,-5   29,-6   22,-6   21,-7   9,0     27,-7   24,-5\n",
    "25,-7   26,-6   25,-5   6,8     11,-2   20,-5   29,-10  6,3     28,-7\n",
    "8,0     30,-6   29,-8   20,-10  6,7     6,4     6,1     14,-4   21,-6\n",
    "26,-10  7,-1    7,7     8,-1    21,-9   6,2     20,-7   30,-10  14,-3\n",
    "20,-8   13,-2   7,3     28,-8   29,-9   15,-3   22,-5   26,-8   25,-8\n",
    "25,-6   15,-4   9,-2    15,-2   12,-2   28,-9   12,-3   24,-6   23,-7\n",
    "25,-10  7,8     11,-3   26,-7   7,1     23,-9   6,0     22,-10  27,-6\n",
    "8,1     22,-8   13,-4   7,6     28,-6   11,-4   12,-4   26,-9   7,4\n",
    "24,-10  23,-8   30,-8   7,0     9,-1    10,-1   26,-5   22,-9   6,5\n",
    "7,5     23,-6   28,-10  10,-2   11,-1   20,-9   14,-2   29,-7   13,-3\n",
    "23,-5   24,-8   27,-9   30,-7   28,-5   21,-10  7,9     6,6     21,-5\n",
    "27,-10  7,2     30,-9   21,-8   22,-7   24,-9   20,-6   6,9     29,-5\n",
    "8,-2    27,-8   30,-5   24,-7\n",
    "How many distinct initial velocity values cause the probe to be within the target area after any step?\n",
    "```"
   ]
  },
  {
   "cell_type": "code",
   "execution_count": 10,
   "id": "bb0fb78d-6a61-47c2-bd91-daee3a172a2e",
   "metadata": {},
   "outputs": [],
   "source": [
    "def solution2(infile):\n",
    "    xr, yr =load_target(infile)\n",
    "    hit_list = []\n",
    "    xmx = max(xr)+1\n",
    "    ymx = max(np.abs(yr))+1\n",
    "    for x in range(-xmx,xmx ):\n",
    "        for y in range(0-ymx, ymx ):\n",
    "            hit, height = hits_target([0,0], [x,y], xr, yr)\n",
    "            if hit:\n",
    "                hit_list.append([x,y])\n",
    "    print(f\"There are {len(hit_list)} values that will hit the target\")\n",
    "    "
   ]
  },
  {
   "cell_type": "code",
   "execution_count": 11,
   "id": "77a30efb-09ce-4d1e-b932-72408d1b9a2b",
   "metadata": {},
   "outputs": [
    {
     "name": "stdout",
     "output_type": "stream",
     "text": [
      "There are 112 values that will hit the target\n"
     ]
    }
   ],
   "source": [
    "\n",
    "solution2('ex1.txt')"
   ]
  },
  {
   "cell_type": "code",
   "execution_count": 12,
   "id": "9c23f3b2-41af-4f1a-9619-a27305c760f2",
   "metadata": {},
   "outputs": [
    {
     "name": "stdout",
     "output_type": "stream",
     "text": [
      "There are 4120 values that will hit the target\n"
     ]
    }
   ],
   "source": [
    "solution2('input.txt')"
   ]
  }
 ],
 "metadata": {
  "kernelspec": {
   "display_name": "Python 3.8.10 64-bit ('.py3': venv)",
   "language": "python",
   "name": "python3810jvsc74a57bd0b9a9f3261a017ac525a6d60225a1f15fb5f3be607379cc02a1f0701285d71002"
  },
  "language_info": {
   "codemirror_mode": {
    "name": "ipython",
    "version": 3
   },
   "file_extension": ".py",
   "mimetype": "text/x-python",
   "name": "python",
   "nbconvert_exporter": "python",
   "pygments_lexer": "ipython3",
   "version": "3.8.10"
  }
 },
 "nbformat": 4,
 "nbformat_minor": 5
}
