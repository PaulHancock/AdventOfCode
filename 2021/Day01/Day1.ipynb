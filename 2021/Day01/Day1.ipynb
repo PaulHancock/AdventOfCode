{
 "cells": [
  {
   "cell_type": "code",
   "execution_count": 1,
   "id": "ea83c98c-4599-46b0-9954-7725a18a2db8",
   "metadata": {},
   "outputs": [],
   "source": [
    "import numpy as np"
   ]
  },
  {
   "cell_type": "code",
   "execution_count": 28,
   "id": "ba7ee67c-5125-4261-b34d-84daa8deb88c",
   "metadata": {},
   "outputs": [],
   "source": [
    "def fwd_diff(arr):\n",
    "    return arr[1:]-arr[:-1]"
   ]
  },
  {
   "cell_type": "code",
   "execution_count": 35,
   "id": "ba91ad51-0857-41ad-beb4-70a047a76e59",
   "metadata": {},
   "outputs": [],
   "source": [
    "data = open('Q1.txt').readlines()\n",
    "data = list(map(int, data))\n",
    "data =np.array(data)"
   ]
  },
  {
   "cell_type": "code",
   "execution_count": 36,
   "id": "c3e15525-905f-4dd3-871d-981b6d16cf73",
   "metadata": {},
   "outputs": [
    {
     "data": {
      "text/plain": [
       "1548"
      ]
     },
     "execution_count": 36,
     "metadata": {},
     "output_type": "execute_result"
    }
   ],
   "source": [
    "np.sum(fwd_diff(data) >0)"
   ]
  },
  {
   "cell_type": "code",
   "execution_count": 37,
   "id": "b0b2c57e-216e-449a-a1c9-ff8b2fad022a",
   "metadata": {},
   "outputs": [
    {
     "data": {
      "text/plain": [
       "(array([157, 148, 149, 146, 144, 145, 162, 163, 164, 166]),\n",
       " array([7974, 7976, 7989, 7993, 8006, 8007, 8010, 8016, 8020, 8026]))"
      ]
     },
     "execution_count": 37,
     "metadata": {},
     "output_type": "execute_result"
    }
   ],
   "source": [
    "data[:10], data[-10:]"
   ]
  },
  {
   "cell_type": "code",
   "execution_count": 44,
   "id": "731d5edd-fa5d-4386-9cc6-dd64ed0ed40f",
   "metadata": {},
   "outputs": [
    {
     "name": "stdout",
     "output_type": "stream",
     "text": [
      "[454 443 439 435 451 470 489 493 503 525] [  454   443   439 ... 23750 23776 23804]\n",
      "1998\n"
     ]
    }
   ],
   "source": [
    "window = []\n",
    "for i in range(len(data)-2):\n",
    "    # print(data[i:i+3])\n",
    "    window.append(np.sum(data[i:i+3]))\n",
    "window = np.array(window)\n",
    "print(window[:10], window[:-10])\n",
    "print(len(window))"
   ]
  },
  {
   "cell_type": "code",
   "execution_count": 45,
   "id": "21ed5a2b-1da8-4c84-a742-3960ae2eb25f",
   "metadata": {},
   "outputs": [
    {
     "data": {
      "text/plain": [
       "1589"
      ]
     },
     "execution_count": 45,
     "metadata": {},
     "output_type": "execute_result"
    }
   ],
   "source": [
    "np.sum(fwd_diff(window) >0)"
   ]
  },
  {
   "cell_type": "code",
   "execution_count": 46,
   "id": "cf2bd696-464c-4272-997c-76282583c939",
   "metadata": {},
   "outputs": [
    {
     "data": {
      "text/plain": [
       "array([-11,  -4,  -4,  16,  19,  19,   4,  10,  22])"
      ]
     },
     "execution_count": 46,
     "metadata": {},
     "output_type": "execute_result"
    }
   ],
   "source": [
    "fwd_diff(window[:10])"
   ]
  },
  {
   "cell_type": "code",
   "execution_count": 48,
   "id": "214871b3-947c-4632-af8f-4db3a78cba14",
   "metadata": {},
   "outputs": [
    {
     "data": {
      "text/plain": [
       "array([7974, 7976, 7989, 7993, 8006, 8007, 8010, 8016, 8020, 8026])"
      ]
     },
     "execution_count": 48,
     "metadata": {},
     "output_type": "execute_result"
    }
   ],
   "source": [
    "data[1990:5001]"
   ]
  },
  {
   "cell_type": "code",
   "execution_count": 49,
   "id": "267ff654-2f07-41f3-b21f-c9b1e8cee79a",
   "metadata": {},
   "outputs": [],
   "source": [
    "a =data"
   ]
  },
  {
   "cell_type": "code",
   "execution_count": 52,
   "id": "c3968265-6942-4ae1-a870-aca051a02cf3",
   "metadata": {},
   "outputs": [
    {
     "data": {
      "text/plain": [
       "1548"
      ]
     },
     "execution_count": 52,
     "metadata": {},
     "output_type": "execute_result"
    }
   ],
   "source": [
    "f=lambda a:sum([a[i+1]-a[i]>0for i in range(len(a)-1)])\n",
    "f=lambda a:np.sum((a[1:]-a[:-1])>0)\n",
    "f(a)"
   ]
  },
  {
   "cell_type": "code",
   "execution_count": null,
   "id": "fdf3287e-5844-4ee6-80d8-080a01fbac01",
   "metadata": {},
   "outputs": [],
   "source": []
  }
 ],
 "metadata": {
  "kernelspec": {
   "display_name": "Python 3.8.10 64-bit ('.py3': venv)",
   "language": "python",
   "name": "python3810jvsc74a57bd0b9a9f3261a017ac525a6d60225a1f15fb5f3be607379cc02a1f0701285d71002"
  },
  "language_info": {
   "codemirror_mode": {
    "name": "ipython",
    "version": 3
   },
   "file_extension": ".py",
   "mimetype": "text/x-python",
   "name": "python",
   "nbconvert_exporter": "python",
   "pygments_lexer": "ipython3",
   "version": "3.8.10"
  }
 },
 "nbformat": 4,
 "nbformat_minor": 5
}
