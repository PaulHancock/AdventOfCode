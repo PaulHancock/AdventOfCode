{
 "cells": [
  {
   "cell_type": "markdown",
   "metadata": {},
   "source": [
    "```\n",
    "--- Day 10: Syntax Scoring ---\n",
    "You ask the submarine to determine the best route out of the deep-sea cave, but it only replies:\n",
    "\n",
    "Syntax error in navigation subsystem on line: all of them\n",
    "All of them?! The damage is worse than you thought. You bring up a copy of the navigation subsystem (your puzzle input).\n",
    "\n",
    "The navigation subsystem syntax is made of several lines containing chunks. There are one or more chunks on each line, and chunks contain zero or more other chunks. Adjacent chunks are not separated by any delimiter; if one chunk stops, the next chunk (if any) can immediately start. Every chunk must open and close with one of four legal pairs of matching characters:\n",
    "\n",
    "If a chunk opens with (, it must close with ).\n",
    "If a chunk opens with [, it must close with ].\n",
    "If a chunk opens with {, it must close with }.\n",
    "If a chunk opens with <, it must close with >.\n",
    "So, () is a legal chunk that contains no other chunks, as is []. More complex but valid chunks include ([]), {()()()}, <([{}])>, [<>({}){}[([])<>]], and even (((((((((()))))))))).\n",
    "\n",
    "Some lines are incomplete, but others are corrupted. Find and discard the corrupted lines first.\n",
    "\n",
    "A corrupted line is one where a chunk closes with the wrong character - that is, where the characters it opens and closes with do not form one of the four legal pairs listed above.\n",
    "\n",
    "Examples of corrupted chunks include (], {()()()>, (((()))}, and <([]){()}[{}]). Such a chunk can appear anywhere within a line, and its presence causes the whole line to be considered corrupted.\n",
    "\n",
    "For example, consider the following navigation subsystem:\n",
    "\n",
    "[({(<(())[]>[[{[]{<()<>>\n",
    "[(()[<>])]({[<{<<[]>>(\n",
    "{([(<{}[<>[]}>{[]{[(<()>\n",
    "(((({<>}<{<{<>}{[]{[]{}\n",
    "[[<[([]))<([[{}[[()]]]\n",
    "[{[{({}]{}}([{[{{{}}([]\n",
    "{<[[]]>}<{[{[{[]{()[[[]\n",
    "[<(<(<(<{}))><([]([]()\n",
    "<{([([[(<>()){}]>(<<{{\n",
    "<{([{{}}[<[[[<>{}]]]>[]]\n",
    "Some of the lines aren't corrupted, just incomplete; you can ignore these lines for now. The remaining five lines are corrupted:\n",
    "\n",
    "{([(<{}[<>[]}>{[]{[(<()> - Expected ], but found } instead.\n",
    "[[<[([]))<([[{}[[()]]] - Expected ], but found ) instead.\n",
    "[{[{({}]{}}([{[{{{}}([] - Expected ), but found ] instead.\n",
    "[<(<(<(<{}))><([]([]() - Expected >, but found ) instead.\n",
    "<{([([[(<>()){}]>(<<{{ - Expected ], but found > instead.\n",
    "Stop at the first incorrect closing character on each corrupted line.\n",
    "\n",
    "Did you know that syntax checkers actually have contests to see who can get the high score for syntax errors in a file? It's true! To calculate the syntax error score for a line, take the first illegal character on the line and look it up in the following table:\n",
    "\n",
    "): 3 points.\n",
    "]: 57 points.\n",
    "}: 1197 points.\n",
    ">: 25137 points.\n",
    "In the above example, an illegal ) was found twice (2*3 = 6 points), an illegal ] was found once (57 points), an illegal } was found once (1197 points), and an illegal > was found once (25137 points). So, the total syntax error score for this file is 6+57+1197+25137 = 26397 points!\n",
    "\n",
    "Find the first illegal character in each corrupted line of the navigation subsystem. What is the total syntax error score for those errors?\n",
    "```"
   ]
  },
  {
   "cell_type": "code",
   "execution_count": 7,
   "metadata": {},
   "outputs": [],
   "source": [
    "def solve1(infile):\n",
    "    lines = [l.strip() for l in open(infile).readlines()]\n",
    "    # lookup table for scoring\n",
    "    scores = {')':3,\n",
    "         ']':57,\n",
    "         '}':1197,\n",
    "         '>':25137}\n",
    "    # lookup table to map close->open version of brackets\n",
    "    opening={']':'[',\n",
    "             ')':'(',\n",
    "             '}':'{',\n",
    "             '>':'<'}\n",
    "    score = 0\n",
    "    \n",
    "    # on valid lines we can only close the most recently opened bracket pair\n",
    "    for line in lines:\n",
    "        brackets = []\n",
    "        for char in line:\n",
    "            if char in opening: # if this a closing bracket\n",
    "                if brackets[-1] == opening[char]:\n",
    "                    # we closed this pair so remove the open bracket\n",
    "                    brackets.pop()\n",
    "                else:\n",
    "                    # we tried to close a different pair so the line is invalid\n",
    "                    score+=scores[char]\n",
    "                    break\n",
    "            else:\n",
    "                # This is an opening bracket so add it to our list\n",
    "                brackets.append(char)\n",
    "    return(score)"
   ]
  },
  {
   "cell_type": "code",
   "execution_count": 2,
   "metadata": {},
   "outputs": [
    {
     "name": "stdout",
     "output_type": "stream",
     "text": [
      "test 26397\n"
     ]
    }
   ],
   "source": [
    "print(f\"test {solve1('test_input.txt')}\")"
   ]
  },
  {
   "cell_type": "code",
   "execution_count": 3,
   "metadata": {},
   "outputs": [
    {
     "name": "stdout",
     "output_type": "stream",
     "text": [
      "test 392421\n"
     ]
    }
   ],
   "source": [
    "print(f\"test {solve1('input.txt')}\")"
   ]
  },
  {
   "cell_type": "markdown",
   "metadata": {},
   "source": [
    "```\n",
    "--- Part Two ---\n",
    "Now, discard the corrupted lines. The remaining lines are incomplete.\n",
    "\n",
    "Incomplete lines don't have any incorrect characters - instead, they're missing some closing characters at the end of the line. To repair the navigation subsystem, you just need to figure out the sequence of closing characters that complete all open chunks in the line.\n",
    "\n",
    "You can only use closing characters (), ], }, or >), and you must add them in the correct order so that only legal pairs are formed and all chunks end up closed.\n",
    "\n",
    "In the example above, there are five incomplete lines:\n",
    "\n",
    "[({(<(())[]>[[{[]{<()<>> - Complete by adding }}]])})].\n",
    "[(()[<>])]({[<{<<[]>>( - Complete by adding )}>]}).\n",
    "(((({<>}<{<{<>}{[]{[]{} - Complete by adding }}>}>)))).\n",
    "{<[[]]>}<{[{[{[]{()[[[] - Complete by adding ]]}}]}]}>.\n",
    "<{([{{}}[<[[[<>{}]]]>[]] - Complete by adding ])}>.\n",
    "Did you know that autocomplete tools also have contests? It's true! The score is determined by considering the completion string character-by-character. Start with a total score of 0. Then, for each character, multiply the total score by 5 and then increase the total score by the point value given for the character in the following table:\n",
    "\n",
    "): 1 point.\n",
    "]: 2 points.\n",
    "}: 3 points.\n",
    ">: 4 points.\n",
    "So, the last completion string above - ])}> - would be scored as follows:\n",
    "\n",
    "Start with a total score of 0.\n",
    "Multiply the total score by 5 to get 0, then add the value of ] (2) to get a new total score of 2.\n",
    "Multiply the total score by 5 to get 10, then add the value of ) (1) to get a new total score of 11.\n",
    "Multiply the total score by 5 to get 55, then add the value of } (3) to get a new total score of 58.\n",
    "Multiply the total score by 5 to get 290, then add the value of > (4) to get a new total score of 294.\n",
    "The five lines' completion strings have total scores as follows:\n",
    "\n",
    "}}]])})] - 288957 total points.\n",
    ")}>]}) - 5566 total points.\n",
    "}}>}>)))) - 1480781 total points.\n",
    "]]}}]}]}> - 995444 total points.\n",
    "])}> - 294 total points.\n",
    "Autocomplete tools are an odd bunch: the winner is found by sorting all of the scores and then taking the middle score. (There will always be an odd number of scores to consider.) In this example, the middle score is 288957 because there are the same number of scores smaller and larger than it.\n",
    "\n",
    "Find the completion string for each incomplete line, score the completion strings, and sort the scores. What is the middle score?\n",
    "```"
   ]
  },
  {
   "cell_type": "code",
   "execution_count": 10,
   "metadata": {},
   "outputs": [],
   "source": [
    "def solve2(infile):\n",
    "    lines = [l.strip() for l in open(infile).readlines()]\n",
    "    # lookup table for scoring\n",
    "    scores = {')':1,\n",
    "         ']':2,\n",
    "         '}':3,\n",
    "         '>':4}\n",
    "    \n",
    "    # lookup table to map close->open version of brackets\n",
    "    opening={']':'[',\n",
    "             ')':'(',\n",
    "             '}':'{',\n",
    "             '>':'<'}\n",
    "    # and the reverse mapping\n",
    "    closing=dict([ (opening[k],k) for k in opening])\n",
    "\n",
    "    # on valid lines we can only close the most recently opened bracket pair\n",
    "    line_scores = []\n",
    "    for line in lines:\n",
    "        brackets = []\n",
    "        for char in line:\n",
    "            if char in opening: # if this a closing bracket\n",
    "                if brackets[-1] == opening[char]:\n",
    "                    # we closed this pair so remove the open bracket\n",
    "                    brackets.pop()    \n",
    "                else:\n",
    "                    # we tried to close a different pair so the line is invalid\n",
    "                    break\n",
    "            else:\n",
    "                brackets.append(char)\n",
    "        else: # if we didn't break -> if the line is valid but incomplete\n",
    "            score = 0\n",
    "            # complete the string by closing the brackets in reverse order\n",
    "            for b in reversed(brackets):\n",
    "                char = closing[b]\n",
    "                score = 5*score + scores[char]\n",
    "            line_scores.append(score)\n",
    "    line_scores = list(sorted(line_scores))\n",
    "    return line_scores[len(line_scores)//2]"
   ]
  },
  {
   "cell_type": "code",
   "execution_count": 5,
   "metadata": {},
   "outputs": [
    {
     "name": "stdout",
     "output_type": "stream",
     "text": [
      "test 288957\n"
     ]
    }
   ],
   "source": [
    "print(f\"test {solve2('test_input.txt')}\")"
   ]
  },
  {
   "cell_type": "code",
   "execution_count": 6,
   "metadata": {},
   "outputs": [
    {
     "name": "stdout",
     "output_type": "stream",
     "text": [
      "test 2769449099\n"
     ]
    }
   ],
   "source": [
    "print(f\"test {solve2('input.txt')}\")"
   ]
  }
 ],
 "metadata": {
  "kernelspec": {
   "display_name": "Python 3",
   "language": "python",
   "name": "python3"
  },
  "language_info": {
   "codemirror_mode": {
    "name": "ipython",
    "version": 3
   },
   "file_extension": ".py",
   "mimetype": "text/x-python",
   "name": "python",
   "nbconvert_exporter": "python",
   "pygments_lexer": "ipython3",
   "version": "3.8.5"
  }
 },
 "nbformat": 4,
 "nbformat_minor": 4
}
