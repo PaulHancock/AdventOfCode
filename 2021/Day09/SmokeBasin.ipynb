{
 "cells": [
  {
   "cell_type": "markdown",
   "id": "eab460de-eb14-4a9d-ae2e-ee2a05c010e1",
   "metadata": {},
   "source": [
    "```\n",
    "--- Day 9: Smoke Basin ---\n",
    "These caves seem to be lava tubes. Parts are even still volcanically active; small hydrothermal vents release smoke into the caves that slowly settles like rain.\n",
    "\n",
    "If you can model how the smoke flows through the caves, you might be able to avoid it and be that much safer. The submarine generates a heightmap of the floor of the nearby caves for you (your puzzle input).\n",
    "\n",
    "Smoke flows to the lowest point of the area it's in. For example, consider the following heightmap:\n",
    "\n",
    "2199943210\n",
    "3987894921\n",
    "9856789892\n",
    "8767896789\n",
    "9899965678\n",
    "Each number corresponds to the height of a particular location, where 9 is the highest and 0 is the lowest a location can be.\n",
    "\n",
    "Your first goal is to find the low points - the locations that are lower than any of its adjacent locations. Most locations have four adjacent locations (up, down, left, and right); locations on the edge or corner of the map have three or two adjacent locations, respectively. (Diagonal locations do not count as adjacent.)\n",
    "\n",
    "In the above example, there are four low points, all highlighted: two are in the first row (a 1 and a 0), one is in the third row (a 5), and one is in the bottom row (also a 5). All other locations on the heightmap have some lower adjacent location, and so are not low points.\n",
    "\n",
    "The risk level of a low point is 1 plus its height. In the above example, the risk levels of the low points are 2, 1, 6, and 6. The sum of the risk levels of all low points in the heightmap is therefore 15.\n",
    "\n",
    "Find all of the low points on your heightmap. What is the sum of the risk levels of all low points on your heightmap?\n",
    "```"
   ]
  },
  {
   "cell_type": "code",
   "execution_count": 1,
   "id": "5851346f-9d95-4a7d-86a5-4152966248df",
   "metadata": {},
   "outputs": [],
   "source": [
    "import numpy as np"
   ]
  },
  {
   "cell_type": "code",
   "execution_count": 71,
   "id": "b4a158b4-f997-4227-90b0-dc2d67f66170",
   "metadata": {},
   "outputs": [],
   "source": [
    "from scipy.ndimage import minimum_filter, label"
   ]
  },
  {
   "cell_type": "code",
   "execution_count": 142,
   "id": "8ac12ad3-0edc-44d3-8a52-4cf2bc3d1b88",
   "metadata": {},
   "outputs": [],
   "source": [
    "def solve1(infile):\n",
    "    data = open(infile).readlines()\n",
    "    chart = np.array([ [ int(char) for char in line.strip()] for line in data])\n",
    "    # compute minimum of neighbors (but not self)\n",
    "    minima = minimum_filter(chart, footprint=[[0,1,0],[1,0,1],[0,1,0]], mode='mirror')\n",
    "    # look for locations that are lower than any neighbors\n",
    "    risk = chart[np.where(chart < minima)] +1\n",
    "    print(f\"The sum of risk is {sum(risk)}\")"
   ]
  },
  {
   "cell_type": "code",
   "execution_count": 143,
   "id": "9894a7a2-765c-4e92-b330-b7935b16657f",
   "metadata": {},
   "outputs": [
    {
     "name": "stdout",
     "output_type": "stream",
     "text": [
      "The sum of risk is 15\n"
     ]
    }
   ],
   "source": [
    "solve1('train_input.txt')"
   ]
  },
  {
   "cell_type": "code",
   "execution_count": 144,
   "id": "d0b1a917-9f07-4ca8-a22b-22d25e3c510c",
   "metadata": {},
   "outputs": [
    {
     "name": "stdout",
     "output_type": "stream",
     "text": [
      "The sum of risk is 436\n"
     ]
    }
   ],
   "source": [
    "solve1('input.txt')"
   ]
  },
  {
   "cell_type": "markdown",
   "id": "096b1894-e5d0-4136-985d-2449efa811a6",
   "metadata": {},
   "source": [
    "```\n",
    "--- Part Two ---\n",
    "Next, you need to find the largest basins so you know what areas are most important to avoid.\n",
    "\n",
    "A basin is all locations that eventually flow downward to a single low point. Therefore, every low point has a basin, although some basins are very small. Locations of height 9 do not count as being in any basin, and all other locations will always be part of exactly one basin.\n",
    "\n",
    "The size of a basin is the number of locations within the basin, including the low point. The example above has four basins.\n",
    "\n",
    "The top-left basin, size 3:\n",
    "\n",
    "2199943210\n",
    "3987894921\n",
    "9856789892\n",
    "8767896789\n",
    "9899965678\n",
    "The top-right basin, size 9:\n",
    "\n",
    "2199943210\n",
    "3987894921\n",
    "9856789892\n",
    "8767896789\n",
    "9899965678\n",
    "The middle basin, size 14:\n",
    "\n",
    "2199943210\n",
    "3987894921\n",
    "9856789892\n",
    "8767896789\n",
    "9899965678\n",
    "The bottom-right basin, size 9:\n",
    "\n",
    "2199943210\n",
    "3987894921\n",
    "9856789892\n",
    "8767896789\n",
    "9899965678\n",
    "Find the three largest basins and multiply their sizes together. In the above example, this is 9 * 14 * 9 = 1134.\n",
    "\n",
    "What do you get if you multiply together the sizes of the three largest basins?\n",
    "```"
   ]
  },
  {
   "cell_type": "code",
   "execution_count": 145,
   "id": "acdd996b-fe7e-4307-b58b-e2ae0d593582",
   "metadata": {},
   "outputs": [],
   "source": [
    "def solve2(infile):\n",
    "    data = open(infile).readlines()\n",
    "    chart = np.array([ [ int(char) for char in line.strip()] for line in data])\n",
    "    # Use image segmentation with the 9's representing the object boundaries\n",
    "    # rotate values 0-9\n",
    "    chart  +=1\n",
    "    chart[np.where(chart==10)] = 0\n",
    "    # all nines are now zero, use label to find segments\n",
    "    labels, n = label(chart, structure=[[0,1,0],[1,1,1],[0,1,0]])\n",
    "    # count the size of each label\n",
    "    basin_sizes = list(sorted([np.sum(labels==i) for i in range(1,n+1)]))\n",
    "    # report product of the last (larges) three basins\n",
    "    print(\"Π top 3 basin size is\",\n",
    "        np.prod(basin_sizes[-3:])\n",
    "         )"
   ]
  },
  {
   "cell_type": "code",
   "execution_count": 146,
   "id": "274b1f1f-0cfb-4cb0-87e4-c0836005b4d0",
   "metadata": {},
   "outputs": [
    {
     "name": "stdout",
     "output_type": "stream",
     "text": [
      "Π top 3 basin size is 1134\n"
     ]
    }
   ],
   "source": [
    "solve2('train_input.txt')"
   ]
  },
  {
   "cell_type": "code",
   "execution_count": 147,
   "id": "156a3b9b-8dd2-4b99-a86b-1887bfc1f7e8",
   "metadata": {},
   "outputs": [
    {
     "name": "stdout",
     "output_type": "stream",
     "text": [
      "Π top 3 basin size is 1317792\n"
     ]
    }
   ],
   "source": [
    "solve2('input.txt')"
   ]
  }
 ],
 "metadata": {
  "kernelspec": {
   "display_name": "Python 3.8.10 64-bit ('.py3': venv)",
   "language": "python",
   "name": "python3810jvsc74a57bd0b9a9f3261a017ac525a6d60225a1f15fb5f3be607379cc02a1f0701285d71002"
  },
  "language_info": {
   "codemirror_mode": {
    "name": "ipython",
    "version": 3
   },
   "file_extension": ".py",
   "mimetype": "text/x-python",
   "name": "python",
   "nbconvert_exporter": "python",
   "pygments_lexer": "ipython3",
   "version": "3.8.10"
  }
 },
 "nbformat": 4,
 "nbformat_minor": 5
}
