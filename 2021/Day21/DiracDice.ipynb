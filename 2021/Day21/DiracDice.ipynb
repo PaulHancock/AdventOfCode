{
 "cells": [
  {
   "cell_type": "markdown",
   "metadata": {},
   "source": [
    "```\n",
    "--- Day 21: Dirac Dice ---\n",
    "There's not much to do as you slowly descend to the bottom of the ocean. The submarine computer challenges you to a nice game of Dirac Dice.\n",
    "\n",
    "This game consists of a single die, two pawns, and a game board with a circular track containing ten spaces marked 1 through 10 clockwise. Each player's starting space is chosen randomly (your puzzle input). Player 1 goes first.\n",
    "\n",
    "Players take turns moving. On each player's turn, the player rolls the die three times and adds up the results. Then, the player moves their pawn that many times forward around the track (that is, moving clockwise on spaces in order of increasing value, wrapping back around to 1 after 10). So, if a player is on space 7 and they roll 2, 2, and 1, they would move forward 5 times, to spaces 8, 9, 10, 1, and finally stopping on 2.\n",
    "\n",
    "After each player moves, they increase their score by the value of the space their pawn stopped on. Players' scores start at 0. So, if the first player starts on space 7 and rolls a total of 5, they would stop on space 2 and add 2 to their score (for a total score of 2). The game immediately ends as a win for any player whose score reaches at least 1000.\n",
    "\n",
    "Since the first game is a practice game, the submarine opens a compartment labeled deterministic dice and a 100-sided die falls out. This die always rolls 1 first, then 2, then 3, and so on up to 100, after which it starts over at 1 again. Play using this die.\n",
    "\n",
    "For example, given these starting positions:\n",
    "\n",
    "Player 1 starting position: 4\n",
    "Player 2 starting position: 8\n",
    "This is how the game would go:\n",
    "\n",
    "Player 1 rolls 1+2+3 and moves to space 10 for a total score of 10.\n",
    "Player 2 rolls 4+5+6 and moves to space 3 for a total score of 3.\n",
    "Player 1 rolls 7+8+9 and moves to space 4 for a total score of 14.\n",
    "Player 2 rolls 10+11+12 and moves to space 6 for a total score of 9.\n",
    "Player 1 rolls 13+14+15 and moves to space 6 for a total score of 20.\n",
    "Player 2 rolls 16+17+18 and moves to space 7 for a total score of 16.\n",
    "Player 1 rolls 19+20+21 and moves to space 6 for a total score of 26.\n",
    "Player 2 rolls 22+23+24 and moves to space 6 for a total score of 22.\n",
    "...after many turns...\n",
    "\n",
    "Player 2 rolls 82+83+84 and moves to space 6 for a total score of 742.\n",
    "Player 1 rolls 85+86+87 and moves to space 4 for a total score of 990.\n",
    "Player 2 rolls 88+89+90 and moves to space 3 for a total score of 745.\n",
    "Player 1 rolls 91+92+93 and moves to space 10 for a final score, 1000.\n",
    "Since player 1 has at least 1000 points, player 1 wins and the game ends. At this point, the losing player had 745 points and the die had been rolled a total of 993 times; 745 * 993 = 739785.\n",
    "\n",
    "Play a practice game using the deterministic 100-sided die. The moment either player wins, what do you get if you multiply the score of the losing player by the number of times the die was rolled during the game?\n",
    "```"
   ]
  },
  {
   "cell_type": "code",
   "execution_count": null,
   "metadata": {},
   "outputs": [],
   "source": [
    "import numpy as np\n",
    "import itertools"
   ]
  },
  {
   "cell_type": "code",
   "execution_count": null,
   "metadata": {},
   "outputs": [],
   "source": [
    "def die_roll(n=100):\n",
    "    while True:\n",
    "        for i in range(1,n+1):\n",
    "            yield i"
   ]
  },
  {
   "cell_type": "code",
   "execution_count": null,
   "metadata": {},
   "outputs": [],
   "source": [
    "def solve1():\n",
    "    pos = [6,4]\n",
    "    score = [0,0]\n",
    "    turn = 0\n",
    "    d100 = die_roll()\n",
    "    nrolls = 0\n",
    "    while max(score)<1000:\n",
    "        rolls = list([next(d100) for d in range(3)])\n",
    "        nrolls +=3\n",
    "        pos[turn] += np.sum(rolls)\n",
    "        pos[turn]  = (pos[turn]-1)%10+1 # wrap 10->1\n",
    "        score[turn] += pos[turn]\n",
    "        turn = 1-turn\n",
    "    print(f\"Score is {min(score)*nrolls}\")"
   ]
  },
  {
   "cell_type": "code",
   "execution_count": null,
   "metadata": {},
   "outputs": [],
   "source": [
    "solve1()"
   ]
  },
  {
   "cell_type": "code",
   "execution_count": null,
   "metadata": {},
   "outputs": [],
   "source": [
    "def qdice(l=22, n=3):\n",
    "    for p in itertools.product(range(1,n+1), repeat=l*n):\n",
    "        yield p"
   ]
  },
  {
   "cell_type": "code",
   "execution_count": null,
   "metadata": {},
   "outputs": [],
   "source": [
    "def roll_seq(seq):\n",
    "    for i in range(len(seq)//3):\n",
    "        yield seq[i*3:i*3+3]"
   ]
  },
  {
   "cell_type": "code",
   "execution_count": null,
   "metadata": {},
   "outputs": [],
   "source": [
    "def solve2():\n",
    "    wins=[0,0]\n",
    "    # probably works, but takes far too long to compute\n",
    "    for i, qd in enumerate(qdice()):\n",
    "        pos = [6,4]\n",
    "        score = [0,0]\n",
    "        turn = 0\n",
    "        nrolls = 0\n",
    "        d3 = roll_seq(qd)\n",
    "        while max(score)<21:\n",
    "            rolls = sum(next(d3))\n",
    "            nrolls +=3\n",
    "            pos[turn] += np.sum(rolls)\n",
    "            pos[turn]  = (pos[turn]-1)%10+1 # wrap 10->1\n",
    "            score[turn] += pos[turn]\n",
    "            turn = 1-turn\n",
    "        if score[0]>score[1]:\n",
    "            wins[0]+=1\n",
    "        else:\n",
    "            wins[1]+=1\n",
    "    print(i,wins)"
   ]
  },
  {
   "cell_type": "code",
   "execution_count": null,
   "metadata": {},
   "outputs": [],
   "source": [
    "solve2()"
   ]
  }
 ],
 "metadata": {
  "kernelspec": {
   "display_name": "Python 3",
   "language": "python",
   "name": "python3"
  },
  "language_info": {
   "codemirror_mode": {
    "name": "ipython",
    "version": 3
   },
   "file_extension": ".py",
   "mimetype": "text/x-python",
   "name": "python",
   "nbconvert_exporter": "python",
   "pygments_lexer": "ipython3",
   "version": "3.7.10"
  }
 },
 "nbformat": 4,
 "nbformat_minor": 4
}
