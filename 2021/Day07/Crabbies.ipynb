{
 "cells": [
  {
   "cell_type": "raw",
   "id": "2815484e-2e00-4ed5-8d9f-cbffb53ec4ac",
   "metadata": {},
   "source": [
    "--- Day 7: The Treachery of Whales ---\n",
    "A giant whale has decided your submarine is its next meal, and it's much faster than you are. There's nowhere to run!\n",
    "\n",
    "Suddenly, a swarm of crabs (each in its own tiny submarine - it's too deep for them otherwise) zooms in to rescue you! They seem to be preparing to blast a hole in the ocean floor; sensors indicate a massive underground cave system just beyond where they're aiming!\n",
    "\n",
    "The crab submarines all need to be aligned before they'll have enough power to blast a large enough hole for your submarine to get through. However, it doesn't look like they'll be aligned before the whale catches you! Maybe you can help?\n",
    "\n",
    "There's one major catch - crab submarines can only move horizontally.\n",
    "\n",
    "You quickly make a list of the horizontal position of each crab (your puzzle input). Crab submarines have limited fuel, so you need to find a way to make all of their horizontal positions match while requiring them to spend as little fuel as possible.\n",
    "\n",
    "For example, consider the following horizontal positions:\n",
    "\n",
    "16,1,2,0,4,2,7,1,2,14\n",
    "This means there's a crab with horizontal position 16, a crab with horizontal position 1, and so on.\n",
    "\n",
    "Each change of 1 step in horizontal position of a single crab costs 1 fuel. You could choose any horizontal position to align them all on, but the one that costs the least fuel is horizontal position 2:\n",
    "\n",
    "Move from 16 to 2: 14 fuel\n",
    "Move from 1 to 2: 1 fuel\n",
    "Move from 2 to 2: 0 fuel\n",
    "Move from 0 to 2: 2 fuel\n",
    "Move from 4 to 2: 2 fuel\n",
    "Move from 2 to 2: 0 fuel\n",
    "Move from 7 to 2: 5 fuel\n",
    "Move from 1 to 2: 1 fuel\n",
    "Move from 2 to 2: 0 fuel\n",
    "Move from 14 to 2: 12 fuel\n",
    "This costs a total of 37 fuel. This is the cheapest possible outcome; more expensive outcomes include aligning at position 1 (41 fuel), position 3 (39 fuel), or position 10 (71 fuel).\n",
    "\n",
    "Determine the horizontal position that the crabs can align to using the least fuel possible. How much fuel must they spend to align to that position?"
   ]
  },
  {
   "cell_type": "code",
   "execution_count": 1,
   "id": "39e16d5f-2f9f-4b83-9fd3-bbe23fe717c1",
   "metadata": {},
   "outputs": [],
   "source": [
    "import numpy as np"
   ]
  },
  {
   "cell_type": "code",
   "execution_count": 2,
   "id": "49b499bf-550e-44c3-9ea1-43b29bf2e639",
   "metadata": {},
   "outputs": [
    {
     "data": {
      "text/plain": [
       "array([16,  1,  2,  0,  4,  2,  7,  1,  2, 14])"
      ]
     },
     "execution_count": 2,
     "metadata": {},
     "output_type": "execute_result"
    }
   ],
   "source": [
    "train_positions = '16,1,2,0,4,2,7,1,2,14'\n",
    "train_positions = np.array(list(map(int,train_positions.split(','))))\n",
    "train_positions"
   ]
  },
  {
   "cell_type": "code",
   "execution_count": 11,
   "id": "f89f921c-85df-4b37-b594-5e703abeb667",
   "metadata": {},
   "outputs": [],
   "source": [
    "def fuel_cost(positions, target):\n",
    "    return np.sum(abs(positions - target))"
   ]
  },
  {
   "cell_type": "code",
   "execution_count": 36,
   "id": "ee85674d-ac9d-4aad-9a75-37f645772bb4",
   "metadata": {},
   "outputs": [],
   "source": [
    "def solution1(positions):\n",
    "    \"\"\"\n",
    "    Determine the best position to move to and the cost of movemet\n",
    "    \n",
    "    returns\n",
    "    -------\n",
    "    cost, position : int, int\n",
    "    \"\"\"\n",
    "    costs = list(map(lambda x:fuel_cost(positions,x), range(np.max(positions))))\n",
    "    return np.min(costs), np.argmin(costs)"
   ]
  },
  {
   "cell_type": "code",
   "execution_count": 38,
   "id": "bad2e25b-56fd-44c8-bc54-e0e4b7863211",
   "metadata": {},
   "outputs": [
    {
     "data": {
      "text/plain": [
       "(37, 2)"
      ]
     },
     "execution_count": 38,
     "metadata": {},
     "output_type": "execute_result"
    }
   ],
   "source": [
    "solution1(train_positions)"
   ]
  },
  {
   "cell_type": "code",
   "execution_count": 19,
   "id": "b82aa112-919e-4f59-9f38-84330337a9a7",
   "metadata": {},
   "outputs": [],
   "source": [
    "test_positions = open('input.txt').read()\n",
    "test_positions = np.array(list(map(int,test_positions.split(','))))"
   ]
  },
  {
   "cell_type": "code",
   "execution_count": 39,
   "id": "34626fb4-e39e-4466-b38e-c03b1296a5d1",
   "metadata": {},
   "outputs": [
    {
     "data": {
      "text/plain": [
       "(343605, 345)"
      ]
     },
     "execution_count": 39,
     "metadata": {},
     "output_type": "execute_result"
    }
   ],
   "source": [
    "solution1(test_positions)"
   ]
  },
  {
   "cell_type": "raw",
   "id": "880f8d0d-1671-4bbe-9897-332e52decd23",
   "metadata": {},
   "source": [
    "The crabs don't seem interested in your proposed solution. Perhaps you misunderstand crab engineering?\n",
    "\n",
    "As it turns out, crab submarine engines don't burn fuel at a constant rate. Instead, each change of 1 step in horizontal position costs 1 more unit of fuel than the last: the first step costs 1, the second step costs 2, the third step costs 3, and so on.\n",
    "\n",
    "As each crab moves, moving further becomes more expensive. This changes the best horizontal position to align them all on; in the example above, this becomes 5:\n",
    "\n",
    "Move from 16 to 5: 66 fuel\n",
    "Move from 1 to 5: 10 fuel\n",
    "Move from 2 to 5: 6 fuel\n",
    "Move from 0 to 5: 15 fuel\n",
    "Move from 4 to 5: 1 fuel\n",
    "Move from 2 to 5: 6 fuel\n",
    "Move from 7 to 5: 3 fuel\n",
    "Move from 1 to 5: 10 fuel\n",
    "Move from 2 to 5: 6 fuel\n",
    "Move from 14 to 5: 45 fuel\n",
    "This costs a total of 168 fuel. This is the new cheapest possible outcome; the old alignment position (2) now costs 206 fuel instead.\n",
    "\n",
    "Determine the horizontal position that the crabs can align to using the least fuel possible so they can make you an escape route! How much fuel must they spend to align to that position?"
   ]
  },
  {
   "cell_type": "code",
   "execution_count": 47,
   "id": "fd04d3af-dd09-43fb-964f-22942c867a80",
   "metadata": {},
   "outputs": [],
   "source": [
    "def new_fuel_cost(positions, target):\n",
    "    n = abs(positions - target)\n",
    "    # movement cost is triangular numbers which have a closed form\n",
    "    fuel = n*(n+1)/2\n",
    "    return int(np.sum(fuel))"
   ]
  },
  {
   "cell_type": "code",
   "execution_count": 44,
   "id": "3b8d449c-8112-4f95-8ed3-a82635abe077",
   "metadata": {},
   "outputs": [],
   "source": [
    "def solution2(positions):\n",
    "    \"\"\"\n",
    "    Determine the best position to move to and the cost of movemet\n",
    "    \n",
    "    returns\n",
    "    -------\n",
    "    cost, position : int, int\n",
    "    \"\"\"\n",
    "    costs = list(map(lambda x:new_fuel_cost(positions,x), range(np.max(positions))))\n",
    "    return np.min(costs), np.argmin(costs)"
   ]
  },
  {
   "cell_type": "code",
   "execution_count": 45,
   "id": "7ea335b2-9167-4425-bd59-3be25551a404",
   "metadata": {},
   "outputs": [
    {
     "data": {
      "text/plain": [
       "(168, 5)"
      ]
     },
     "execution_count": 45,
     "metadata": {},
     "output_type": "execute_result"
    }
   ],
   "source": [
    "solution2(train_positions)"
   ]
  },
  {
   "cell_type": "code",
   "execution_count": 46,
   "id": "b18233af-45c2-481c-a7e0-01942a379a77",
   "metadata": {},
   "outputs": [
    {
     "data": {
      "text/plain": [
       "(96744904, 475)"
      ]
     },
     "execution_count": 46,
     "metadata": {},
     "output_type": "execute_result"
    }
   ],
   "source": [
    "solution2(test_positions)"
   ]
  }
 ],
 "metadata": {
  "kernelspec": {
   "display_name": "Python 3.8.10 64-bit ('.py3': venv)",
   "language": "python",
   "name": "python3810jvsc74a57bd0b9a9f3261a017ac525a6d60225a1f15fb5f3be607379cc02a1f0701285d71002"
  },
  "language_info": {
   "codemirror_mode": {
    "name": "ipython",
    "version": 3
   },
   "file_extension": ".py",
   "mimetype": "text/x-python",
   "name": "python",
   "nbconvert_exporter": "python",
   "pygments_lexer": "ipython3",
   "version": "3.8.10"
  }
 },
 "nbformat": 4,
 "nbformat_minor": 5
}
