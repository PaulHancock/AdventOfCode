{
 "cells": [
  {
   "cell_type": "raw",
   "id": "9b9339b7-fac7-4102-a524-ff2e08e0a2f3",
   "metadata": {},
   "source": [
    "--- Day 8: Seven Segment Search ---\n",
    "You barely reach the safety of the cave when the whale smashes into the cave mouth, collapsing it. Sensors indicate another exit to this cave at a much greater depth, so you have no choice but to press on.\n",
    "\n",
    "As your submarine slowly makes its way through the cave system, you notice that the four-digit seven-segment displays in your submarine are malfunctioning; they must have been damaged during the escape. You'll be in a lot of trouble without them, so you'd better figure out what's wrong.\n",
    "\n",
    "Each digit of a seven-segment display is rendered by turning on or off any of seven segments named a through g:\n",
    "\n",
    "  0:      1:      2:      3:      4:\n",
    " aaaa    ....    aaaa    aaaa    ....\n",
    "b    c  .    c  .    c  .    c  b    c\n",
    "b    c  .    c  .    c  .    c  b    c\n",
    " ....    ....    dddd    dddd    dddd\n",
    "e    f  .    f  e    .  .    f  .    f\n",
    "e    f  .    f  e    .  .    f  .    f\n",
    " gggg    ....    gggg    gggg    ....\n",
    "\n",
    "  5:      6:      7:      8:      9:\n",
    " aaaa    aaaa    aaaa    aaaa    aaaa\n",
    "b    .  b    .  .    c  b    c  b    c\n",
    "b    .  b    .  .    c  b    c  b    c\n",
    " dddd    dddd    ....    dddd    dddd\n",
    ".    f  e    f  .    f  e    f  .    f\n",
    ".    f  e    f  .    f  e    f  .    f\n",
    " gggg    gggg    ....    gggg    gggg\n",
    "So, to render a 1, only segments c and f would be turned on; the rest would be off. To render a 7, only segments a, c, and f would be turned on.\n",
    "\n",
    "The problem is that the signals which control the segments have been mixed up on each display. The submarine is still trying to display numbers by producing output on signal wires a through g, but those wires are connected to segments randomly. Worse, the wire/segment connections are mixed up separately for each four-digit display! (All of the digits within a display use the same connections, though.)\n",
    "\n",
    "So, you might know that only signal wires b and g are turned on, but that doesn't mean segments b and g are turned on: the only digit that uses two segments is 1, so it must mean segments c and f are meant to be on. With just that information, you still can't tell which wire (b/g) goes to which segment (c/f). For that, you'll need to collect more information.\n",
    "\n",
    "For each display, you watch the changing signals for a while, make a note of all ten unique signal patterns you see, and then write down a single four digit output value (your puzzle input). Using the signal patterns, you should be able to work out which pattern corresponds to which digit.\n",
    "\n",
    "For example, here is what you might see in a single entry in your notes:\n",
    "\n",
    "acedgfb cdfbe gcdfa fbcad dab cefabd cdfgeb eafb cagedb ab |\n",
    "cdfeb fcadb cdfeb cdbaf\n",
    "(The entry is wrapped here to two lines so it fits; in your notes, it will all be on a single line.)\n",
    "\n",
    "Each entry consists of ten unique signal patterns, a | delimiter, and finally the four digit output value. Within an entry, the same wire/segment connections are used (but you don't know what the connections actually are). The unique signal patterns correspond to the ten different ways the submarine tries to render a digit using the current wire/segment connections. Because 7 is the only digit that uses three segments, dab in the above example means that to render a 7, signal lines d, a, and b are on. Because 4 is the only digit that uses four segments, eafb means that to render a 4, signal lines e, a, f, and b are on.\n",
    "\n",
    "Using this information, you should be able to work out which combination of signal wires corresponds to each of the ten digits. Then, you can decode the four digit output value. Unfortunately, in the above example, all of the digits in the output value (cdfeb fcadb cdfeb cdbaf) use five segments and are more difficult to deduce.\n",
    "\n",
    "For now, focus on the easy digits. Consider this larger example:\n",
    "\n",
    "be cfbegad cbdgef fgaecd cgeb fdcge agebfd fecdb fabcd edb |\n",
    "fdgacbe cefdb cefbgd gcbe\n",
    "edbfga begcd cbg gc gcadebf fbgde acbgfd abcde gfcbed gfec |\n",
    "fcgedb cgb dgebacf gc\n",
    "fgaebd cg bdaec gdafb agbcfd gdcbef bgcad gfac gcb cdgabef |\n",
    "cg cg fdcagb cbg\n",
    "fbegcd cbd adcefb dageb afcb bc aefdc ecdab fgdeca fcdbega |\n",
    "efabcd cedba gadfec cb\n",
    "aecbfdg fbg gf bafeg dbefa fcge gcbea fcaegb dgceab fcbdga |\n",
    "gecf egdcabf bgf bfgea\n",
    "fgeab ca afcebg bdacfeg cfaedg gcfdb baec bfadeg bafgc acf |\n",
    "gebdcfa ecba ca fadegcb\n",
    "dbcfg fgd bdegcaf fgec aegbdf ecdfab fbedc dacgb gdcebf gf |\n",
    "cefg dcbef fcge gbcadfe\n",
    "bdfegc cbegaf gecbf dfcage bdacg ed bedf ced adcbefg gebcd |\n",
    "ed bcgafe cdgba cbgef\n",
    "egadfb cdbfeg cegd fecab cgb gbdefca cg fgcdab egfdb bfceg |\n",
    "gbdfcae bgc cg cgb\n",
    "gcafb gcf dcaebfg ecagb gf abcdeg gaef cafbge fdbac fegbdc |\n",
    "fgae cfgab fg bagce\n",
    "Because the digits 1, 4, 7, and 8 each use a unique number of segments, you should be able to tell which combinations of signals correspond to those digits. Counting only digits in the output values (the part after | on each line), in the above example, there are 26 instances of digits that use a unique number of segments (highlighted above).\n",
    "\n",
    "In the output values, how many times do digits 1, 4, 7, or 8 appear?"
   ]
  },
  {
   "cell_type": "code",
   "execution_count": 1,
   "id": "d4a4e50e-0e11-4bcf-9510-ff935cd2729c",
   "metadata": {},
   "outputs": [],
   "source": [
    "import numpy as np"
   ]
  },
  {
   "cell_type": "code",
   "execution_count": 2,
   "id": "dc863e1a-091c-4184-92cf-c72d65c4efd4",
   "metadata": {},
   "outputs": [],
   "source": [
    "train_input =\"\"\"be cfbegad cbdgef fgaecd cgeb fdcge agebfd fecdb fabcd edb | fdgacbe cefdb cefbgd gcbe\n",
    "edbfga begcd cbg gc gcadebf fbgde acbgfd abcde gfcbed gfec | fcgedb cgb dgebacf gc\n",
    "fgaebd cg bdaec gdafb agbcfd gdcbef bgcad gfac gcb cdgabef | cg cg fdcagb cbg\n",
    "fbegcd cbd adcefb dageb afcb bc aefdc ecdab fgdeca fcdbega | efabcd cedba gadfec cb\n",
    "aecbfdg fbg gf bafeg dbefa fcge gcbea fcaegb dgceab fcbdga | gecf egdcabf bgf bfgea\n",
    "fgeab ca afcebg bdacfeg cfaedg gcfdb baec bfadeg bafgc acf | gebdcfa ecba ca fadegcb\n",
    "dbcfg fgd bdegcaf fgec aegbdf ecdfab fbedc dacgb gdcebf gf | cefg dcbef fcge gbcadfe\n",
    "bdfegc cbegaf gecbf dfcage bdacg ed bedf ced adcbefg gebcd | ed bcgafe cdgba cbgef\n",
    "egadfb cdbfeg cegd fecab cgb gbdefca cg fgcdab egfdb bfceg | gbdfcae bgc cg cgb\n",
    "gcafb gcf dcaebfg ecagb gf abcdeg gaef cafbge fdbac fegbdc | fgae cfgab fg bagce\n",
    "\"\"\""
   ]
  },
  {
   "cell_type": "code",
   "execution_count": 3,
   "id": "a7fbcf75-5e0b-4e94-8ef5-6f349cb82093",
   "metadata": {},
   "outputs": [],
   "source": [
    "def decode_input(inp):\n",
    "    lines = inp.split('\\n')[:-1]\n",
    "    parts = [ p.split('|') for p in lines]\n",
    "    paterns, outputs = zip(*parts)\n",
    "    paterns = [p.split() for p in paterns]\n",
    "    outputs = [o.split() for o in outputs]\n",
    "    return paterns, outputs"
   ]
  },
  {
   "cell_type": "code",
   "execution_count": 4,
   "id": "9aa12343-ef37-4f20-b6e4-27e062c1d663",
   "metadata": {},
   "outputs": [],
   "source": [
    "def nlines(chars):\n",
    "    return len(chars)\n",
    "\n",
    "def decode_simple(chars):\n",
    "    n = nlines(chars)\n",
    "    if n == 2:\n",
    "        return 1\n",
    "    elif n == 3:\n",
    "        return 7\n",
    "    elif n == 4:\n",
    "        return 4\n",
    "    elif n == 7:\n",
    "        return 8\n",
    "    else:\n",
    "        return None"
   ]
  },
  {
   "cell_type": "code",
   "execution_count": 5,
   "id": "69af8490-042e-4c1a-a4eb-ae35c55a409a",
   "metadata": {},
   "outputs": [],
   "source": [
    "def solve1(data):\n",
    "    paterns, outputs = decode_input(data)\n",
    "    count=0\n",
    "    for line in outputs:\n",
    "        for chars in line:\n",
    "            val = decode_simple(chars)\n",
    "            if val:\n",
    "                count+=1\n",
    "    print(f\"There are {count} occurances of 1,4,7,8\")"
   ]
  },
  {
   "cell_type": "code",
   "execution_count": 6,
   "id": "58042f8d-73a3-4016-ba8f-c513882f523d",
   "metadata": {},
   "outputs": [
    {
     "name": "stdout",
     "output_type": "stream",
     "text": [
      "There are 26 occurances of 1,4,7,8\n"
     ]
    }
   ],
   "source": [
    "solve1(train_input)"
   ]
  },
  {
   "cell_type": "code",
   "execution_count": 7,
   "id": "830ff638-871d-46b3-9a33-121d1ce8da61",
   "metadata": {},
   "outputs": [
    {
     "name": "stdout",
     "output_type": "stream",
     "text": [
      "There are 445 occurances of 1,4,7,8\n"
     ]
    }
   ],
   "source": [
    "solve1(open('input.txt').read())"
   ]
  },
  {
   "cell_type": "raw",
   "id": "3481f227-56bb-41cc-a4db-efe05c531eaf",
   "metadata": {},
   "source": [
    "--- Part Two ---\n",
    "Through a little deduction, you should now be able to determine the remaining digits. Consider again the first example above:\n",
    "\n",
    "acedgfb cdfbe gcdfa fbcad dab cefabd cdfgeb eafb cagedb ab |\n",
    "cdfeb fcadb cdfeb cdbaf\n",
    "After some careful analysis, the mapping between signal wires and segments only make sense in the following configuration:\n",
    "\n",
    " dddd\n",
    "e    a\n",
    "e    a\n",
    " ffff\n",
    "g    b\n",
    "g    b\n",
    " cccc\n",
    "So, the unique signal patterns would correspond to the following digits:\n",
    "\n",
    "acedgfb: 8\n",
    "cdfbe: 5\n",
    "gcdfa: 2\n",
    "fbcad: 3\n",
    "dab: 7\n",
    "cefabd: 9\n",
    "cdfgeb: 6\n",
    "eafb: 4\n",
    "cagedb: 0\n",
    "ab: 1\n",
    "Then, the four digits of the output value can be decoded:\n",
    "\n",
    "cdfeb: 5\n",
    "fcadb: 3\n",
    "cdfeb: 5\n",
    "cdbaf: 3\n",
    "Therefore, the output value for this entry is 5353.\n",
    "\n",
    "Following this same process for each entry in the second, larger example above, the output value of each entry can be determined:\n",
    "\n",
    "fdgacbe cefdb cefbgd gcbe: 8394\n",
    "fcgedb cgb dgebacf gc: 9781\n",
    "cg cg fdcagb cbg: 1197\n",
    "efabcd cedba gadfec cb: 9361\n",
    "gecf egdcabf bgf bfgea: 4873\n",
    "gebdcfa ecba ca fadegcb: 8418\n",
    "cefg dcbef fcge gbcadfe: 4548\n",
    "ed bcgafe cdgba cbgef: 1625\n",
    "gbdfcae bgc cg cgb: 8717\n",
    "fgae cfgab fg bagce: 4315\n",
    "Adding all of the output values in this larger example produces 61229.\n",
    "\n",
    "For each entry, determine all of the wire/segment connections and decode the four-digit output values. What do you get if you add up all of the output values?"
   ]
  },
  {
   "cell_type": "raw",
   "id": "dc70a617-d89e-42c5-857a-dda1b1e5e881",
   "metadata": {},
   "source": [
    "    0:      1:      2:      3:      4:\n",
    " aaaa    ....    aaaa    aaaa    ....\n",
    "b    c  .    c  .    c  .    c  b    c\n",
    "b    c  .    c  .    c  .    c  b    c\n",
    " ....    ....    dddd    dddd    dddd\n",
    "e    f  .    f  e    .  .    f  .    f\n",
    "e    f  .    f  e    .  .    f  .    f\n",
    " gggg    ....    gggg    gggg    ....\n",
    "\n",
    "  5:      6:      7:      8:      9:\n",
    " aaaa    aaaa    aaaa    aaaa    aaaa\n",
    "b    .  b    .  .    c  b    c  b    c\n",
    "b    .  b    .  .    c  b    c  b    c\n",
    " dddd    dddd    ....    dddd    dddd\n",
    ".    f  e    f  .    f  e    f  .    f\n",
    ".    f  e    f  .    f  e    f  .    f\n",
    " gggg    gggg    ....    gggg    gggg"
   ]
  },
  {
   "cell_type": "code",
   "execution_count": 10,
   "id": "f5a72cde-8e32-4d0e-8617-26e40c61f01a",
   "metadata": {},
   "outputs": [],
   "source": [
    "inp,out = decode_input(train_input)"
   ]
  },
  {
   "cell_type": "code",
   "execution_count": 15,
   "id": "c447d718-86f7-42e8-be60-97169e1a99bd",
   "metadata": {},
   "outputs": [],
   "source": [
    "def solve2(inp, out):\n",
    "    decoded = []\n",
    "    for i,o in zip(inp,out):\n",
    "        # solve for the unique digits\n",
    "        zero_or_six_or_nine = []\n",
    "        two_or_three_or_five = []\n",
    "        for chars in i:\n",
    "            # find the one seven four and eight\n",
    "            n = len(chars)\n",
    "            if n == 2:\n",
    "                one = set(chars)\n",
    "            elif n == 3:\n",
    "                seven = set(chars)\n",
    "            elif n == 4:\n",
    "                four = set(chars)\n",
    "            elif n == 6:\n",
    "                zero_or_six_or_nine.append(set(chars))\n",
    "            elif n == 7:\n",
    "                eight = set(chars)\n",
    "            else:\n",
    "                two_or_three_or_five.append(set(chars))\n",
    "        \n",
    "        # solve for the individual lines \n",
    "        abfg = zero_or_six_or_nine[0] & zero_or_six_or_nine[1] & zero_or_six_or_nine[2]\n",
    "        a = seven - one\n",
    "        bd = four - one\n",
    "        aeg = eight - four\n",
    "        d = bd - abfg\n",
    "        e = aeg - abfg\n",
    "        b = bd - d\n",
    "        g = aeg - a - e\n",
    "        f = abfg - a -b -g\n",
    "        c = one - f\n",
    "        \n",
    "        # now solve for the uncoded numbers\n",
    "        zero = eight - d\n",
    "        two = eight - b - f\n",
    "        three = eight - b - e\n",
    "        five = eight - c - e\n",
    "        six = eight - c\n",
    "        nine = eight - e\n",
    "        \n",
    "        # make a reverse lookup for the charset -> number\n",
    "        # have to use tuples as keys not set or list\n",
    "        decoder={tuple(sorted(zero)):0,\n",
    "                 tuple(sorted(one)):1,\n",
    "                 tuple(sorted(two)):2,\n",
    "                 tuple(sorted(three)):3,\n",
    "                 tuple(sorted(four)):4,\n",
    "                 tuple(sorted(five)):5,\n",
    "                 tuple(sorted(six)):6,\n",
    "                 tuple(sorted(seven)):7,\n",
    "                 tuple(sorted(eight)):8,\n",
    "                 tuple(sorted(nine)):9}\n",
    "        # now decode the output\n",
    "        digits=[]\n",
    "        for chars in o:\n",
    "            digit = tuple(sorted(set(chars)))\n",
    "            digits.append(decoder[digit])\n",
    "        num_str = ''.join(map(str,digits))\n",
    "        num = int(num_str)\n",
    "        decoded.append(num)\n",
    "    print(decoded)\n",
    "    print(sum(decoded))\n",
    "        \n",
    "        \n",
    "        "
   ]
  },
  {
   "cell_type": "code",
   "execution_count": 17,
   "id": "81540086-cc8c-40a6-811f-00f44fdc179a",
   "metadata": {},
   "outputs": [
    {
     "name": "stdout",
     "output_type": "stream",
     "text": [
      "[8394, 9781, 1197, 9361, 4873, 8418, 4548, 1625, 8717, 4315]\n",
      "61229\n"
     ]
    }
   ],
   "source": [
    "inp,out = decode_input(train_input)\n",
    "solve2(inp,out)"
   ]
  },
  {
   "cell_type": "code",
   "execution_count": 14,
   "id": "dba1c6b7-f921-4a6f-8199-2b4ee0f86e6b",
   "metadata": {},
   "outputs": [
    {
     "name": "stdout",
     "output_type": "stream",
     "text": [
      "[5128, 7049, 7672, 5724, 8118, 8750, 6406, 1341, 8791, 3976, 4791, 8982, 5802, 3998, 4842, 7855, 8382, 4855, 1874, 5727, 3950, 9655, 3571, 7422, 4881, 8445, 1584, 8467, 741, 7428, 7470, 8103, 4775, 1728, 4186, 3337, 7184, 8881, 7548, 3518, 1882, 7274, 3187, 3955, 7128, 5967, 1197, 1914, 8846, 3118, 5771, 4896, 5497, 7301, 8777, 5544, 877, 6486, 4564, 5747, 3923, 1501, 2683, 1142, 9597, 5268, 2774, 4506, 7403, 9477, 9310, 1817, 8015, 8907, 7804, 5703, 1844, 5498, 9733, 8827, 759, 9203, 7217, 6874, 4493, 1185, 9439, 3872, 762, 5418, 1828, 5473, 5664, 4390, 7285, 8777, 8813, 7418, 4894, 8858, 1462, 2871, 8178, 1931, 6571, 2755, 3221, 2244, 1010, 8369, 1785, 3113, 9444, 7287, 8468, 6189, 7219, 9710, 2848, 6997, 1486, 5994, 8198, 1127, 7869, 4670, 4524, 4859, 1431, 4187, 7347, 1096, 212, 3271, 2997, 3962, 2157, 9704, 8263, 4783, 2270, 3097, 4612, 1881, 7415, 6543, 7672, 7252, 4047, 4241, 7107, 7887, 2254, 8509, 9154, 9495, 3141, 4762, 862, 9443, 1134, 3361, 7275, 2889, 1822, 9481, 5476, 6145, 416, 1178, 1547, 7171, 2485, 3814, 2074, 3703, 4728, 8311, 1089, 7714, 3792, 4105, 4784, 8849, 7549, 9797, 5895, 8840, 8175, 2152, 1588, 8607, 3723, 1438, 4128, 67, 2515, 2239, 7421, 2952]\n",
      "1043101\n"
     ]
    }
   ],
   "source": [
    "inp,out = decode_input(open('input.txt').read())\n",
    "solve(inp, out)"
   ]
  },
  {
   "cell_type": "code",
   "execution_count": null,
   "id": "ba23ec51-451c-4bbb-938d-b618549b4e05",
   "metadata": {},
   "outputs": [],
   "source": []
  }
 ],
 "metadata": {
  "kernelspec": {
   "display_name": "Python 3.8.10 64-bit ('.py3': venv)",
   "language": "python",
   "name": "python3810jvsc74a57bd0b9a9f3261a017ac525a6d60225a1f15fb5f3be607379cc02a1f0701285d71002"
  },
  "language_info": {
   "codemirror_mode": {
    "name": "ipython",
    "version": 3
   },
   "file_extension": ".py",
   "mimetype": "text/x-python",
   "name": "python",
   "nbconvert_exporter": "python",
   "pygments_lexer": "ipython3",
   "version": "3.8.10"
  }
 },
 "nbformat": 4,
 "nbformat_minor": 5
}
