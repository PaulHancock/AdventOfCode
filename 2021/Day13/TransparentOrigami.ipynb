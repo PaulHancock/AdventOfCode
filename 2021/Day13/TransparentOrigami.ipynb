{
 "cells": [
  {
   "cell_type": "markdown",
   "metadata": {},
   "source": [
    "```\n",
    "--- Day 13: Transparent Origami ---\n",
    "You reach another volcanically active part of the cave. It would be nice if you could do some kind of thermal imaging so you could tell ahead of time which caves are too hot to safely enter.\n",
    "\n",
    "Fortunately, the submarine seems to be equipped with a thermal camera! When you activate it, you are greeted with:\n",
    "\n",
    "Congratulations on your purchase! To activate this infrared thermal imaging\n",
    "camera system, please enter the code found on page 1 of the manual.\n",
    "Apparently, the Elves have never used this feature. To your surprise, you manage to find the manual; as you go to open it, page 1 falls out. It's a large sheet of transparent paper! The transparent paper is marked with random dots and includes instructions on how to fold it up (your puzzle input). For example:\n",
    "\n",
    "6,10\n",
    "0,14\n",
    "9,10\n",
    "0,3\n",
    "10,4\n",
    "4,11\n",
    "6,0\n",
    "6,12\n",
    "4,1\n",
    "0,13\n",
    "10,12\n",
    "3,4\n",
    "3,0\n",
    "8,4\n",
    "1,10\n",
    "2,14\n",
    "8,10\n",
    "9,0\n",
    "\n",
    "fold along y=7\n",
    "fold along x=5\n",
    "The first section is a list of dots on the transparent paper. 0,0 represents the top-left coordinate. The first value, x, increases to the right. The second value, y, increases downward. So, the coordinate 3,0 is to the right of 0,0, and the coordinate 0,7 is below 0,0. The coordinates in this example form the following pattern, where # is a dot on the paper and . is an empty, unmarked position:\n",
    "\n",
    "...#..#..#.\n",
    "....#......\n",
    "...........\n",
    "#..........\n",
    "...#....#.#\n",
    "...........\n",
    "...........\n",
    "...........\n",
    "...........\n",
    "...........\n",
    ".#....#.##.\n",
    "....#......\n",
    "......#...#\n",
    "#..........\n",
    "#.#........\n",
    "Then, there is a list of fold instructions. Each instruction indicates a line on the transparent paper and wants you to fold the paper up (for horizontal y=... lines) or left (for vertical x=... lines). In this example, the first fold instruction is fold along y=7, which designates the line formed by all of the positions where y is 7 (marked here with -):\n",
    "\n",
    "...#..#..#.\n",
    "....#......\n",
    "...........\n",
    "#..........\n",
    "...#....#.#\n",
    "...........\n",
    "...........\n",
    "-----------\n",
    "...........\n",
    "...........\n",
    ".#....#.##.\n",
    "....#......\n",
    "......#...#\n",
    "#..........\n",
    "#.#........\n",
    "Because this is a horizontal line, fold the bottom half up. Some of the dots might end up overlapping after the fold is complete, but dots will never appear exactly on a fold line. The result of doing this fold looks like this:\n",
    "\n",
    "#.##..#..#.\n",
    "#...#......\n",
    "......#...#\n",
    "#...#......\n",
    ".#.#..#.###\n",
    "...........\n",
    "...........\n",
    "Now, only 17 dots are visible.\n",
    "\n",
    "Notice, for example, the two dots in the bottom left corner before the transparent paper is folded; after the fold is complete, those dots appear in the top left corner (at 0,0 and 0,1). Because the paper is transparent, the dot just below them in the result (at 0,3) remains visible, as it can be seen through the transparent paper.\n",
    "\n",
    "Also notice that some dots can end up overlapping; in this case, the dots merge together and become a single dot.\n",
    "\n",
    "The second fold instruction is fold along x=5, which indicates this line:\n",
    "\n",
    "#.##.|#..#.\n",
    "#...#|.....\n",
    ".....|#...#\n",
    "#...#|.....\n",
    ".#.#.|#.###\n",
    ".....|.....\n",
    ".....|.....\n",
    "Because this is a vertical line, fold left:\n",
    "\n",
    "#####\n",
    "#...#\n",
    "#...#\n",
    "#...#\n",
    "#####\n",
    ".....\n",
    ".....\n",
    "The instructions made a square!\n",
    "\n",
    "The transparent paper is pretty big, so for now, focus on just completing the first fold. After the first fold in the example above, 17 dots are visible - dots that end up overlapping after the fold is completed count as a single dot.\n",
    "\n",
    "How many dots are visible after completing just the first fold instruction on your transparent paper?\n",
    "```"
   ]
  },
  {
   "cell_type": "code",
   "execution_count": 1,
   "metadata": {},
   "outputs": [],
   "source": [
    "%matplotlib inline\n",
    "import numpy as np\n",
    "from matplotlib import pyplot as plt"
   ]
  },
  {
   "cell_type": "code",
   "execution_count": 2,
   "metadata": {},
   "outputs": [],
   "source": [
    "def pretty_print(matrix):\n",
    "    arr = matrix>0\n",
    "    for row in arr:\n",
    "        for c in row:\n",
    "            if c:\n",
    "                print(\"#\",end='')\n",
    "            else:\n",
    "                print('.',end='')\n",
    "        print(\"\")"
   ]
  },
  {
   "cell_type": "code",
   "execution_count": 3,
   "metadata": {},
   "outputs": [],
   "source": [
    "def pretty_plot(arr, axis=None, pos=0):\n",
    "    fig = plt.figure(figsize=(10,10))\n",
    "    ax = fig.add_subplot(1,1,1)\n",
    "    ax.imshow(arr.T, vmin=0, vmax=1, interpolation=None)\n",
    "    if axis=='y':\n",
    "        ax.hlines(pos, 0, arr.T.shape[1]-1)\n",
    "    elif axis =='x':\n",
    "        ax.vlines(pos, 0, arr.T.shape[0]-1)\n",
    "    else:\n",
    "        pass\n",
    "    plt.show()"
   ]
  },
  {
   "cell_type": "code",
   "execution_count": 4,
   "metadata": {},
   "outputs": [],
   "source": [
    "def get_page(infile):\n",
    "    \"\"\"\n",
    "    Decode the input file.\n",
    "    \n",
    "    Parameters\n",
    "    ----------\n",
    "    infile : str\n",
    "       input file name\n",
    "       \n",
    "    Returns\n",
    "    -------\n",
    "    dots, folds: np.array, [ ('x'|'y', int), ...]\n",
    "        The location of the dots and the fold instructions\n",
    "    \"\"\"\n",
    "    data = open(infile).read()\n",
    "    dots,folds  = data.split('\\n\\n')\n",
    "    dots = np.array([ list(map(int,d.split(','))) for d in dots.split('\\n')])\n",
    "    folds = [ f.split('=') for f in folds.split('\\n')]\n",
    "    folds = [ (a[0][-1], int(a[1])) for a in folds]\n",
    "    print(f'There are {len(dots)} dots, and {len(folds)} folding instructions')\n",
    "    return dots, folds\n"
   ]
  },
  {
   "cell_type": "code",
   "execution_count": 5,
   "metadata": {},
   "outputs": [],
   "source": [
    "def make_arr(dots):\n",
    "    \"\"\"\n",
    "    \n",
    "    \"\"\"\n",
    "    shape = np.max(dots,axis=0)+1\n",
    "    darray = np.zeros(shape=shape, dtype=bool)\n",
    "    for r,c in dots:\n",
    "        darray[r,c] = True\n",
    "    print(f\"Sheet is {darray.shape}\")\n",
    "    return darray"
   ]
  },
  {
   "cell_type": "code",
   "execution_count": 6,
   "metadata": {},
   "outputs": [],
   "source": [
    "def fold(arr, axis, pos):\n",
    "    \"\"\"\n",
    "    \n",
    "    \"\"\"\n",
    "    if axis == 'x':\n",
    "        folded = (arr | arr[::-1,:])[:arr.shape[0]//2,:]\n",
    "    else:\n",
    "        folded = (arr | arr[:, ::-1])[:, :arr.shape[1]//2]\n",
    "    return folded\n",
    "        "
   ]
  },
  {
   "cell_type": "code",
   "execution_count": 14,
   "metadata": {},
   "outputs": [
    {
     "name": "stdout",
     "output_type": "stream",
     "text": [
      "(655, 894)\n"
     ]
    },
    {
     "data": {
      "image/png": "[encoded data removed]",
      "text/plain": [
       "<Figure size 720x720 with 1 Axes>"
      ]
     },
     "metadata": {
      "needs_background": "light"
     },
     "output_type": "display_data"
    },
    {
     "name": "stdout",
     "output_type": "stream",
     "text": [
      "(655, 447)\n"
     ]
    },
    {
     "data": {
      "image/png": "[encoded data removed]",
      "text/plain": [
       "<Figure size 720x720 with 1 Axes>"
      ]
     },
     "metadata": {
      "needs_background": "light"
     },
     "output_type": "display_data"
    }
   ],
   "source": [
    "test = np.diag(range(894))[:655,:]\n",
    "print(test.shape)\n",
    "pretty_plot(test)\n",
    "test2 = fold(test,'y', 0)\n",
    "print(test2.shape)\n",
    "pretty_plot(test2)\n"
   ]
  },
  {
   "cell_type": "code",
   "execution_count": 8,
   "metadata": {},
   "outputs": [],
   "source": [
    "def solve1(infile):\n",
    "    dots, folds = get_page(infile)\n",
    "    arr = make_arr(dots)\n",
    "    pretty_plot(arr)\n",
    "    arr = fold(arr, folds[0][0], folds[0][1])\n",
    "    count = np.count_nonzero(arr)\n",
    "    print(f\"There are {count} visible dots after 1 fold\")"
   ]
  },
  {
   "cell_type": "code",
   "execution_count": 9,
   "metadata": {},
   "outputs": [
    {
     "name": "stdout",
     "output_type": "stream",
     "text": [
      "There are 18 dots, and 2 folding instructions\n",
      "Sheet is (11, 15)\n"
     ]
    },
    {
     "data": {
      "image/png": "[encoded data removed]",
      "text/plain": [
       "<Figure size 720x720 with 1 Axes>"
      ]
     },
     "metadata": {
      "needs_background": "light"
     },
     "output_type": "display_data"
    },
    {
     "name": "stdout",
     "output_type": "stream",
     "text": [
      "There are 17 visible dots after 1 fold\n"
     ]
    }
   ],
   "source": [
    "solve1('ex1.txt')"
   ]
  },
  {
   "cell_type": "code",
   "execution_count": 10,
   "metadata": {},
   "outputs": [
    {
     "name": "stdout",
     "output_type": "stream",
     "text": [
      "There are 846 dots, and 12 folding instructions\n",
      "Sheet is (1311, 894)\n"
     ]
    },
    {
     "data": {
      "image/png": "[encoded data removed]",
      "text/plain": [
       "<Figure size 720x720 with 1 Axes>"
      ]
     },
     "metadata": {
      "needs_background": "light"
     },
     "output_type": "display_data"
    },
    {
     "name": "stdout",
     "output_type": "stream",
     "text": [
      "There are 684 visible dots after 1 fold\n"
     ]
    }
   ],
   "source": [
    "solve1('input.txt')"
   ]
  },
  {
   "cell_type": "markdown",
   "metadata": {},
   "source": [
    "```\n",
    "--- Part Two ---\n",
    "Finish folding the transparent paper according to the instructions. The manual says the code is always eight capital letters.\n",
    "\n",
    "What code do you use to activate the infrared thermal imaging camera system?\n",
    "```"
   ]
  },
  {
   "cell_type": "code",
   "execution_count": 11,
   "metadata": {},
   "outputs": [],
   "source": [
    "def solve2(infile):\n",
    "    dots, folds = get_page(infile)\n",
    "    arr = make_arr(dots)\n",
    "    for axis, pos in folds:\n",
    "        print(f\"folding on {axis}, {pos}: \", end='')\n",
    "        arr = fold(arr, axis, pos)\n",
    "        print(f'Sheet is now {arr.shape}')\n",
    "    count = np.count_nonzero(arr)\n",
    "    print(f\"There are {count} visible dots after all folds\")\n",
    "    pretty_plot(arr)\n",
    "\n",
    "    "
   ]
  },
  {
   "cell_type": "code",
   "execution_count": 12,
   "metadata": {},
   "outputs": [
    {
     "name": "stdout",
     "output_type": "stream",
     "text": [
      "There are 18 dots, and 2 folding instructions\n",
      "Sheet is (11, 15)\n",
      "folding on y, 7: Sheet is now (11, 7)\n",
      "folding on x, 5: Sheet is now (5, 7)\n",
      "There are 16 visible dots after all folds\n"
     ]
    },
    {
     "data": {
      "image/png": "[encoded data removed]",
      "text/plain": [
       "<Figure size 720x720 with 1 Axes>"
      ]
     },
     "metadata": {
      "needs_background": "light"
     },
     "output_type": "display_data"
    }
   ],
   "source": [
    "solve2('ex1.txt')"
   ]
  },
  {
   "cell_type": "code",
   "execution_count": 13,
   "metadata": {},
   "outputs": [
    {
     "name": "stdout",
     "output_type": "stream",
     "text": [
      "There are 846 dots, and 12 folding instructions\n",
      "Sheet is (1311, 894)\n",
      "folding on x, 655: Sheet is now (655, 894)\n",
      "folding on y, 447: Sheet is now (655, 447)\n",
      "folding on x, 327: Sheet is now (327, 447)\n",
      "folding on y, 223: Sheet is now (327, 223)\n",
      "folding on x, 163: Sheet is now (163, 223)\n",
      "folding on y, 111: Sheet is now (163, 111)\n",
      "folding on x, 81: Sheet is now (81, 111)\n",
      "folding on y, 55: Sheet is now (81, 55)\n",
      "folding on x, 40: Sheet is now (40, 55)\n",
      "folding on y, 27: Sheet is now (40, 27)\n",
      "folding on y, 13: Sheet is now (40, 13)\n",
      "folding on y, 6: Sheet is now (40, 6)\n",
      "There are 135 visible dots after all folds\n"
     ]
    },
    {
     "data": {
      "image/png": "[encoded data removed]",
      "text/plain": [
       "<Figure size 720x720 with 1 Axes>"
      ]
     },
     "metadata": {
      "needs_background": "light"
     },
     "output_type": "display_data"
    }
   ],
   "source": [
    "solve2('input.txt')"
   ]
  },
  {
   "cell_type": "markdown",
   "metadata": {},
   "source": [
    "```\n",
    "JRZ?LGKH\n",
    "JRZBLGKH <-- guess\n",
    "```"
   ]
  },
  {
   "cell_type": "code",
   "execution_count": 15,
   "metadata": {},
   "outputs": [
    {
     "name": "stdout",
     "output_type": "stream",
     "text": [
      "There are 907 dots, and 12 folding instructions\n",
      "Sheet is (1311, 895)\n",
      "folding on x, 655: Sheet is now (655, 895)\n",
      "folding on y, 447: Sheet is now (655, 447)\n",
      "folding on x, 327: Sheet is now (327, 447)\n",
      "folding on y, 223: Sheet is now (327, 223)\n",
      "folding on x, 163: Sheet is now (163, 223)\n",
      "folding on y, 111: Sheet is now (163, 111)\n",
      "folding on x, 81: Sheet is now (81, 111)\n",
      "folding on y, 55: Sheet is now (81, 55)\n",
      "folding on x, 40: Sheet is now (40, 55)\n",
      "folding on y, 27: Sheet is now (40, 27)\n",
      "folding on y, 13: Sheet is now (40, 13)\n",
      "folding on y, 6: Sheet is now (40, 6)\n",
      "There are 95 visible dots after all folds\n"
     ]
    },
    {
     "data": {
      "image/png": "[encoded data removed]",
      "text/plain": [
       "<Figure size 720x720 with 1 Axes>"
      ]
     },
     "metadata": {
      "needs_background": "light"
     },
     "output_type": "display_data"
    }
   ],
   "source": [
    "solve2('Joel.txt')"
   ]
  },
  {
   "cell_type": "code",
   "execution_count": null,
   "metadata": {},
   "outputs": [],
   "source": []
  }
 ],
 "metadata": {
  "kernelspec": {
   "display_name": "Python 3",
   "language": "python",
   "name": "python3"
  },
  "language_info": {
   "codemirror_mode": {
    "name": "ipython",
    "version": 3
   },
   "file_extension": ".py",
   "mimetype": "text/x-python",
   "name": "python",
   "nbconvert_exporter": "python",
   "pygments_lexer": "ipython3",
   "version": "3.8.5"
  }
 },
 "nbformat": 4,
 "nbformat_minor": 4
}
