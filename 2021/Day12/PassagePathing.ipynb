{
 "cells": [
  {
   "cell_type": "markdown",
   "metadata": {},
   "source": [
    "```\n",
    "--- Day 12: Passage Pathing ---\n",
    "With your submarine's subterranean subsystems subsisting suboptimally, the only way you're getting out of this cave anytime soon is by finding a path yourself. Not just a path - the only way to know if you've found the best path is to find all of them.\n",
    "\n",
    "Fortunately, the sensors are still mostly working, and so you build a rough map of the remaining caves (your puzzle input). For example:\n",
    "\n",
    "start-A\n",
    "start-b\n",
    "A-c\n",
    "A-b\n",
    "b-d\n",
    "A-end\n",
    "b-end\n",
    "This is a list of how all of the caves are connected. You start in the cave named start, and your destination is the cave named end. An entry like b-d means that cave b is connected to cave d - that is, you can move between them.\n",
    "\n",
    "So, the above cave system looks roughly like this:\n",
    "\n",
    "    start\n",
    "    /   \\\n",
    "c--A-----b--d\n",
    "    \\   /\n",
    "     end\n",
    "Your goal is to find the number of distinct paths that start at start, end at end, and don't visit small caves more than once. There are two types of caves: big caves (written in uppercase, like A) and small caves (written in lowercase, like b). It would be a waste of time to visit any small cave more than once, but big caves are large enough that it might be worth visiting them multiple times. So, all paths you find should visit small caves at most once, and can visit big caves any number of times.\n",
    "\n",
    "Given these rules, there are 10 paths through this example cave system:\n",
    "\n",
    "start,A,b,A,c,A,end\n",
    "start,A,b,A,end\n",
    "start,A,b,end\n",
    "start,A,c,A,b,A,end\n",
    "start,A,c,A,b,end\n",
    "start,A,c,A,end\n",
    "start,A,end\n",
    "start,b,A,c,A,end\n",
    "start,b,A,end\n",
    "start,b,end\n",
    "(Each line in the above list corresponds to a single path; the caves visited by that path are listed in the order they are visited and separated by commas.)\n",
    "\n",
    "Note that in this cave system, cave d is never visited by any path: to do so, cave b would need to be visited twice (once on the way to cave d and a second time when returning from cave d), and since cave b is small, this is not allowed.\n",
    "\n",
    "Here is a slightly larger example:\n",
    "\n",
    "dc-end\n",
    "HN-start\n",
    "start-kj\n",
    "dc-start\n",
    "dc-HN\n",
    "LN-dc\n",
    "HN-end\n",
    "kj-sa\n",
    "kj-HN\n",
    "kj-dc\n",
    "The 19 paths through it are as follows:\n",
    "\n",
    "start,HN,dc,HN,end\n",
    "start,HN,dc,HN,kj,HN,end\n",
    "start,HN,dc,end\n",
    "start,HN,dc,kj,HN,end\n",
    "start,HN,end\n",
    "start,HN,kj,HN,dc,HN,end\n",
    "start,HN,kj,HN,dc,end\n",
    "start,HN,kj,HN,end\n",
    "start,HN,kj,dc,HN,end\n",
    "start,HN,kj,dc,end\n",
    "start,dc,HN,end\n",
    "start,dc,HN,kj,HN,end\n",
    "start,dc,end\n",
    "start,dc,kj,HN,end\n",
    "start,kj,HN,dc,HN,end\n",
    "start,kj,HN,dc,end\n",
    "start,kj,HN,end\n",
    "start,kj,dc,HN,end\n",
    "start,kj,dc,end\n",
    "Finally, this even larger example has 226 paths through it:\n",
    "\n",
    "fs-end\n",
    "he-DX\n",
    "fs-he\n",
    "start-DX\n",
    "pj-DX\n",
    "end-zg\n",
    "zg-sl\n",
    "zg-pj\n",
    "pj-he\n",
    "RW-he\n",
    "fs-DX\n",
    "pj-RW\n",
    "zg-RW\n",
    "start-pj\n",
    "he-WI\n",
    "zg-he\n",
    "pj-fs\n",
    "start-RW\n",
    "How many paths through this cave system are there that visit small caves at most once?\n",
    "```"
   ]
  },
  {
   "cell_type": "code",
   "execution_count": 1,
   "metadata": {},
   "outputs": [],
   "source": [
    "def load_graph(filename):\n",
    "    graph = dict()\n",
    "    connections = open(filename).readlines()\n",
    "    for c in connections:\n",
    "        start, end = c.strip().split('-')\n",
    "        if start in graph:\n",
    "            graph[start].append(end)\n",
    "        else:\n",
    "            graph[start] = [end,]\n",
    "        if end != 'end' and start !='start':\n",
    "            if end in graph:\n",
    "                graph[end].append(start)\n",
    "            else:\n",
    "                graph[end] = [start,]\n",
    "    return graph"
   ]
  },
  {
   "cell_type": "code",
   "execution_count": 2,
   "metadata": {},
   "outputs": [],
   "source": [
    "def can_revisit(node):\n",
    "    # includes start/end\n",
    "    if node == node.lower():\n",
    "        return False\n",
    "    return True"
   ]
  },
  {
   "cell_type": "code",
   "execution_count": 3,
   "metadata": {},
   "outputs": [],
   "source": [
    "def can_step(node, path):\n",
    "    # if we are allowed to revisit the node then always can step\n",
    "    if can_revisit(node):\n",
    "        return True\n",
    "    else:\n",
    "        # cannot step if we cannot revisit\n",
    "        if node in path:\n",
    "            return False\n",
    "        else:\n",
    "            return True"
   ]
  },
  {
   "cell_type": "code",
   "execution_count": 4,
   "metadata": {},
   "outputs": [],
   "source": [
    "def navigate(graph, node='start', path=[]):\n",
    "    path = path + [node]\n",
    "    paths = []\n",
    "    for n in graph[node]:\n",
    "        #print(f'{path} -> {n}?')\n",
    "        if n == 'end':\n",
    "            paths.append(path + [n])\n",
    "        elif can_step(n,path):\n",
    "            new_paths = navigate(graph, n, path)\n",
    "            for np in new_paths:\n",
    "                paths.append(np)\n",
    "        else:\n",
    "            continue\n",
    "    return paths"
   ]
  },
  {
   "cell_type": "code",
   "execution_count": 5,
   "metadata": {},
   "outputs": [],
   "source": [
    "def solve1(infile):\n",
    "    graph = load_graph(infile)\n",
    "    paths = navigate(graph)\n",
    "    print(graph)\n",
    "    print(f\"There are {len(paths)} paths for {infile}\")"
   ]
  },
  {
   "cell_type": "code",
   "execution_count": 6,
   "metadata": {},
   "outputs": [
    {
     "name": "stdout",
     "output_type": "stream",
     "text": [
      "{'start': ['A', 'b'], 'A': ['c', 'b', 'end'], 'c': ['A'], 'b': ['A', 'd', 'end'], 'd': ['b']}\n",
      "There are 10 paths for ex1.txt\n"
     ]
    }
   ],
   "source": [
    "solve1('ex1.txt')"
   ]
  },
  {
   "cell_type": "code",
   "execution_count": 7,
   "metadata": {},
   "outputs": [
    {
     "name": "stdout",
     "output_type": "stream",
     "text": [
      "{'dc': ['end', 'start', 'HN', 'LN', 'kj'], 'HN': ['start', 'dc', 'end', 'kj'], 'start': ['HN', 'kj', 'dc'], 'LN': ['dc'], 'kj': ['sa', 'HN', 'dc'], 'sa': ['kj']}\n",
      "There are 19 paths for ex2.txt\n"
     ]
    }
   ],
   "source": [
    "solve1('ex2.txt')"
   ]
  },
  {
   "cell_type": "code",
   "execution_count": 8,
   "metadata": {},
   "outputs": [
    {
     "name": "stdout",
     "output_type": "stream",
     "text": [
      "{'fs': ['end', 'he', 'DX', 'pj'], 'he': ['DX', 'fs', 'pj', 'RW', 'WI', 'zg'], 'DX': ['he', 'pj', 'fs'], 'start': ['DX', 'pj', 'RW'], 'pj': ['DX', 'zg', 'he', 'RW', 'fs'], 'end': ['zg'], 'zg': ['end', 'sl', 'pj', 'RW', 'he'], 'sl': ['zg'], 'RW': ['he', 'pj', 'zg'], 'WI': ['he']}\n",
      "There are 226 paths for ex3.txt\n"
     ]
    }
   ],
   "source": [
    "solve1('ex3.txt')"
   ]
  },
  {
   "cell_type": "code",
   "execution_count": 9,
   "metadata": {},
   "outputs": [
    {
     "name": "stdout",
     "output_type": "stream",
     "text": [
      "{'mx': ['IQ', 'HO', 'MU'], 'IQ': ['mx'], 'HO': ['mx', 'end', 'ni', 'xq'], 'xq': ['start', 'oz', 'HO', 'MU'], 'start': ['xq', 'HO', 'MU'], 'IE': ['qc', 'sa', 'ni', 'oz', 'end'], 'qc': ['IE'], 'oz': ['xq', 'ni', 'sa', 'IE'], 'ni': ['HO', 'oz', 'MU', 'IE'], 'MU': ['ni', 'start', 'sa', 'xq', 'mx'], 'sa': ['IE', 'end', 'oz', 'MU'], 'end': ['sa']}\n",
      "There are 4749 paths for input.txt\n"
     ]
    }
   ],
   "source": [
    "solve1('input.txt')"
   ]
  },
  {
   "cell_type": "markdown",
   "metadata": {},
   "source": [
    "```\n",
    "--- Part Two ---\n",
    "After reviewing the available paths, you realize you might have time to visit a single small cave twice. Specifically, big caves can be visited any number of times, a single small cave can be visited at most twice, and the remaining small caves can be visited at most once. However, the caves named start and end can only be visited exactly once each: once you leave the start cave, you may not return to it, and once you reach the end cave, the path must end immediately.\n",
    "\n",
    "Now, the 36 possible paths through the first example above are:\n",
    "\n",
    "start,A,b,A,b,A,c,A,end\n",
    "start,A,b,A,b,A,end\n",
    "start,A,b,A,b,end\n",
    "start,A,b,A,c,A,b,A,end\n",
    "start,A,b,A,c,A,b,end\n",
    "start,A,b,A,c,A,c,A,end\n",
    "start,A,b,A,c,A,end\n",
    "start,A,b,A,end\n",
    "start,A,b,d,b,A,c,A,end\n",
    "start,A,b,d,b,A,end\n",
    "start,A,b,d,b,end\n",
    "start,A,b,end\n",
    "start,A,c,A,b,A,b,A,end\n",
    "start,A,c,A,b,A,b,end\n",
    "start,A,c,A,b,A,c,A,end\n",
    "start,A,c,A,b,A,end\n",
    "start,A,c,A,b,d,b,A,end\n",
    "start,A,c,A,b,d,b,end\n",
    "start,A,c,A,b,end\n",
    "start,A,c,A,c,A,b,A,end\n",
    "start,A,c,A,c,A,b,end\n",
    "start,A,c,A,c,A,end\n",
    "start,A,c,A,end\n",
    "start,A,end\n",
    "start,b,A,b,A,c,A,end\n",
    "start,b,A,b,A,end\n",
    "start,b,A,b,end\n",
    "start,b,A,c,A,b,A,end\n",
    "start,b,A,c,A,b,end\n",
    "start,b,A,c,A,c,A,end\n",
    "start,b,A,c,A,end\n",
    "start,b,A,end\n",
    "start,b,d,b,A,c,A,end\n",
    "start,b,d,b,A,end\n",
    "start,b,d,b,end\n",
    "start,b,end\n",
    "The slightly larger example above now has 103 paths through it, and the even larger example now has 3509 paths through it.\n",
    "\n",
    "Given these new rules, how many paths through this cave system are there?\n",
    "```"
   ]
  },
  {
   "cell_type": "code",
   "execution_count": 10,
   "metadata": {},
   "outputs": [],
   "source": [
    "def can_step2(node, path, special):\n",
    "    if node in path:\n",
    "        # special node can be revisited twice\n",
    "        if node == special:\n",
    "            if path.count(node) <=1:\n",
    "                return True\n",
    "            else:\n",
    "                return False\n",
    "        # other small nodes cannot be revisited\n",
    "        elif node.lower() == node:\n",
    "            return False\n",
    "        else:\n",
    "            return True\n",
    "    else:\n",
    "        return True"
   ]
  },
  {
   "cell_type": "code",
   "execution_count": 11,
   "metadata": {},
   "outputs": [],
   "source": [
    "def navigate2(graph, node='start', path=[], special=None):\n",
    "    path = path + [node]\n",
    "    paths = []\n",
    "    for n in graph[node]:\n",
    "        #print(f'{path} -> {n}?')\n",
    "        if n == 'end':\n",
    "            paths.append(path + [n])\n",
    "        elif can_step2(n,path, special):\n",
    "            new_paths = navigate2(graph, n, path, special)\n",
    "            for np in new_paths:\n",
    "                paths.append(np)\n",
    "        else:\n",
    "            continue\n",
    "    return paths"
   ]
  },
  {
   "cell_type": "code",
   "execution_count": 12,
   "metadata": {},
   "outputs": [],
   "source": [
    "def solve2(infile):\n",
    "    graph = load_graph(infile)\n",
    "    all_paths = set()\n",
    "    for node in graph:\n",
    "        if node not in ['start','end'] and node ==node.lower():\n",
    "            paths = set([ ''.join(i) for i in navigate2(graph, special=node)])\n",
    "            all_paths = all_paths | paths\n",
    "    # print(all_paths)\n",
    "    print(graph)\n",
    "    print(f\"There are {len(all_paths)} paths for {infile}\")"
   ]
  },
  {
   "cell_type": "code",
   "execution_count": 13,
   "metadata": {},
   "outputs": [
    {
     "name": "stdout",
     "output_type": "stream",
     "text": [
      "{'start': ['A', 'b'], 'A': ['c', 'b', 'end'], 'c': ['A'], 'b': ['A', 'd', 'end'], 'd': ['b']}\n",
      "There are 36 paths for ex1.txt\n"
     ]
    }
   ],
   "source": [
    "solve2('ex1.txt')"
   ]
  },
  {
   "cell_type": "code",
   "execution_count": 14,
   "metadata": {},
   "outputs": [
    {
     "name": "stdout",
     "output_type": "stream",
     "text": [
      "{'dc': ['end', 'start', 'HN', 'LN', 'kj'], 'HN': ['start', 'dc', 'end', 'kj'], 'start': ['HN', 'kj', 'dc'], 'LN': ['dc'], 'kj': ['sa', 'HN', 'dc'], 'sa': ['kj']}\n",
      "There are 103 paths for ex2.txt\n"
     ]
    }
   ],
   "source": [
    "solve2('ex2.txt')"
   ]
  },
  {
   "cell_type": "code",
   "execution_count": 15,
   "metadata": {},
   "outputs": [
    {
     "name": "stdout",
     "output_type": "stream",
     "text": [
      "{'fs': ['end', 'he', 'DX', 'pj'], 'he': ['DX', 'fs', 'pj', 'RW', 'WI', 'zg'], 'DX': ['he', 'pj', 'fs'], 'start': ['DX', 'pj', 'RW'], 'pj': ['DX', 'zg', 'he', 'RW', 'fs'], 'end': ['zg'], 'zg': ['end', 'sl', 'pj', 'RW', 'he'], 'sl': ['zg'], 'RW': ['he', 'pj', 'zg'], 'WI': ['he']}\n",
      "There are 3509 paths for ex3.txt\n"
     ]
    }
   ],
   "source": [
    "solve2('ex3.txt')"
   ]
  },
  {
   "cell_type": "code",
   "execution_count": 16,
   "metadata": {},
   "outputs": [
    {
     "name": "stdout",
     "output_type": "stream",
     "text": [
      "{'mx': ['IQ', 'HO', 'MU'], 'IQ': ['mx'], 'HO': ['mx', 'end', 'ni', 'xq'], 'xq': ['start', 'oz', 'HO', 'MU'], 'start': ['xq', 'HO', 'MU'], 'IE': ['qc', 'sa', 'ni', 'oz', 'end'], 'qc': ['IE'], 'oz': ['xq', 'ni', 'sa', 'IE'], 'ni': ['HO', 'oz', 'MU', 'IE'], 'MU': ['ni', 'start', 'sa', 'xq', 'mx'], 'sa': ['IE', 'end', 'oz', 'MU'], 'end': ['sa']}\n",
      "There are 123054 paths for input.txt\n"
     ]
    }
   ],
   "source": [
    "solve2('input.txt')"
   ]
  }
 ],
 "metadata": {
  "kernelspec": {
   "display_name": "Python 3",
   "language": "python",
   "name": "python3"
  },
  "language_info": {
   "codemirror_mode": {
    "name": "ipython",
    "version": 3
   },
   "file_extension": ".py",
   "mimetype": "text/x-python",
   "name": "python",
   "nbconvert_exporter": "python",
   "pygments_lexer": "ipython3",
   "version": "3.7.10"
  }
 },
 "nbformat": 4,
 "nbformat_minor": 4
}
