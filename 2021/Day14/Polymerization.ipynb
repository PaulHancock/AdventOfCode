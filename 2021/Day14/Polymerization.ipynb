{
 "cells": [
  {
   "cell_type": "markdown",
   "metadata": {},
   "source": [
    "```\n",
    "--- Day 14: Extended Polymerization ---\n",
    "The incredible pressures at this depth are starting to put a strain on your submarine. The submarine has polymerization equipment that would produce suitable materials to reinforce the submarine, and the nearby volcanically-active caves should even have the necessary input elements in sufficient quantities.\n",
    "\n",
    "The submarine manual contains instructions for finding the optimal polymer formula; specifically, it offers a polymer template and a list of pair insertion rules (your puzzle input). You just need to work out what polymer would result after repeating the pair insertion process a few times.\n",
    "\n",
    "For example:\n",
    "\n",
    "NNCB\n",
    "\n",
    "CH -> B\n",
    "HH -> N\n",
    "CB -> H\n",
    "NH -> C\n",
    "HB -> C\n",
    "HC -> B\n",
    "HN -> C\n",
    "NN -> C\n",
    "BH -> H\n",
    "NC -> B\n",
    "NB -> B\n",
    "BN -> B\n",
    "BB -> N\n",
    "BC -> B\n",
    "CC -> N\n",
    "CN -> C\n",
    "The first line is the polymer template - this is the starting point of the process.\n",
    "\n",
    "The following section defines the pair insertion rules. A rule like AB -> C means that when elements A and B are immediately adjacent, element C should be inserted between them. These insertions all happen simultaneously.\n",
    "\n",
    "So, starting with the polymer template NNCB, the first step simultaneously considers all three pairs:\n",
    "\n",
    "The first pair (NN) matches the rule NN -> C, so element C is inserted between the first N and the second N.\n",
    "The second pair (NC) matches the rule NC -> B, so element B is inserted between the N and the C.\n",
    "The third pair (CB) matches the rule CB -> H, so element H is inserted between the C and the B.\n",
    "Note that these pairs overlap: the second element of one pair is the first element of the next pair. Also, because all pairs are considered simultaneously, inserted elements are not considered to be part of a pair until the next step.\n",
    "\n",
    "After the first step of this process, the polymer becomes NCNBCHB.\n",
    "\n",
    "Here are the results of a few steps using the above rules:\n",
    "\n",
    "Template:     NNCB\n",
    "After step 1: NCNBCHB\n",
    "After step 2: NBCCNBBBCBHCB\n",
    "After step 3: NBBBCNCCNBBNBNBBCHBHHBCHB\n",
    "After step 4: NBBNBNBBCCNBCNCCNBBNBBNBBBNBBNBBCBHCBHHNHCBBCBHCB\n",
    "This polymer grows quickly. After step 5, it has length 97; After step 10, it has length 3073. After step 10, B occurs 1749 times, C occurs 298 times, H occurs 161 times, and N occurs 865 times; taking the quantity of the most common element (B, 1749) and subtracting the quantity of the least common element (H, 161) produces 1749 - 161 = 1588.\n",
    "\n",
    "Apply 10 steps of pair insertion to the polymer template and find the most and least common elements in the result. What do you get if you take the quantity of the most common element and subtract the quantity of the least common element?\n",
    "```"
   ]
  },
  {
   "cell_type": "code",
   "execution_count": 1,
   "metadata": {},
   "outputs": [],
   "source": [
    "import numpy as np"
   ]
  },
  {
   "cell_type": "code",
   "execution_count": 2,
   "metadata": {},
   "outputs": [],
   "source": [
    "def get_inputs(infile):\n",
    "    \"\"\"\n",
    "    Load this weeks example/input files\n",
    "    \n",
    "    parameters\n",
    "    ----------\n",
    "    infile : str\n",
    "        The name of the input file\n",
    "    \n",
    "    returns\n",
    "    -------\n",
    "    template, rules : str, dict\n",
    "        Template is the starting polymer\n",
    "        rules = { AB:C, ...} for the rule \"AB -> C\" etc \n",
    "    \"\"\"\n",
    "    template, rules = open(infile).read().split('\\n\\n')\n",
    "    template = template.strip()\n",
    "    rules = rules.split('\\n')[:-1]\n",
    "    rules = dict([ a.split(' -> ') for a in rules])\n",
    "    return template, rules"
   ]
  },
  {
   "cell_type": "code",
   "execution_count": 3,
   "metadata": {},
   "outputs": [],
   "source": [
    "def next_step(template, rules):\n",
    "    \"\"\"\n",
    "    Perform one iteration of the polymerization process\n",
    "    \n",
    "    parameters\n",
    "    ----------\n",
    "    template : str\n",
    "        starting polymer\n",
    "        \n",
    "    rules: dict\n",
    "        rules = { AB:C, ...} for the rule \"AB -> C\" etc\n",
    "      \n",
    "    returns\n",
    "    -------\n",
    "    template : str\n",
    "        The evolved / modified templates\n",
    "    \"\"\"\n",
    "    t = template\n",
    "    nt = ''\n",
    "    for a,b in zip(template[:-1], template[1:]):\n",
    "        nt += a\n",
    "        nt += rules.get( f\"{a}{b}\", '')\n",
    "    nt += t[-1]\n",
    "    return nt"
   ]
  },
  {
   "cell_type": "code",
   "execution_count": 4,
   "metadata": {},
   "outputs": [],
   "source": [
    "def do_steps(template, rules, nsteps):\n",
    "    \"\"\"\n",
    "    Iterate over multiple steps of the polymerization process\n",
    "    \n",
    "    parameters\n",
    "    ----------\n",
    "    template : str\n",
    "        starting polymer\n",
    "        \n",
    "    rules: dict\n",
    "        rules = { AB:C, ...} for the rule \"AB -> C\" etc\n",
    "    \n",
    "    nsteps : int\n",
    "        The number of steps to perform\n",
    "      \n",
    "    returns\n",
    "    -------\n",
    "    template : str\n",
    "        The evolved / modified templates\n",
    "    \"\"\"\n",
    "    t = template\n",
    "    for i in range(nsteps):\n",
    "        t = next_step(t,rules)\n",
    "    return t\n",
    "        "
   ]
  },
  {
   "cell_type": "code",
   "execution_count": 5,
   "metadata": {},
   "outputs": [],
   "source": [
    "def count_elements(polymer):\n",
    "    \"\"\"\n",
    "    Count the number of occurances of each element\n",
    "    Report the difference between the maximum and minimum\n",
    "    \n",
    "    parameters\n",
    "    ----------\n",
    "    polymer : str\n",
    "        The starting polymer template\n",
    "        \n",
    "    returns\n",
    "    -------\n",
    "    count : float\n",
    "        The max count minus the min count\n",
    "    \"\"\"\n",
    "    elements = frozenset(polymer)\n",
    "    counts = np.zeros(len(elements), dtype=int)\n",
    "    for i,s in enumerate(elements):\n",
    "        counts[i] = polymer.count(s)\n",
    "    mx = np.max(counts)\n",
    "    mn = np.min(counts)\n",
    "    return mx-mn"
   ]
  },
  {
   "cell_type": "code",
   "execution_count": 6,
   "metadata": {},
   "outputs": [],
   "source": [
    "def solve1(infile):\n",
    "    template, rules = get_inputs(infile)\n",
    "    ten_steps = do_steps(template,rules, 10)\n",
    "    answer = count_elements(ten_steps)\n",
    "    print(f\"The max-min count is {answer}\")"
   ]
  },
  {
   "cell_type": "code",
   "execution_count": 7,
   "metadata": {},
   "outputs": [
    {
     "name": "stdout",
     "output_type": "stream",
     "text": [
      "The max-min count is 1588\n"
     ]
    }
   ],
   "source": [
    "solve1('ex1.txt')"
   ]
  },
  {
   "cell_type": "code",
   "execution_count": 8,
   "metadata": {},
   "outputs": [
    {
     "name": "stdout",
     "output_type": "stream",
     "text": [
      "The max-min count is 3048\n"
     ]
    }
   ],
   "source": [
    "solve1('input.txt')"
   ]
  },
  {
   "cell_type": "markdown",
   "metadata": {},
   "source": [
    "```\n",
    "--- Part Two ---\n",
    "The resulting polymer isn't nearly strong enough to reinforce the submarine. You'll need to run more steps of the pair insertion process; a total of 40 steps should do it.\n",
    "\n",
    "In the above example, the most common element is B (occurring 2192039569602 times) and the least common element is H (occurring 3849876073 times); subtracting these produces 2188189693529.\n",
    "\n",
    "Apply 40 steps of pair insertion to the polymer template and find the most and least common elements in the result. What do you get if you take the quantity of the most common element and subtract the quantity of the least common element?\n",
    "\n",
    "```"
   ]
  },
  {
   "cell_type": "code",
   "execution_count": 9,
   "metadata": {},
   "outputs": [],
   "source": [
    "import itertools"
   ]
  },
  {
   "cell_type": "code",
   "execution_count": 10,
   "metadata": {},
   "outputs": [],
   "source": [
    "def get_elements(rules):\n",
    "    \"\"\"\n",
    "    Determine the set of all possible elements by inspecting a rule set\n",
    "    \n",
    "    parameters\n",
    "    ----------\n",
    "    rules : dict\n",
    "        rules = { AB:C, ...} for the rule \"AB -> C\" etc\n",
    "        \n",
    "    returns\n",
    "    -------\n",
    "    elements : frozenset\n",
    "        A frozenset of all the possible (single) elements in the rule set\n",
    "    \"\"\"\n",
    "    elements = frozenset(list(rules.values()))\n",
    "    return elements"
   ]
  },
  {
   "cell_type": "code",
   "execution_count": 11,
   "metadata": {},
   "outputs": [],
   "source": [
    "def decompose_pairs(polymer, elements):\n",
    "    \"\"\"\n",
    "    Turn a string into a dict of all the consecutive pairs of characters.\n",
    "    The pairs are the keys, and the count of occurances are the values.\n",
    "    \n",
    "    parameters\n",
    "    ----------\n",
    "    polymer : str\n",
    "        The input polymer\n",
    "        \n",
    "    elements : frozenset\n",
    "        The possible elements in our rule set\n",
    "        \n",
    "    returns\n",
    "    -------\n",
    "    pairs, empty : dict, dict\n",
    "        All possible pairs of elements. pairs contains the counts, empty has all counts=0\n",
    "    \"\"\"\n",
    "    pairs = dict( (''.join(p),0) for p in itertools.product(''.join(elements), repeat=2))\n",
    "    empty= pairs.copy()\n",
    "    \n",
    "    for a,b in zip(polymer[:-1], polymer[1:]):\n",
    "        pairs[f\"{a}{b}\"] +=1\n",
    "        \n",
    "    return pairs, empty"
   ]
  },
  {
   "cell_type": "code",
   "execution_count": 12,
   "metadata": {},
   "outputs": [],
   "source": [
    "def count_element2(pairs, elements, template):\n",
    "    \"\"\"\n",
    "    Count the number of occurances of each element\n",
    "    Report the difference between the maximum and minimum\n",
    "    \n",
    "    parameters\n",
    "    ----------\n",
    "    pairs : dict\n",
    "        pairs = {\"AB\":count, ... } for each possible pairing of elements\n",
    "    \n",
    "    elements : frozenset\n",
    "        all the possible single elements\n",
    "        \n",
    "    template : str\n",
    "        The starting polymer template\n",
    "        \n",
    "    returns\n",
    "    -------\n",
    "    count : float\n",
    "        The max count minus the min count\n",
    "    \"\"\"\n",
    "    counts = dict( (e,0) for e in elements)\n",
    "    # all elements are double counted except the first and last so we correct this\n",
    "    counts[template[0]] = 1\n",
    "    counts[template[-1]] = 1\n",
    "    for k in pairs:\n",
    "        for s in k:\n",
    "            counts[s] += pairs[k]\n",
    "    # all are double counted so the min/max is just 1/2 the value\n",
    "    mx = np.max(list(counts.values()))/2\n",
    "    mn = np.min(list(counts.values()))/2\n",
    "    return mx-mn\n",
    "    "
   ]
  },
  {
   "cell_type": "code",
   "execution_count": 13,
   "metadata": {},
   "outputs": [],
   "source": [
    "def solve2(infile):\n",
    "    template, rules = get_inputs(infile)\n",
    "    elements = get_elements(rules)\n",
    "\n",
    "    pairs, empty = decompose_pairs(template, elements)\n",
    "    \n",
    "    for _ in range(40):\n",
    "        c_pairs = empty.copy()\n",
    "        for p in pairs:\n",
    "            # if AB->C then pairs[AB] -=1, and pairs[AC]+=1, pairs[CB]+=1\n",
    "            out = rules[p]\n",
    "            k1 = p[0]+out\n",
    "            k2 = out+p[1]\n",
    "            n = pairs[p]\n",
    "            if n>0:\n",
    "                c_pairs[k1] += n\n",
    "                c_pairs[k2] += n\n",
    "                c_pairs[p]  -= n\n",
    "        for p in c_pairs:\n",
    "            pairs[p] += c_pairs[p]\n",
    "    \n",
    "    answer = int(count_element2(pairs, elements, template))\n",
    "    print(f\"The max-min count is {answer}\")"
   ]
  },
  {
   "cell_type": "code",
   "execution_count": 14,
   "metadata": {},
   "outputs": [
    {
     "name": "stdout",
     "output_type": "stream",
     "text": [
      "The max-min count is 2188189693529\n"
     ]
    }
   ],
   "source": [
    "solve2('ex1.txt')"
   ]
  },
  {
   "cell_type": "code",
   "execution_count": 15,
   "metadata": {},
   "outputs": [
    {
     "name": "stdout",
     "output_type": "stream",
     "text": [
      "The max-min count is 3288891573057\n"
     ]
    }
   ],
   "source": [
    "solve2('input.txt')"
   ]
  }
 ],
 "metadata": {
  "kernelspec": {
   "display_name": "Python 3",
   "language": "python",
   "name": "python3"
  },
  "language_info": {
   "codemirror_mode": {
    "name": "ipython",
    "version": 3
   },
   "file_extension": ".py",
   "mimetype": "text/x-python",
   "name": "python",
   "nbconvert_exporter": "python",
   "pygments_lexer": "ipython3",
   "version": "3.7.10"
  }
 },
 "nbformat": 4,
 "nbformat_minor": 4
}
