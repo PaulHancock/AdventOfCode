{
 "cells": [
  {
   "cell_type": "raw",
   "id": "9e18aeb7-3fe8-4f7f-bab5-8e5e018cf476",
   "metadata": {},
   "source": [
    "--- Day 2: Dive! ---\n",
    "Now, you need to figure out how to pilot this thing.\n",
    "\n",
    "It seems like the submarine can take a series of commands like forward 1, down 2, or up 3:\n",
    "\n",
    "forward X increases the horizontal position by X units.\n",
    "down X increases the depth by X units.\n",
    "up X decreases the depth by X units.\n",
    "Note that since you're on a submarine, down and up affect your depth, and so they have the opposite result of what you might expect.\n",
    "\n",
    "The submarine seems to already have a planned course (your puzzle input). You should probably figure out where it's going. For example:\n",
    "\n",
    "forward 5\n",
    "down 5\n",
    "forward 8\n",
    "up 3\n",
    "down 8\n",
    "forward 2\n",
    "Your horizontal position and depth both start at 0. The steps above would then modify them as follows:\n",
    "\n",
    "forward 5 adds 5 to your horizontal position, a total of 5.\n",
    "down 5 adds 5 to your depth, resulting in a value of 5.\n",
    "forward 8 adds 8 to your horizontal position, a total of 13.\n",
    "up 3 decreases your depth by 3, resulting in a value of 2.\n",
    "down 8 adds 8 to your depth, resulting in a value of 10.\n",
    "forward 2 adds 2 to your horizontal position, a total of 15.\n",
    "After following these instructions, you would have a horizontal position of 15 and a depth of 10. (Multiplying these together produces 150.)\n",
    "\n",
    "Calculate the horizontal position and depth you would have after following the planned course. What do you get if you multiply your final horizontal position by your final depth?"
   ]
  },
  {
   "cell_type": "code",
   "execution_count": 14,
   "id": "ec153858-a087-42d3-860a-30564be68983",
   "metadata": {},
   "outputs": [],
   "source": [
    "data = open('input.txt').readlines()\n",
    "commands = [d.split() for d in data]"
   ]
  },
  {
   "cell_type": "code",
   "execution_count": 15,
   "id": "2032ce26-5e50-4b6f-a08d-06233fe90bde",
   "metadata": {},
   "outputs": [
    {
     "data": {
      "text/plain": [
       "[['forward', '9'],\n",
       " ['forward', '7'],\n",
       " ['down', '7'],\n",
       " ['down', '3'],\n",
       " ['forward', '2'],\n",
       " ['forward', '3'],\n",
       " ['forward', '7'],\n",
       " ['down', '6'],\n",
       " ['forward', '7'],\n",
       " ['down', '7']]"
      ]
     },
     "execution_count": 15,
     "metadata": {},
     "output_type": "execute_result"
    }
   ],
   "source": [
    "commands[:10]"
   ]
  },
  {
   "cell_type": "code",
   "execution_count": 8,
   "id": "d08620ae-f684-4b38-ac99-25e48579e3cc",
   "metadata": {},
   "outputs": [],
   "source": [
    "hpos = np.sum(list(map(int, [c[1] for c in commands if c[0]=='forward'])))"
   ]
  },
  {
   "cell_type": "code",
   "execution_count": 6,
   "id": "e903f49a-93fe-4f35-804c-69b297ae97e0",
   "metadata": {},
   "outputs": [
    {
     "data": {
      "text/plain": [
       "951"
      ]
     },
     "execution_count": 6,
     "metadata": {},
     "output_type": "execute_result"
    }
   ],
   "source": [
    "down = np.sum(list(map(int, [c[1] for c in commands if c[0]=='down'])))\n",
    "up = np.sum(list(map(int, [c[1] for c in commands if c[0]=='up'])))\n",
    "depth = down-up\n",
    "depth"
   ]
  },
  {
   "cell_type": "code",
   "execution_count": 9,
   "id": "218e407b-d4d6-40f7-86f0-5a939f9fc40d",
   "metadata": {},
   "outputs": [
    {
     "data": {
      "text/plain": [
       "1882980"
      ]
     },
     "execution_count": 9,
     "metadata": {},
     "output_type": "execute_result"
    }
   ],
   "source": [
    "hpos*depth"
   ]
  },
  {
   "cell_type": "raw",
   "id": "765f7770-95ff-4a99-981b-538fcf19f092",
   "metadata": {},
   "source": [
    "--- Part Two ---\n",
    "Based on your calculations, the planned course doesn't seem to make any sense. You find the submarine manual and discover that the process is actually slightly more complicated.\n",
    "\n",
    "In addition to horizontal position and depth, you'll also need to track a third value, aim, which also starts at 0. The commands also mean something entirely different than you first thought:\n",
    "\n",
    "down X increases your aim by X units.\n",
    "up X decreases your aim by X units.\n",
    "forward X does two things:\n",
    "It increases your horizontal position by X units.\n",
    "It increases your depth by your aim multiplied by X.\n",
    "Again note that since you're on a submarine, down and up do the opposite of what you might expect: \"down\" means aiming in the positive direction.\n",
    "\n",
    "Now, the above example does something different:\n",
    "\n",
    "forward 5 adds 5 to your horizontal position, a total of 5. Because your aim is 0, your depth does not change.\n",
    "down 5 adds 5 to your aim, resulting in a value of 5.\n",
    "forward 8 adds 8 to your horizontal position, a total of 13. Because your aim is 5, your depth increases by 8*5=40.\n",
    "up 3 decreases your aim by 3, resulting in a value of 2.\n",
    "down 8 adds 8 to your aim, resulting in a value of 10.\n",
    "forward 2 adds 2 to your horizontal position, a total of 15. Because your aim is 10, your depth increases by 2*10=20 to a total of 60.\n",
    "After following these new instructions, you would have a horizontal position of 15 and a depth of 60. (Multiplying these produces 900.)\n",
    "\n",
    "Using this new interpretation of the commands, calculate the horizontal position and depth you would have after following the planned course. What do you get if you multiply your final horizontal position by your final depth?\n",
    "\n"
   ]
  },
  {
   "cell_type": "code",
   "execution_count": 18,
   "id": "8a2ecc46-9ff8-46fa-a3ed-3bfd9b87ca26",
   "metadata": {},
   "outputs": [],
   "source": [
    "aim = 0 \n",
    "depth = 0\n",
    "range = 0\n",
    "cmds, vals = zip(*commands)\n",
    "vals = list(map(int, vals))\n",
    "for cmd, val in zip(cmds, vals):\n",
    "    if cmd == 'down':\n",
    "        aim += val\n",
    "    elif cmd =='up':\n",
    "        aim -= val\n",
    "    elif cmd == 'forward':\n",
    "        range +=val\n",
    "        depth += aim*val"
   ]
  },
  {
   "cell_type": "code",
   "execution_count": 20,
   "id": "547ac4ef-20da-4dbc-82ac-5bc23be5a760",
   "metadata": {},
   "outputs": [
    {
     "data": {
      "text/plain": [
       "1971232560"
      ]
     },
     "execution_count": 20,
     "metadata": {},
     "output_type": "execute_result"
    }
   ],
   "source": [
    "depth * range"
   ]
  },
  {
   "cell_type": "code",
   "execution_count": null,
   "id": "ef30da19-d368-4fb4-a263-af7a2c93ab3a",
   "metadata": {},
   "outputs": [],
   "source": []
  }
 ],
 "metadata": {
  "kernelspec": {
   "display_name": "Python 3.8.10 64-bit ('.py3': venv)",
   "language": "python",
   "name": "python3810jvsc74a57bd0b9a9f3261a017ac525a6d60225a1f15fb5f3be607379cc02a1f0701285d71002"
  },
  "language_info": {
   "codemirror_mode": {
    "name": "ipython",
    "version": 3
   },
   "file_extension": ".py",
   "mimetype": "text/x-python",
   "name": "python",
   "nbconvert_exporter": "python",
   "pygments_lexer": "ipython3",
   "version": "3.8.10"
  }
 },
 "nbformat": 4,
 "nbformat_minor": 5
}
