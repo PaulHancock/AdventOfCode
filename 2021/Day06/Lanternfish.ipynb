{
 "cells": [
  {
   "cell_type": "raw",
   "id": "d26ab981-0f13-434c-9c00-9cb96cb9d2fe",
   "metadata": {},
   "source": [
    "--- Day 6: Lanternfish ---\n",
    "The sea floor is getting steeper. Maybe the sleigh keys got carried this way?\n",
    "\n",
    "A massive school of glowing lanternfish swims past. They must spawn quickly to reach such large numbers - maybe exponentially quickly? You should model their growth rate to be sure.\n",
    "\n",
    "Although you know nothing about this specific species of lanternfish, you make some guesses about their attributes. Surely, each lanternfish creates a new lanternfish once every 7 days.\n",
    "\n",
    "However, this process isn't necessarily synchronized between every lanternfish - one lanternfish might have 2 days left until it creates another lanternfish, while another might have 4. So, you can model each fish as a single number that represents the number of days until it creates a new lanternfish.\n",
    "\n",
    "Furthermore, you reason, a new lanternfish would surely need slightly longer before it's capable of producing more lanternfish: two more days for its first cycle.\n",
    "\n",
    "So, suppose you have a lanternfish with an internal timer value of 3:\n",
    "\n",
    "After one day, its internal timer would become 2.\n",
    "After another day, its internal timer would become 1.\n",
    "After another day, its internal timer would become 0.\n",
    "After another day, its internal timer would reset to 6, and it would create a new lanternfish with an internal timer of 8.\n",
    "After another day, the first lanternfish would have an internal timer of 5, and the second lanternfish would have an internal timer of 7.\n",
    "A lanternfish that creates a new fish resets its timer to 6, not 7 (because 0 is included as a valid timer value). The new lanternfish starts with an internal timer of 8 and does not start counting down until the next day.\n",
    "\n",
    "Realizing what you're trying to do, the submarine automatically produces a list of the ages of several hundred nearby lanternfish (your puzzle input). For example, suppose you were given the following list:\n",
    "\n",
    "3,4,3,1,2\n",
    "This list means that the first fish has an internal timer of 3, the second fish has an internal timer of 4, and so on until the fifth fish, which has an internal timer of 2. Simulating these fish over several days would proceed as follows:\n",
    "\n",
    "Initial state: 3,4,3,1,2\n",
    "After  1 day:  2,3,2,0,1\n",
    "After  2 days: 1,2,1,6,0,8\n",
    "After  3 days: 0,1,0,5,6,7,8\n",
    "After  4 days: 6,0,6,4,5,6,7,8,8\n",
    "After  5 days: 5,6,5,3,4,5,6,7,7,8\n",
    "After  6 days: 4,5,4,2,3,4,5,6,6,7\n",
    "After  7 days: 3,4,3,1,2,3,4,5,5,6\n",
    "After  8 days: 2,3,2,0,1,2,3,4,4,5\n",
    "After  9 days: 1,2,1,6,0,1,2,3,3,4,8\n",
    "After 10 days: 0,1,0,5,6,0,1,2,2,3,7,8\n",
    "After 11 days: 6,0,6,4,5,6,0,1,1,2,6,7,8,8,8\n",
    "After 12 days: 5,6,5,3,4,5,6,0,0,1,5,6,7,7,7,8,8\n",
    "After 13 days: 4,5,4,2,3,4,5,6,6,0,4,5,6,6,6,7,7,8,8\n",
    "After 14 days: 3,4,3,1,2,3,4,5,5,6,3,4,5,5,5,6,6,7,7,8\n",
    "After 15 days: 2,3,2,0,1,2,3,4,4,5,2,3,4,4,4,5,5,6,6,7\n",
    "After 16 days: 1,2,1,6,0,1,2,3,3,4,1,2,3,3,3,4,4,5,5,6,8\n",
    "After 17 days: 0,1,0,5,6,0,1,2,2,3,0,1,2,2,2,3,3,4,4,5,7,8\n",
    "After 18 days: 6,0,6,4,5,6,0,1,1,2,6,0,1,1,1,2,2,3,3,4,6,7,8,8,8,8\n",
    "Each day, a 0 becomes a 6 and adds a new 8 to the end of the list, while each other number decreases by 1 if it was present at the start of the day.\n",
    "\n",
    "In this example, after 18 days, there are a total of 26 fish. After 80 days, there would be a total of 5934.\n",
    "\n",
    "Find a way to simulate lanternfish. How many lanternfish would there be after 80 days?"
   ]
  },
  {
   "cell_type": "code",
   "execution_count": 1,
   "id": "f9a525d5-a03c-4dc8-8a49-8d86d17910bd",
   "metadata": {},
   "outputs": [],
   "source": [
    "import numpy as np"
   ]
  },
  {
   "cell_type": "code",
   "execution_count": 69,
   "id": "05b51ed7-07d9-4b9d-9050-f283ec1ff17c",
   "metadata": {},
   "outputs": [
    {
     "data": {
      "text/plain": [
       "array([3, 4, 3, 1, 2], dtype=int32)"
      ]
     },
     "execution_count": 69,
     "metadata": {},
     "output_type": "execute_result"
    }
   ],
   "source": [
    "initial_state = \"3,4,3,1,2\"\n",
    "# Represent fish a list\n",
    "initial_state = np.array([int(i) for i in initial_state.split(',')], dtype=np.int32)\n",
    "initial_state"
   ]
  },
  {
   "cell_type": "code",
   "execution_count": 124,
   "id": "d490dc4f-f9cb-42bc-a43f-d8094ab02cad",
   "metadata": {},
   "outputs": [],
   "source": [
    "def evolve(state):\n",
    "    \"\"\"\n",
    "    Evolve a list of fish.\n",
    "    Each fish ages (count decreases)\n",
    "    zero age fish are reset to 6, and produce new fish aged 8\n",
    "    \"\"\"\n",
    "    state -= 1\n",
    "    mask = np.where(state==-1)\n",
    "    state[mask] = 6\n",
    "    new_fish = np.ones(len(mask[0]),dtype=np.int32)*8\n",
    "    state = np.hstack([state,new_fish])\n",
    "    return state"
   ]
  },
  {
   "cell_type": "code",
   "execution_count": 90,
   "id": "a5c6e677-b034-4f67-bc14-e84bbcbb760a",
   "metadata": {},
   "outputs": [],
   "source": [
    "test_state = open('input.txt').read()\n",
    "test_state = np.array([int(i) for i in test_state.split(',')], dtype=np.int32)"
   ]
  },
  {
   "cell_type": "code",
   "execution_count": 93,
   "id": "cae1730b-5b84-4bfe-9d65-34451f974db1",
   "metadata": {},
   "outputs": [
    {
     "name": "stdout",
     "output_type": "stream",
     "text": [
      "There are 362346 lantern fish after 80 days\n"
     ]
    }
   ],
   "source": [
    "state = np.copy(test_state)\n",
    "for d in range(80):\n",
    "    state = evolve(state)\n",
    "print(f\"There are {len(state)} lantern fish after 80 days\")"
   ]
  },
  {
   "cell_type": "raw",
   "id": "2031f4dc-08ec-4e46-a2f6-5c0d1a3f83a8",
   "metadata": {},
   "source": [
    "--- Part Two ---\n",
    "Suppose the lanternfish live forever and have unlimited food and space. Would they take over the entire ocean?\n",
    "\n",
    "After 256 days in the example above, there would be a total of 26984457539 lanternfish!\n",
    "\n",
    "How many lanternfish would there be after 256 days?\n",
    "\n"
   ]
  },
  {
   "cell_type": "code",
   "execution_count": null,
   "id": "3da5eaa1-cf72-43a2-9ffc-64e57baf2b5a",
   "metadata": {},
   "outputs": [],
   "source": [
    "# The following takes far too long to compute and may result in memory error so we need a new way\n",
    "state = np.copy(test_state)\n",
    "for d in range(256):\n",
    "    state = evolve(state)\n",
    "#     print(d+1,state)\n",
    "print(f\"There are {len(state)} lantern fish after 256 days\")"
   ]
  },
  {
   "cell_type": "code",
   "execution_count": 125,
   "id": "cb463cc7-7470-40f1-9b1c-36e7ab3379cc",
   "metadata": {},
   "outputs": [],
   "source": [
    "# Represent fish a a dict of {age:numfish}\n",
    "school = {i:0 for i in range (9)}"
   ]
  },
  {
   "cell_type": "code",
   "execution_count": 86,
   "id": "ec4dad77-f751-465a-86c6-800a6b4226b4",
   "metadata": {},
   "outputs": [
    {
     "data": {
      "text/plain": [
       "{0: 0, 1: 0, 2: 0, 3: 0, 4: 0, 5: 0, 6: 0, 7: 0, 8: 0}"
      ]
     },
     "execution_count": 86,
     "metadata": {},
     "output_type": "execute_result"
    }
   ],
   "source": [
    "school"
   ]
  },
  {
   "cell_type": "code",
   "execution_count": 126,
   "id": "2eb58ecb-a579-4792-befa-97f3b6c34cc4",
   "metadata": {},
   "outputs": [],
   "source": [
    "# convert the list of numbers into our dict of age:fish\n",
    "for t in test_state:\n",
    "    school[t] +=1"
   ]
  },
  {
   "cell_type": "code",
   "execution_count": 127,
   "id": "f6bdd76d-7f91-40bf-9830-114ab302a659",
   "metadata": {},
   "outputs": [],
   "source": [
    "def evolve_dict(school):\n",
    "    \"\"\"\n",
    "    Evolve all fish of the same age at once.\n",
    "    Each fish ages (count decreases)\n",
    "    zero age fish are reset to 6, and produce new fish aged 8\n",
    "    \"\"\"\n",
    "    new_fish = school[0]\n",
    "    # move each fish to a new age bracket\n",
    "    for i in range(0,8):\n",
    "        school[i] = school[i+1]\n",
    "    # new fish are borne with age 8\n",
    "    school[8] = new_fish\n",
    "    # parent fish reset to 6\n",
    "    school[6] += new_fish\n",
    "    return school\n"
   ]
  },
  {
   "cell_type": "code",
   "execution_count": 129,
   "id": "1d5fbd0b-8f52-4f9f-9f28-bdc15e91856c",
   "metadata": {},
   "outputs": [
    {
     "name": "stdout",
     "output_type": "stream",
     "text": [
      "There are 300 lantern fish on day 0\n",
      "There are 1639643057051 lantern fish after 256 days\n"
     ]
    }
   ],
   "source": [
    "school = {i:0 for i in range (9)}\n",
    "\n",
    "for t in test_state:\n",
    "    school[t] +=1\n",
    "\n",
    "    nfish = np.sum([school[k] for k in school])\n",
    "print(f'There are {nfish} lantern fish on day 0')\n",
    "\n",
    "for d in range(256):\n",
    "    evolve_dict(school)\n",
    "\n",
    "    nfish = np.sum([school[k] for k in school])\n",
    "print(f\"There are {nfish} lantern fish after 256 days\")"
   ]
  },
  {
   "cell_type": "code",
   "execution_count": null,
   "id": "6c9b9e05-85c7-4ed2-99a3-a0b9e3cf6695",
   "metadata": {},
   "outputs": [],
   "source": []
  }
 ],
 "metadata": {
  "kernelspec": {
   "display_name": "Python 3.8.10 64-bit ('.py3': venv)",
   "language": "python",
   "name": "python3810jvsc74a57bd0b9a9f3261a017ac525a6d60225a1f15fb5f3be607379cc02a1f0701285d71002"
  },
  "language_info": {
   "codemirror_mode": {
    "name": "ipython",
    "version": 3
   },
   "file_extension": ".py",
   "mimetype": "text/x-python",
   "name": "python",
   "nbconvert_exporter": "python",
   "pygments_lexer": "ipython3",
   "version": "3.8.10"
  }
 },
 "nbformat": 4,
 "nbformat_minor": 5
}
