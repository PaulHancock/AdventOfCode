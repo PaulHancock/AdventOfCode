{
 "cells": [
  {
   "cell_type": "raw",
   "id": "b35cba2d-a967-4cc8-8158-591e052b985e",
   "metadata": {},
   "source": [
    "--- Day 5: Hydrothermal Venture ---\n",
    "You come across a field of hydrothermal vents on the ocean floor! These vents constantly produce large, opaque clouds, so it would be best to avoid them if possible.\n",
    "\n",
    "They tend to form in lines; the submarine helpfully produces a list of nearby lines of vents (your puzzle input) for you to review. For example:\n",
    "\n",
    "0,9 -> 5,9\n",
    "8,0 -> 0,8\n",
    "9,4 -> 3,4\n",
    "2,2 -> 2,1\n",
    "7,0 -> 7,4\n",
    "6,4 -> 2,0\n",
    "0,9 -> 2,9\n",
    "3,4 -> 1,4\n",
    "0,0 -> 8,8\n",
    "5,5 -> 8,2\n",
    "Each line of vents is given as a line segment in the format x1,y1 -> x2,y2 where x1,y1 are the coordinates of one end the line segment and x2,y2 are the coordinates of the other end. These line segments include the points at both ends. In other words:\n",
    "\n",
    "An entry like 1,1 -> 1,3 covers points 1,1, 1,2, and 1,3.\n",
    "An entry like 9,7 -> 7,7 covers points 9,7, 8,7, and 7,7.\n",
    "For now, only consider horizontal and vertical lines: lines where either x1 = x2 or y1 = y2.\n",
    "\n",
    "So, the horizontal and vertical lines from the above list would produce the following diagram:\n",
    "\n",
    ".......1..\n",
    "..1....1..\n",
    "..1....1..\n",
    ".......1..\n",
    ".112111211\n",
    "..........\n",
    "..........\n",
    "..........\n",
    "..........\n",
    "222111....\n",
    "In this diagram, the top left corner is 0,0 and the bottom right corner is 9,9. Each position is shown as the number of lines which cover that point or . if no line covers that point. The top-left pair of 1s, for example, comes from 2,2 -> 2,1; the very bottom row is formed by the overlapping lines 0,9 -> 5,9 and 0,9 -> 2,9.\n",
    "\n",
    "To avoid the most dangerous areas, you need to determine the number of points where at least two lines overlap. In the above example, this is anywhere in the diagram with a 2 or larger - a total of 5 points.\n",
    "\n",
    "Consider only horizontal and vertical lines. At how many points do at least two lines overlap?\n",
    "\n"
   ]
  },
  {
   "cell_type": "code",
   "execution_count": 2,
   "id": "8a459bc3-6055-42c2-9d21-996b1b50de4c",
   "metadata": {},
   "outputs": [],
   "source": [
    "import numpy as np"
   ]
  },
  {
   "cell_type": "code",
   "execution_count": 3,
   "id": "84100490-7a43-4f93-a6af-d28fe9689b96",
   "metadata": {},
   "outputs": [],
   "source": [
    "test = \"\"\"0,9 -> 5,9\n",
    "8,0 -> 0,8\n",
    "9,4 -> 3,4\n",
    "2,2 -> 2,1\n",
    "7,0 -> 7,4\n",
    "6,4 -> 2,0\n",
    "0,9 -> 2,9\n",
    "3,4 -> 1,4\n",
    "0,0 -> 8,8\n",
    "5,5 -> 8,2\"\"\""
   ]
  },
  {
   "cell_type": "code",
   "execution_count": 29,
   "id": "8408d3c7-0da3-4ec0-9308-8a88a18d002b",
   "metadata": {},
   "outputs": [],
   "source": [
    "def make_start_end(inputs):\n",
    "    \"\"\"\n",
    "    Break input into a list of start locations and end locations\n",
    "    \n",
    "    return\n",
    "    ------\n",
    "    starts, ends : list, list\n",
    "      list of [int,int] being the locations on the chart for the\n",
    "      start/end of the lines\n",
    "    \"\"\"\n",
    "    lines = inputs.split('\\n')\n",
    "    coords = [ l.split('->') for l in lines]\n",
    "    starts = [ list(map(int,a[0].split(','))) for a in coords]\n",
    "    ends = [ list(map(int,a[1].split(','))) for a in coords]\n",
    "    return starts, ends"
   ]
  },
  {
   "cell_type": "code",
   "execution_count": 30,
   "id": "192ae502-053c-4a18-abc9-6758dce54ba4",
   "metadata": {},
   "outputs": [],
   "source": [
    "def make_chart(starts,ends):\n",
    "    \"\"\"\n",
    "    Figure out the minimum size of the chart based on\n",
    "    the start/end of the lines\n",
    "    \n",
    "    return\n",
    "    ------\n",
    "    chart : np.ndarray\n",
    "      The chart of the sea floor.\n",
    "    \"\"\"\n",
    "    mx_start = np.max(starts, axis=0)\n",
    "    mx_end = np.max(ends, axis=0)\n",
    "    size = np.max([mx_start, mx_end], axis=0) + np.array([1,1])\n",
    "    chart = np.zeros(size, dtype=np.int)\n",
    "    print(f\"Chart is {size}\")\n",
    "    return chart"
   ]
  },
  {
   "cell_type": "code",
   "execution_count": 6,
   "id": "9440b983-a3de-4a24-8b6d-167d97fd349f",
   "metadata": {},
   "outputs": [],
   "source": [
    "def is_udlr(start,end):\n",
    "    \"\"\" Check if the start/end represents a horizontal or vertical line\"\"\"\n",
    "    return (start[0] == end[0]) | (start[1] == end[1])"
   ]
  },
  {
   "cell_type": "code",
   "execution_count": 7,
   "id": "cd7a2fea-ff55-48e7-a8ed-bee470172f82",
   "metadata": {},
   "outputs": [],
   "source": [
    "def fill_in(start, end, chart):\n",
    "    \"\"\"\n",
    "    \"\"\"\n",
    "    # a,b -> c, d\n",
    "    r = slice( min(start[0], end[0]), max(start[0], end[0])+1)\n",
    "    c = slice( min(start[1], end[1]), max(start[1], end[1])+1)\n",
    "    chart[r,c] +=1\n",
    "    return"
   ]
  },
  {
   "cell_type": "code",
   "execution_count": 8,
   "id": "7c0cff75-b3e9-4727-b77f-fffe21bf80fa",
   "metadata": {},
   "outputs": [],
   "source": [
    "def solution1(inputs):\n",
    "    starts, ends = make_start_end(inputs)\n",
    "    chart = make_chart(starts, ends)\n",
    "    for s, e in zip(starts, ends):\n",
    "        #print(f\"{s}->{e}\")\n",
    "        if is_udlr(s,e):\n",
    "            #print('linear')\n",
    "            fill_in(s,e,chart)\n",
    "        else:\n",
    "            #print('diag')\n",
    "            pass\n",
    "    print(chart)\n",
    "    num_crossings = len(np.where(chart>=2)[0])\n",
    "    return num_crossings"
   ]
  },
  {
   "cell_type": "code",
   "execution_count": 9,
   "id": "cfbd649f-7bbb-4c6c-9c25-d840665e0985",
   "metadata": {},
   "outputs": [
    {
     "name": "stdout",
     "output_type": "stream",
     "text": [
      "Chart is [10 10]\n",
      "[[0 0 0 0 0 0 0 0 0 2]\n",
      " [0 0 0 0 1 0 0 0 0 2]\n",
      " [0 1 1 0 1 0 0 0 0 2]\n",
      " [0 0 0 0 2 0 0 0 0 1]\n",
      " [0 0 0 0 1 0 0 0 0 1]\n",
      " [0 0 0 0 1 0 0 0 0 1]\n",
      " [0 0 0 0 1 0 0 0 0 0]\n",
      " [1 1 1 1 2 0 0 0 0 0]\n",
      " [0 0 0 0 1 0 0 0 0 0]\n",
      " [0 0 0 0 1 0 0 0 0 0]]\n"
     ]
    },
    {
     "name": "stderr",
     "output_type": "stream",
     "text": [
      "/tmp/ipykernel_2249005/1658101582.py:7: DeprecationWarning: `np.int` is a deprecated alias for the builtin `int`. To silence this warning, use `int` by itself. Doing this will not modify any behavior and is safe. When replacing `np.int`, you may wish to use e.g. `np.int64` or `np.int32` to specify the precision. If you wish to review your current use, check the release note link for additional information.\n",
      "Deprecated in NumPy 1.20; for more details and guidance: https://numpy.org/devdocs/release/1.20.0-notes.html#deprecations\n",
      "  chart = np.zeros(size, dtype=np.int)\n"
     ]
    },
    {
     "data": {
      "text/plain": [
       "5"
      ]
     },
     "execution_count": 9,
     "metadata": {},
     "output_type": "execute_result"
    }
   ],
   "source": [
    "solution1(test)"
   ]
  },
  {
   "cell_type": "code",
   "execution_count": 10,
   "id": "2f0e2e44-5c0c-46ac-ae18-69c99a6683c0",
   "metadata": {},
   "outputs": [
    {
     "name": "stdout",
     "output_type": "stream",
     "text": [
      "Chart is [991 991]\n",
      "[[0 0 0 ... 0 0 0]\n",
      " [0 0 0 ... 0 0 0]\n",
      " [0 0 0 ... 0 0 0]\n",
      " ...\n",
      " [0 0 0 ... 0 0 0]\n",
      " [0 0 0 ... 0 0 0]\n",
      " [0 0 0 ... 0 0 0]]\n"
     ]
    },
    {
     "name": "stderr",
     "output_type": "stream",
     "text": [
      "/tmp/ipykernel_2249005/1658101582.py:7: DeprecationWarning: `np.int` is a deprecated alias for the builtin `int`. To silence this warning, use `int` by itself. Doing this will not modify any behavior and is safe. When replacing `np.int`, you may wish to use e.g. `np.int64` or `np.int32` to specify the precision. If you wish to review your current use, check the release note link for additional information.\n",
      "Deprecated in NumPy 1.20; for more details and guidance: https://numpy.org/devdocs/release/1.20.0-notes.html#deprecations\n",
      "  chart = np.zeros(size, dtype=np.int)\n"
     ]
    },
    {
     "data": {
      "text/plain": [
       "4873"
      ]
     },
     "execution_count": 10,
     "metadata": {},
     "output_type": "execute_result"
    }
   ],
   "source": [
    "inputs = open('input.txt').read()[:-1]\n",
    "solution1(inputs)"
   ]
  },
  {
   "cell_type": "raw",
   "id": "3a0041e0-3586-41ff-bf63-d7d620919bba",
   "metadata": {},
   "source": [
    "--- Part Two ---\n",
    "Unfortunately, considering only horizontal and vertical lines doesn't give you the full picture; you need to also consider diagonal lines.\n",
    "\n",
    "Because of the limits of the hydrothermal vent mapping system, the lines in your list will only ever be horizontal, vertical, or a diagonal line at exactly 45 degrees. In other words:\n",
    "\n",
    "An entry like 1,1 -> 3,3 covers points 1,1, 2,2, and 3,3.\n",
    "An entry like 9,7 -> 7,9 covers points 9,7, 8,8, and 7,9.\n",
    "Considering all lines from the above example would now produce the following diagram:\n",
    "\n",
    "1.1....11.\n",
    ".111...2..\n",
    "..2.1.111.\n",
    "...1.2.2..\n",
    ".112313211\n",
    "...1.2....\n",
    "..1...1...\n",
    ".1.....1..\n",
    "1.......1.\n",
    "222111....\n",
    "You still need to determine the number of points where at least two lines overlap. In the above example, this is still anywhere in the diagram with a 2 or larger - now a total of 12 points.\n",
    "\n",
    "Consider all of the lines. At how many points do at least two lines overlap?"
   ]
  },
  {
   "cell_type": "code",
   "execution_count": 27,
   "id": "ea93a6a9-2ed9-4372-aac2-013e0eee985c",
   "metadata": {},
   "outputs": [],
   "source": [
    "def fill_in_diag(start, end, chart):\n",
    "    \"\"\"\n",
    "    \"\"\"\n",
    "    # a,b -> c, d\n",
    "    a,b = start\n",
    "    c,d = end\n",
    "    if a<=c:\n",
    "        rows = list(range(a,c+1))\n",
    "    else:\n",
    "        rows = list(range(a,c-1,-1))\n",
    "    if b<=d:\n",
    "        cols = list(range(b,d+1))\n",
    "    else:\n",
    "        cols = list(range(b,d-1,-1))\n",
    "#     print(start,end)\n",
    "#     print(rows,cols)\n",
    "    for i, (r,c) in enumerate(zip(rows,cols)):\n",
    "        chart[r,c] +=1\n",
    "    return"
   ]
  },
  {
   "cell_type": "code",
   "execution_count": 16,
   "id": "3a3a8cad-b624-4bb2-a786-5064188bffed",
   "metadata": {},
   "outputs": [],
   "source": [
    "def solution2(inputs):\n",
    "    starts, ends = make_start_end(inputs)\n",
    "    chart = make_chart(starts, ends)\n",
    "    for s, e in zip(starts, ends):\n",
    "        #print(f\"{s}->{e}\")\n",
    "        if is_udlr(s,e):\n",
    "            #print('linear')\n",
    "            fill_in(s,e,chart)\n",
    "        else:\n",
    "            #print('diag')\n",
    "            fill_in_diag(s,e,chart)\n",
    "    print(chart)\n",
    "    num_crossings = len(np.where(chart>=2)[0])\n",
    "    return num_crossings"
   ]
  },
  {
   "cell_type": "code",
   "execution_count": 14,
   "id": "121dbeb7-5a1c-40c8-9ca8-3b9d6cea8992",
   "metadata": {},
   "outputs": [],
   "source": [
    "inputs = open('input.txt').read()[:-1]"
   ]
  },
  {
   "cell_type": "code",
   "execution_count": 25,
   "id": "23ba1405-7fad-48ae-93d3-16cfecd38cb3",
   "metadata": {},
   "outputs": [
    {
     "name": "stdout",
     "output_type": "stream",
     "text": [
      "Chart is [10 10]\n",
      "[8, 0] [0, 8]\n",
      "[8, 7, 6, 5, 4, 3, 2, 1, 0] [0, 1, 2, 3, 4, 5, 6, 7, 8]\n",
      "[6, 4] [2, 0]\n",
      "[6, 5, 4, 3, 2] [4, 3, 2, 1, 0]\n",
      "[0, 0] [8, 8]\n",
      "[0, 1, 2, 3, 4, 5, 6, 7, 8] [0, 1, 2, 3, 4, 5, 6, 7, 8]\n",
      "[5, 5] [8, 2]\n",
      "[5, 6, 7, 8] [5, 4, 3, 2]\n",
      "[[1 0 0 0 0 0 0 0 1 2]\n",
      " [0 1 0 0 1 0 0 1 0 2]\n",
      " [1 1 2 0 1 0 1 0 0 2]\n",
      " [0 1 0 1 2 1 0 0 0 1]\n",
      " [0 0 1 0 3 0 0 0 0 1]\n",
      " [0 0 0 2 1 2 0 0 0 1]\n",
      " [0 0 1 0 3 0 1 0 0 0]\n",
      " [1 2 1 2 2 0 0 1 0 0]\n",
      " [1 0 1 0 1 0 0 0 1 0]\n",
      " [0 0 0 0 1 0 0 0 0 0]]\n"
     ]
    },
    {
     "name": "stderr",
     "output_type": "stream",
     "text": [
      "/tmp/ipykernel_2249005/1658101582.py:7: DeprecationWarning: `np.int` is a deprecated alias for the builtin `int`. To silence this warning, use `int` by itself. Doing this will not modify any behavior and is safe. When replacing `np.int`, you may wish to use e.g. `np.int64` or `np.int32` to specify the precision. If you wish to review your current use, check the release note link for additional information.\n",
      "Deprecated in NumPy 1.20; for more details and guidance: https://numpy.org/devdocs/release/1.20.0-notes.html#deprecations\n",
      "  chart = np.zeros(size, dtype=np.int)\n"
     ]
    },
    {
     "data": {
      "text/plain": [
       "12"
      ]
     },
     "execution_count": 25,
     "metadata": {},
     "output_type": "execute_result"
    }
   ],
   "source": [
    "solution2(test)"
   ]
  },
  {
   "cell_type": "code",
   "execution_count": 28,
   "id": "c21cd408-238f-4a0f-9611-b513b96b604d",
   "metadata": {},
   "outputs": [
    {
     "name": "stdout",
     "output_type": "stream",
     "text": [
      "Chart is [991 991]\n",
      "[[0 0 0 ... 0 0 0]\n",
      " [0 0 0 ... 0 0 0]\n",
      " [0 0 0 ... 0 0 0]\n",
      " ...\n",
      " [0 0 0 ... 0 0 0]\n",
      " [0 0 0 ... 0 0 0]\n",
      " [0 0 0 ... 0 0 0]]\n"
     ]
    },
    {
     "name": "stderr",
     "output_type": "stream",
     "text": [
      "/tmp/ipykernel_2249005/1658101582.py:7: DeprecationWarning: `np.int` is a deprecated alias for the builtin `int`. To silence this warning, use `int` by itself. Doing this will not modify any behavior and is safe. When replacing `np.int`, you may wish to use e.g. `np.int64` or `np.int32` to specify the precision. If you wish to review your current use, check the release note link for additional information.\n",
      "Deprecated in NumPy 1.20; for more details and guidance: https://numpy.org/devdocs/release/1.20.0-notes.html#deprecations\n",
      "  chart = np.zeros(size, dtype=np.int)\n"
     ]
    },
    {
     "data": {
      "text/plain": [
       "19472"
      ]
     },
     "execution_count": 28,
     "metadata": {},
     "output_type": "execute_result"
    }
   ],
   "source": [
    "solution2(inputs)"
   ]
  },
  {
   "cell_type": "code",
   "execution_count": null,
   "id": "c9d4a237-17af-4e9c-8b9c-dd7602117779",
   "metadata": {},
   "outputs": [],
   "source": []
  }
 ],
 "metadata": {
  "kernelspec": {
   "display_name": "Python 3 (ipykernel)",
   "language": "python",
   "name": "python3"
  },
  "language_info": {
   "codemirror_mode": {
    "name": "ipython",
    "version": 3
   },
   "file_extension": ".py",
   "mimetype": "text/x-python",
   "name": "python",
   "nbconvert_exporter": "python",
   "pygments_lexer": "ipython3",
   "version": "3.8.10"
  }
 },
 "nbformat": 4,
 "nbformat_minor": 5
}
