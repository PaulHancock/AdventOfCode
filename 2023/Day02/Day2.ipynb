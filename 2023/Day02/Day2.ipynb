{
 "cells": [
  {
   "cell_type": "markdown",
   "metadata": {},
   "source": [
    "# Day 2: Cube Conundrum\n",
    "You're launched high into the atmosphere! The apex of your trajectory just barely reaches the surface of a large island floating in the sky. You gently land in a fluffy pile of leaves. It's quite cold, but you don't see much snow. An Elf runs over to greet you.\n",
    "\n",
    "The Elf explains that you've arrived at Snow Island and apologizes for the lack of snow. He'll be happy to explain the situation, but it's a bit of a walk, so you have some time. They don't get many visitors up here; would you like to play a game in the meantime?\n",
    "\n",
    "As you walk, the Elf shows you a small bag and some cubes which are either red, green, or blue. Each time you play this game, he will hide a secret number of cubes of each color in the bag, and your goal is to figure out information about the number of cubes.\n",
    "\n",
    "To get information, once a bag has been loaded with cubes, the Elf will reach into the bag, grab a handful of random cubes, show them to you, and then put them back in the bag. He'll do this a few times per game.\n",
    "\n",
    "You play several games and record the information from each game (your puzzle input). Each game is listed with its ID number (like the 11 in Game 11: ...) followed by a semicolon-separated list of subsets of cubes that were revealed from the bag (like 3 red, 5 green, 4 blue).\n",
    "\n",
    "For example, the record of a few games might look like this:\n",
    "\n",
    "```\n",
    "Game 1: 3 blue, 4 red; 1 red, 2 green, 6 blue; 2 green\n",
    "Game 2: 1 blue, 2 green; 3 green, 4 blue, 1 red; 1 green, 1 blue\n",
    "Game 3: 8 green, 6 blue, 20 red; 5 blue, 4 red, 13 green; 5 green, 1 red\n",
    "Game 4: 1 green, 3 red, 6 blue; 3 green, 6 red; 3 green, 15 blue, 14 red\n",
    "Game 5: 6 red, 1 blue, 3 green; 2 blue, 1 red, 2 green\n",
    "```\n",
    "\n",
    "In game 1, three sets of cubes are revealed from the bag (and then put back again). The first set is 3 blue cubes and 4 red cubes; the second set is 1 red cube, 2 green cubes, and 6 blue cubes; the third set is only 2 green cubes.\n",
    "\n",
    "The Elf would first like to know which games would have been possible if the bag contained only 12 red cubes, 13 green cubes, and 14 blue cubes?\n",
    "\n",
    "In the example above, games 1, 2, and 5 would have been possible if the bag had been loaded with that configuration. However, game 3 would have been impossible because at one point the Elf showed you 20 red cubes at once; similarly, game 4 would also have been impossible because the Elf showed you 15 blue cubes at once. If you add up the IDs of the games that would have been possible, you get 8.\n",
    "\n",
    "Determine which games would have been possible if the bag had been loaded with only 12 red cubes, 13 green cubes, and 14 blue cubes. What is the sum of the IDs of those games?"
   ]
  },
  {
   "cell_type": "code",
   "execution_count": 1,
   "metadata": {},
   "outputs": [],
   "source": [
    "import dask.bag as db"
   ]
  },
  {
   "cell_type": "code",
   "execution_count": 2,
   "metadata": {},
   "outputs": [],
   "source": [
    "bag = db.read_text('Q1_test.txt')"
   ]
  },
  {
   "cell_type": "code",
   "execution_count": 16,
   "metadata": {},
   "outputs": [],
   "source": [
    "RGB_total = [ 12, 13, 14]\n",
    "\n",
    "def check_draws(line: str) -> str:\n",
    "    for d in line.split(';'):\n",
    "        block_draw = d.split(',')\n",
    "        for blocks in block_draw:\n",
    "            # print(blocks, block_draw,line)\n",
    "            if 'red' in blocks:\n",
    "                if int(blocks.split()[0].strip()) > RGB_total[0]:\n",
    "                    # print(f\"{block_draw} is NOT possible\")\n",
    "                    return False\n",
    "            elif 'green' in blocks:\n",
    "                if int(blocks.split()[0].strip()) > RGB_total[1]:\n",
    "                    # print(f\"{block_draw} is NOT possible\")\n",
    "                    return False\n",
    "            elif 'blue' in blocks:\n",
    "                if int(blocks.split()[0].strip()) > RGB_total[2]:\n",
    "                    # print(f\"{block_draw} is NOT possible\")\n",
    "                    return False\n",
    "            else:\n",
    "                # print(f\"error parsing blocks {blocks}\")\n",
    "                return False\n",
    "        # print(f\"{block_draw} is possible\")\n",
    "    return True\n",
    "\n",
    "\n",
    "def score_game(line: str) -> int:\n",
    "    game_id, draws = line.split(':')\n",
    "    if check_draws(draws):\n",
    "        return int(game_id.split()[-1])\n",
    "    return 0"
   ]
  },
  {
   "cell_type": "code",
   "execution_count": 18,
   "metadata": {},
   "outputs": [
    {
     "name": "stdout",
     "output_type": "stream",
     "text": [
      "[' 3 blue', ' 4 red'] is possible\n",
      "[' 1 red', ' 2 green', ' 6 blue'] is possible\n",
      "[' 2 green\\n'] is possible\n",
      "[' 1 blue', ' 2 green'] is possible\n",
      "[' 3 green', ' 4 blue', ' 1 red'] is possible\n",
      "[' 1 green', ' 1 blue\\n'] is possible\n",
      "[' 8 green', ' 6 blue', ' 20 red'] is NOT possible\n",
      "[' 1 green', ' 3 red', ' 6 blue'] is possible\n",
      "[' 3 green', ' 6 red'] is possible\n",
      "[' 3 green', ' 15 blue', ' 14 red\\n'] is NOT possible\n",
      "[' 6 red', ' 1 blue', ' 3 green'] is possible\n",
      "[' 2 blue', ' 1 red', ' 2 green'] is possible\n"
     ]
    },
    {
     "data": {
      "text/plain": [
       "8"
      ]
     },
     "execution_count": 18,
     "metadata": {},
     "output_type": "execute_result"
    }
   ],
   "source": [
    "bag.map(score_game).sum().compute()"
   ]
  },
  {
   "cell_type": "code",
   "execution_count": null,
   "metadata": {},
   "outputs": [],
   "source": []
  }
 ],
 "metadata": {
  "kernelspec": {
   "display_name": ".py3",
   "language": "python",
   "name": "python3"
  },
  "language_info": {
   "codemirror_mode": {
    "name": "ipython",
    "version": 3
   },
   "file_extension": ".py",
   "mimetype": "text/x-python",
   "name": "python",
   "nbconvert_exporter": "python",
   "pygments_lexer": "ipython3",
   "version": "3.8.10"
  }
 },
 "nbformat": 4,
 "nbformat_minor": 2
}
